{
  "cells": [
    {
      "cell_type": "markdown",
      "metadata": {
        "id": "view-in-github",
        "colab_type": "text"
      },
      "source": [
        "<a href=\"https://colab.research.google.com/github/sparkyfina/ragqa/blob/main/RAQA_Assignment.ipynb\" target=\"_parent\"><img src=\"https://colab.research.google.com/assets/colab-badge.svg\" alt=\"Open In Colab\"/></a>"
      ]
    },
    {
      "cell_type": "markdown",
      "metadata": {
        "id": "juyRJ80UilBd"
      },
      "source": [
        "# Your First RAQA Application\n",
        "\n",
        "In this notebook, we'll walk you through each of the components that are involved in a simple RAQA application.\n",
        "\n",
        "We won't be leveraging any fancy tools, just the OpenAI Python SDK, Numpy, and some classic Python.\n",
        "\n",
        "> NOTE: This was done with Python 3.11.4."
      ]
    },
    {
      "cell_type": "markdown",
      "metadata": {
        "id": "AblsgwdTilBf"
      },
      "source": [
        "Let's look at a rather complicated looking visual representation of a basic RAQA application.\n",
        "\n",
        "<img src=\"https://i.imgur.com/PvlaIUO.png\" />"
      ]
    },
    {
      "cell_type": "markdown",
      "metadata": {
        "id": "oz2FZgjyilBg"
      },
      "source": [
        "### Imports and Utility\n",
        "\n",
        "We're just doing some imports and enabling `async` to work within the Jupyter environment here, nothing too crazy!"
      ]
    },
    {
      "cell_type": "code",
      "execution_count": null,
      "metadata": {
        "id": "Hea7P1ehilBg"
      },
      "outputs": [],
      "source": [
        "!pip install -q -U numpy matplotlib plotly pandas scipy scikit-learn openai python-dotenv"
      ]
    },
    {
      "cell_type": "code",
      "execution_count": null,
      "metadata": {
        "id": "xsOMMuCWilBh"
      },
      "outputs": [],
      "source": [
        "from aimakerspace.text_utils import TextFileLoader, CharacterTextSplitter\n",
        "from aimakerspace.vectordatabase import VectorDatabase\n",
        "import asyncio"
      ]
    },
    {
      "cell_type": "code",
      "execution_count": null,
      "metadata": {
        "id": "WFClMFZlilBh"
      },
      "outputs": [],
      "source": [
        "import nest_asyncio\n",
        "nest_asyncio.apply()"
      ]
    },
    {
      "cell_type": "markdown",
      "metadata": {
        "id": "8wyxzkeHilBi"
      },
      "source": [
        "# Documents\n",
        "\n",
        "We'll be concerning ourselves with this part of the flow in the following section:\n",
        "\n",
        "<img src=\"https://i.imgur.com/jTm9gjk.png\" />"
      ]
    },
    {
      "cell_type": "code",
      "execution_count": null,
      "metadata": {
        "id": "OJXC1wSuilBi",
        "outputId": "679e38f5-a68c-47b5-a7c9-32ffcd3947a8"
      },
      "outputs": [
        {
          "name": "stdout",
          "output_type": "stream",
          "text": [
            "Requirement already satisfied: PyPDF2 in /home/sparky/anaconda3/envs/ragqa/lib/python3.11/site-packages (3.0.1)\n"
          ]
        }
      ],
      "source": [
        "!pip install PyPDF2"
      ]
    },
    {
      "cell_type": "code",
      "execution_count": null,
      "metadata": {
        "id": "fnrk2VclilBj",
        "outputId": "6d999ab0-336b-47a9-94ee-b975752ebecb"
      },
      "outputs": [
        {
          "name": "stdout",
          "output_type": "stream",
          "text": [
            "Total number of pages =  10\n",
            "Contents\n",
            "1 Template 5\n",
            "1.1 How tocompilea .texﬁleto a .pdfﬁle. . . . . . . . . . . . . 5\n",
            "1.1.1 Tools . . . . . . . . . . . . . . . . . . . . . . . . . . . . 5\n",
            "1.1.2 How to usethetools . . . . . . . . . . . . . . . . . . . . 5\n",
            "1.2 How towritea document . . . . . . . . . . . . . . . . . . . . . . 6\n",
            "1.2.1 Themaindocument . . . . . . . . . . . . . . . . . . . . . 6\n",
            "1.2.2 Chapters . . . . . . . . . . . . . . . . . . . . . . . . . . 6\n",
            "1.2.3 Spell-checking . . . . . . . . . . . . . . . . . . . . . . . 6\n",
            "1.3 L ATEXand pdfL ATEXcapabilities . . . . . . . . . . . . . . . . . . . 7\n",
            "1.3.1 Overview . . . . . . . . . . . . . . . . . . . . . . . . . . 7\n",
            "1.3.2 L ATEX. . . . . . . . . . . . . . . . . . . . . . . . . . . . 7\n",
            "1.3.3 pdfL ATEX. . . . . . . . . . . . . . . . . . . . . . . . . . 7\n",
            "1.3.4 Examples . . . . . . . . . . . . . . . . . . . . . . . . . . 7\n",
            "3\n"
          ]
        }
      ],
      "source": [
        "# importing required modules\n",
        "from PyPDF2 import PdfReader\n",
        "\n",
        "# creating a pdf reader object\n",
        "reader = PdfReader('sample.pdf')\n",
        "\n",
        "# printing number of pages in pdf file\n",
        "total_pages = len(reader.pages)\n",
        "print(\"Total number of pages = \", len(reader.pages))\n",
        "\n",
        "# getting a specific page from the pdf file\n",
        "page = reader.pages[2]\n",
        "\n",
        "# extracting text from page\n",
        "text = page.extract_text()\n",
        "print(text)\n"
      ]
    },
    {
      "cell_type": "code",
      "execution_count": null,
      "metadata": {
        "id": "TIPw8F0GilBj",
        "outputId": "26f36c99-118e-49af-b431-1431401d9ab0"
      },
      "outputs": [
        {
          "name": "stdout",
          "output_type": "stream",
          "text": [
            "Sample PDF Document\n",
            "RobertMaron\n",
            "Grzegorz Grudzi ´nski\n",
            "February20, 1999\n",
            "2\n",
            "Contents\n",
            "1 Template 5\n",
            "1.1 How tocompilea .texﬁleto a .pdfﬁle. . . . . . . . . . . . . 5\n",
            "1.1.1 Tools . . . . . . . . . . . . . . . . . . . . . . . . . . . . 5\n",
            "1.1.2 How to usethetools . . . . . . . . . . . . . . . . . . . . 5\n",
            "1.2 How towritea document . . . . . . . . . . . . . . . . . . . . . . 6\n",
            "1.2.1 Themaindocument . . . . . . . . . . . . . . . . . . . . . 6\n",
            "1.2.2 Chapters . . . . . . . . . . . . . . . . . . . . . . . . . . 6\n",
            "1.2.3 Spell-checking . . . . . . . . . . . . . . . . . . . . . . . 6\n",
            "1.3 L ATEXand pdfL ATEXcapabilities . . . . . . . . . . . . . . . . . . . 7\n",
            "1.3.1 Overview . . . . . . . . . . . . . . . . . . . . . . . . . . 7\n",
            "1.3.2 L ATEX. . . . . . . . . . . . . . . . . . . . . . . . . . . . 7\n",
            "1.3.3 pdfL ATEX. . . . . . . . . . . . . . . . . . . . . . . . . . 7\n",
            "1.3.4 Examples . . . . . . . . . . . . . . . . . . . . . . . . . . 7\n",
            "3\n",
            "4 CONTENTS\n",
            "Chapter 1\n",
            "Template\n",
            "1.1 How to compilea .texﬁleto a.pdfﬁle\n",
            "1.1.1 Tools\n",
            "To processthe ﬁlesyou(may)need:\n",
            "\u000fpdflatex (for example from tetexpackage\u00150.9-6, which you can\n",
            "getfromRed Hat5.2 );\n",
            "\u000facroread (a PDFviewer,availablefrom http://www.adobe.com/ );\n",
            "\u000fghostscript\u00155.10(forexamplefrom RedHatContrib )andghostview\n",
            "orgv(fromRedHatLinux);\n",
            "\u000fefaxpackagecouldbe useful,ifyou plantofax documents.\n",
            "1.1.2 How touse the tools\n",
            "Follow thesesteps:\n",
            "1.putallsource .texﬁlesinonedirectory,thenchdirtothedirectory(orput\n",
            "someofthemin theL ATEXsearchpath—if youknowhowto dothis);\n",
            "2.run“pdflatex file.tex ”onthemainﬁleofthedocumentthreetimes\n",
            "(three—to preparevalidtable ofcontents);\n",
            "3.to see or print the result use acroread (unfortunately some versions of\n",
            "acroread mayproducePostScriptwhichistoo complex),or\n",
            "5\n",
            "6 CHAPTER1. TEMPLATE\n",
            "4.runghostscript : “gv file.pdf ” todisplayor:\n",
            "“gs -dNOPAUSE -sDEVICE=pswrite -q -dBATCH -sOutputFile=ﬁle.ps ﬁle.pdf”\n",
            "to produce a PostScriptﬁle;\n",
            "5.run“fax send phone-number file.ps ”asroottosendafax,or—ifyou\n",
            "knowhowtodothis—modifythe faxscripttobeabletofax .pdfﬁlesdirectly\n",
            "(you have to insert“ |%PDF*” somewhere...).\n",
            "1.2 How towrite adocument\n",
            "1.2.1 Themain document\n",
            "Choose the name of the document, say document . Copy template.tex to\n",
            "document.tex , then edit it, change the title, the authors and set proper in-\n",
            "clude(s)for allthechapters.\n",
            "1.2.2 Chapters\n",
            "Eachchaptershouldbeincludedinthemaindocumentasaseparateﬁle. Youcan\n",
            "choose any name for the ﬁle, but we suggest adding a sufﬁx to the name of the\n",
            "mainﬁle. Forour examplewe usetheﬁle name document_chapter1.tex .\n",
            "First, copy template_chapter.tex todocument_chapter1.tex\n",
            "andaddthe line\n",
            "\\include{document_chapter1}\n",
            "inthedocument.tex ,thenedit document_chapter1.tex ,changethe\n",
            "chaptertitleand editthebody ofthechapterappropriately.\n",
            "1.2.3 Spell-checking\n",
            "Douse aspell-checker, please!\n",
            "You may also want to check grammar, style and so on. Actually you should\n",
            "doit (ifyou have enoughsparetime). But you mustcheckspelling!\n",
            "You can use the ispell package for this, from within emacs, or from the\n",
            "commandline:\n",
            "ispell -t document_chapter1.tex\n",
            "1.3. LATEX ANDPDFL ATEXCAPABILITIES 7\n",
            "1.3 LATEX andpdfLATEX capabilities\n",
            "1.3.1 Overview\n",
            "First you edit your source .texﬁle. In L ATEX you compile it using the latex\n",
            "command to a .dviﬁle (which stands for device-independent). The .dviﬁle\n",
            "can be converted to any device-dependent format you like using an appropriate\n",
            "driver, forexample dvips.\n",
            "When producing .pdfﬁles you should use pdflatex , which produces di-\n",
            "rectly.pdfﬁles out of .texsources. Note that in the .texﬁle you may need\n",
            "to usesomePDFspeciﬁcpackages.\n",
            "For viewing .texﬁles use your favourite text editor, for viewing .dviﬁles\n",
            "under X Window System use xdvicommand, .psﬁles can be viewed with gv\n",
            "(orghostview ) and.pdfﬁleswith acroread ,gvorxpdf.\n",
            "1.3.2 LATEX\n",
            "A lotof examplescanbe foundinthis document.\n",
            "Youshouldalsoprint\n",
            "\u000fdoc/latex/general/latex2e.dvi and\n",
            "\u000fdoc/latex/general/lshort2e.dvi\n",
            "fromyour tetexdistribution(usuallyin\n",
            "\u000f/usr/share/texmf or\n",
            "\u000f/usr/lib/texmf/texmf ).\n",
            "1.3.3 pdfLATEX\n",
            "Consult doc/pdftex/manual.pdf from your tetexdistribution for more\n",
            "details. Veryusefulinformationscanbefoundinthe hyperref andgraphics\n",
            "packagemanuals:\n",
            "\u000fdoc/latex/hyperref/manual.pdf and\n",
            "\u000fdoc/latex/graphics/grfguide.dvi .\n",
            "1.3.4 Examples\n",
            "References\n",
            "MIMUW\n",
            "8 CHAPTER1. TEMPLATE\n",
            "Hyperlinks\n",
            "Thisisa target.\n",
            "Andthisis alink.\n",
            "Dashes,etc.\n",
            "Therearethreekindsof horizontaldash:\n",
            "\u000f- (useinsidewords;forexample“home-page”,“X-rated”)\n",
            "\u000f– (usethisonebetweennumbers;for example“pages2–22”)\n",
            "\u000f— (usethisoneas a sentenceseparator— like here)\n",
            "Nationalcharacters\n",
            "\u000fó, é,í, ...\n",
            "\u000fè, à,ì, ...\n",
            "\u000fô, ê,...\n",
            "\u000fõ, ñ,...\n",
            "\u000fö, ë,...\n",
            "\u000f˙ z\n",
            "\u000f˛ a, ˛ e\n",
            "\u000fł, ø,ß\n",
            "There are other ways to do this, see the documentation for inputenc pack-\n",
            "age.\n",
            "Reserved characters\n",
            "Some characters have some special meaning, thus cannot be entered in the usual\n",
            "way.\n",
            "\u000f$ &% # _{ }\n",
            "\u000fn\n",
            "\u000f˜ ˆ\n",
            "1.3. LATEX ANDPDFL ATEXCAPABILITIES 9\n",
            "Math\n",
            "\u000f12,12n, ...\n",
            "\u000fi1,i2n, ...\n",
            "\u000f1\n",
            "2,2n\n",
            "2\u00003,...\n",
            ",\u000b,\f,\n",
            ", ...\n",
            "\u000f!,),\u0015,6=,2,?, ...\n",
            "\u000fp\n",
            "2, ...\n",
            "\u000f2 + 2, ...\n",
            "Formoreexamplesandsymbolsseechapter3of lshort2e.dvi .\n",
            "Fonts\n",
            "\u000fRoman\n",
            "\u000fEmphasis\n",
            "\u000fMediumweight—the default\n",
            "\u000fBoldface\n",
            "\u000fUpright\n",
            "\u000fSlanted\n",
            "\u000fSansserif\n",
            "\u000fSMALL CAPS\n",
            "\u000fTypewriter\n",
            "\u000fandsizes:\n",
            "–tiny\n",
            "–scriptsize\n",
            "–footnotesize\n",
            "–small\n",
            "–normalsize\n",
            "10 CHAPTER1. TEMPLATE\n",
            "–large\n",
            "–Large\n",
            "–LARGE\n",
            "–huge\n",
            "–Huge\n"
          ]
        }
      ],
      "source": [
        "for page in reader.pages:\n",
        "    print(page.extract_text())"
      ]
    },
    {
      "cell_type": "markdown",
      "metadata": {
        "id": "8ovM5ZFdilBj"
      },
      "source": [
        "### Loading Source Documents\n",
        "\n",
        "So, first things first, we need some documents to work with.\n",
        "\n",
        "While we could work directly with the `.txt` files (or whatever file-types you wanted to extend this to) we can instead do some batch processing of those documents at the beginning in order to store them in a more machine compatible format.\n",
        "\n",
        "In this case, we're going to parse our text file into a single document in memory.\n",
        "\n",
        "Let's look at the relevant bits of the `TextFileLoader` class:\n",
        "\n",
        "```python\n",
        "def load_file(self):\n",
        "        with open(self.path, \"r\", encoding=self.encoding) as f:\n",
        "            self.documents.append(f.read())\n",
        "```\n",
        "\n",
        "We're simply loading the document using the built in `open` method, and storing that output in our `self.documents` list.\n"
      ]
    },
    {
      "cell_type": "code",
      "execution_count": null,
      "metadata": {
        "id": "BH7U_5ANilBj",
        "outputId": "0d6df2db-b028-4424-b51d-ec3e134d3216"
      },
      "outputs": [
        {
          "data": {
            "text/plain": [
              "1"
            ]
          },
          "execution_count": 12,
          "metadata": {},
          "output_type": "execute_result"
        }
      ],
      "source": [
        "text_loader = TextFileLoader(\"data/KingLear.txt\")\n",
        "documents = text_loader.load_documents()\n",
        "len(documents)"
      ]
    },
    {
      "cell_type": "code",
      "execution_count": null,
      "metadata": {
        "id": "SykZ7nMEilBk",
        "outputId": "1aef5b1b-895d-41d8-835e-298a0ac3bb35"
      },
      "outputs": [
        {
          "name": "stdout",
          "output_type": "stream",
          "text": [
            "ACT I\n",
            "SCENE I. King Lear's palace.\n",
            "Enter KENT, GLOUCESTER, and EDMUND\n",
            "KENT\n",
            "I thought the king had m\n"
          ]
        }
      ],
      "source": [
        "print(documents[0][:100])"
      ]
    },
    {
      "cell_type": "code",
      "execution_count": null,
      "metadata": {
        "id": "g1yQ_GUgilBk",
        "outputId": "0904bfa8-b85d-4bf4-f419-8ebaf5738473"
      },
      "outputs": [
        {
          "name": "stdout",
          "output_type": "stream",
          "text": [
            "[\"\\ufeffACT I\\nSCENE I. King Lear's palace.\\nEnter KENT, GLOUCESTER, and EDMUND\\nKENT\\nI thought the king had more affected the Duke of\\nAlbany than Cornwall.\\nGLOUCESTER\\nIt did always seem so to us: but now, in the\\ndivision of the kingdom, it appears not which of\\nthe dukes he values most; for equalities are so\\nweighed, that curiosity in neither can make choice\\nof either's moiety.\\nKENT\\nIs not this your son, my lord?\\nGLOUCESTER\\nHis breeding, sir, hath been at my charge: I have\\nso often blushed to acknowledge him, that now I am\\nbrazed to it.\\nKENT\\nI cannot conceive you.\\nGLOUCESTER\\nSir, this young fellow's mother could: whereupon\\nshe grew round-wombed, and had, indeed, sir, a son\\nfor her cradle ere she had a husband for her bed.\\nDo you smell a fault?\\nKENT\\nI cannot wish the fault undone, the issue of it\\nbeing so proper.\\nGLOUCESTER\\nBut I have, sir, a son by order of law, some year\\nelder than this, who yet is no dearer in my account:\\nthough this knave came something saucily into the\\nworld before he was sent for, yet was his mother\\nfair; there was good sport at his making, and the\\nwhoreson must be acknowledged. Do you know this\\nnoble gentleman, Edmund?\\nEDMUND\\nNo, my lord.\\nGLOUCESTER\\nMy lord of Kent: remember him hereafter as my\\nhonourable friend.\\nEDMUND\\nMy services to your lordship.\\nKENT\\nI must love you, and sue to know you better.\\nEDMUND\\nSir, I shall study deserving.\\nGLOUCESTER\\nHe hath been out nine years, and away he shall\\nagain. The king is coming.\\nSennet. Enter KING LEAR, CORNWALL, ALBANY, GONERIL, REGAN, CORDELIA, and Attendants\\n\\nKING LEAR\\nAttend the lords of France and Burgundy, Gloucester.\\nGLOUCESTER\\nI shall, my liege.\\nExeunt GLOUCESTER and EDMUND\\n\\nKING LEAR\\nMeantime we shall express our darker purpose.\\nGive me the map there. Know that we have divided\\nIn three our kingdom: and 'tis our fast intent\\nTo shake all cares and business from our age;\\nConferring them on younger strengths, while we\\nUnburthen'd crawl toward death. Our son of Cornwall,\\nAnd you, our no less loving son of Albany,\\nWe have this hour a constant will to publish\\nOur daughters' several dowers, that future strife\\nMay be prevented now. The princes, France and Burgundy,\\nGreat rivals in our youngest daughter's love,\\nLong in our court have made their amorous sojourn,\\nAnd here are to be answer'd. Tell me, my daughters,--\\nSince now we will divest us both of rule,\\nInterest of territory, cares of state,--\\nWhich of you shall we say doth love us most?\\nThat we our largest bounty may extend\\nWhere nature doth with merit challenge. Goneril,\\nOur eldest-born, speak first.\\nGONERIL\\nSir, I love you more than words can wield the matter;\\nDearer than eye-sight, space, and liberty;\\nBeyond what can be valued, rich or rare;\\nNo less than life, with grace, health, beauty, honour;\\nAs much as child e'er loved, or father found;\\nA love that makes breath poor, and speech unable;\\nBeyond all manner of so much I love you.\\nCORDELIA\\n[Aside] What shall Cordelia do?\\nLove, and be silent.\\nLEAR\\nOf all these bounds, even from this line to this,\\nWith shadowy forests and with champains rich'd,\\nWith plenteous rivers and wide-skirted meads,\\nWe make thee lady: to thine and Albany's issue\\nBe this perpetual. What says our second daughter,\\nOur dearest Regan, wife to Cornwall? Speak.\\nREGAN\\nSir, I am made\\nOf the self-same metal that my sister is,\\nAnd prize me at her worth. In my true heart\\nI find she names my very deed of love;\\nOnly she comes too short: that I profess\\nMyself an enemy to all other joys,\\nWhich the most precious square of sense possesses;\\nAnd find I am alone felicitate\\nIn your dear highness' love.\\nCORDELIA\\n[Aside] Then poor Cordelia!\\nAnd yet not so; since, I am sure, my love's\\nMore richer than my tongue.\\nKING LEAR\\nTo thee and thine hereditary ever\\nRemain this ample third of our fair kingdom;\\nNo less in space, validity, and pleasure,\\nThan that conferr'd on Goneril. Now, our joy,\\nAlthough the last, not least; to whose young love\\nThe vines of France and milk of Burgundy\\nStrive to be interess'd; what can you say to draw\\nA third more opulent than your sisters? Speak.\\nCORDELIA\\nNothing, my lord.\\nKING LEAR\\nNothing!\\nCORDELIA\\nNothing.\\nKING LEAR\\nNothing will come of nothing: speak again.\\nCORDELIA\\nUnhappy that I am, I cannot heave\\nMy heart into my mouth: I love your majesty\\nAccording to my bond; nor more nor less.\\nKING LEAR\\nHow, how, Cordelia! mend your speech a little,\\nLest it may mar your fortunes.\\nCORDELIA\\nGood my lord,\\nYou have begot me, bred me, loved me: I\\nReturn those duties back as are right fit,\\nObey you, love you, and most honour you.\\nWhy have my sisters husbands, if they say\\nThey love you all? Haply, when I shall wed,\\nThat lord whose hand must take my plight shall carry\\nHalf my love with him, half my care and duty:\\nSure, I shall never marry like my sisters,\\nTo love my father all.\\nKING LEAR\\nBut goes thy heart with this?\\nCORDELIA\\nAy, good my lord.\\nKING LEAR\\nSo young, and so untender?\\nCORDELIA\\nSo young, my lord, and true.\\nKING LEAR\\nLet it be so; thy truth, then, be thy dower:\\nFor, by the sacred radiance of the sun,\\nThe mysteries of Hecate, and the night;\\nBy all the operation of the orbs\\nFrom whom we do exist, and cease to be;\\nHere I disclaim all my paternal care,\\nPropinquity and property of blood,\\nAnd as a stranger to my heart and me\\nHold thee, from this, for ever. The barbarous Scythian,\\nOr he that makes his generation messes\\nTo gorge his appetite, shall to my bosom\\nBe as well neighbour'd, pitied, and relieved,\\nAs thou my sometime daughter.\\nKENT\\nGood my liege,--\\nKING LEAR\\nPeace, Kent!\\nCome not between the dragon and his wrath.\\nI loved her most, and thought to set my rest\\nOn her kind nursery. Hence, and avoid my sight!\\nSo be my grave my peace, as here I give\\nHer father's heart from her! Call France; who stirs?\\nCall Burgundy. Cornwall and Albany,\\nWith my two daughters' dowers digest this third:\\nLet pride, which she calls plainness, marry her.\\nI do invest you jointly with my power,\\nPre-eminence, and all the large effects\\nThat troop with majesty. Ourself, by monthly course,\\nWith reservation of an hundred knights,\\nBy you to be sustain'd, shall our abode\\nMake with you by due turns. Only we still retain\\nThe name, and all the additions to a king;\\nThe sway, revenue, execution of the rest,\\nBeloved sons, be yours: which to confirm,\\nThis coronet part betwixt you.\\nGiving the crown\\n\\nKENT\\nRoyal Lear,\\nWhom I have ever honour'd as my king,\\nLoved as my father, as my master follow'd,\\nAs my great patron thought on in my prayers,--\\nKING LEAR\\nThe bow is bent and drawn, make from the shaft.\\nKENT\\nLet it fall rather, though the fork invade\\nThe region of my heart: be Kent unmannerly,\\nWhen Lear is mad. What wilt thou do, old man?\\nThink'st thou that duty shall have dread to speak,\\nWhen power to flattery bows? To plainness honour's bound,\\nWhen majesty stoops to folly. Reverse thy doom;\\nAnd, in thy best consideration, cheque\\nThis hideous rashness: answer my life my judgment,\\nThy youngest daughter does not love thee least;\\nNor are those empty-hearted whose low sound\\nReverbs no hollowness.\\nKING LEAR\\nKent, on thy life, no more.\\nKENT\\nMy life I never held but as a pawn\\nTo wage against thy enemies; nor fear to lose it,\\nThy safety being the motive.\\nKING LEAR\\nOut of my sight!\\nKENT\\nSee better, Lear; and let me still remain\\nThe true blank of thine eye.\\nKING LEAR\\nNow, by Apollo,--\\nKENT\\nNow, by Apollo, king,\\nThou swear'st thy gods in vain.\\nKING LEAR\\nO, vassal! miscreant!\\nLaying his hand on his sword\\n\\nALBANY CORNWALL\\nDear sir, forbear.\\nKENT\\nDo:\\nKill thy physician, and the fee bestow\\nUpon thy foul disease. Revoke thy doom;\\nOr, whilst I can vent clamour from my throat,\\nI'll tell thee thou dost evil.\\nKING LEAR\\nHear me, recreant!\\nOn thine allegiance, hear me!\\nSince thou hast sought to make us break our vow,\\nWhich we durst never yet, and with strain'd pride\\nTo come between our sentence and our power,\\nWhich nor our nature nor our place can bear,\\nOur potency made good, take thy reward.\\nFive days we do allot thee, for provision\\nTo shield thee from diseases of the world;\\nAnd on the sixth to turn thy hated back\\nUpon our kingdom: if, on the tenth day following,\\nThy banish'd trunk be found in our dominions,\\nThe moment is thy death. Away! by Jupiter,\\nThis shall not be revoked.\\nKENT\\nFare thee well, king: sith thus thou wilt appear,\\nFreedom lives hence, and banishment is here.\\nTo CORDELIA\\n\\nThe gods to their dear shelter take thee, maid,\\nThat justly think'st, and hast most rightly said!\\nTo REGAN and GONERIL\\n\\nAnd your large speeches may your deeds approve,\\nThat good effects may spring from words of love.\\nThus Kent, O princes, bids you all adieu;\\nHe'll shape his old course in a country new.\\nExit\\n\\nFlourish. Re-enter GLOUCESTER, with KING OF FRANCE, BURGUNDY, and Attendants\\n\\nGLOUCESTER\\nHere's France and Burgundy, my noble lord.\\nKING LEAR\\nMy lord of Burgundy.\\nWe first address towards you, who with this king\\nHath rivall'd for our daughter: what, in the least,\\nWill you require in present dower with her,\\nOr cease your quest of love?\\nBURGUNDY\\nMost royal majesty,\\nI crave no more than what your highness offer'd,\\nNor will you tender less.\\nKING LEAR\\nRight noble Burgundy,\\nWhen she was dear to us, we did hold her so;\\nBut now her price is fall'n. Sir, there she stands:\\nIf aught within that little seeming substance,\\nOr all of it, with our displeasure pieced,\\nAnd nothing more, may fitly like your grace,\\nShe's there, and she is yours.\\nBURGUNDY\\nI know no answer.\\nKING LEAR\\nWill you, with those infirmities she owes,\\nUnfriended, new-adopted to our hate,\\nDower'd with our curse, and stranger'd with our oath,\\nTake her, or leave her?\\nBURGUNDY\\nPardon me, royal sir;\\nElection makes not up on such conditions.\\nKING LEAR\\nThen leave her, sir; for, by the power that made me,\\nI tell you all her wealth.\\nTo KING OF FRANCE\\n\\nFor you, great king,\\nI would not from your love make such a stray,\\nTo match you where I hate; therefore beseech you\\nTo avert your liking a more worthier way\\nThan on a wretch whom nature is ashamed\\nAlmost to acknowledge hers.\\nKING OF FRANCE\\nThis is most strange,\\nThat she, that even but now was your best object,\\nThe argument of your praise, balm of your age,\\nMost best, most dearest, should in this trice of time\\nCommit a thing so monstrous, to dismantle\\nSo many folds of favour. Sure, her offence\\nMust be of such unnatural degree,\\nThat monsters it, or your fore-vouch'd affection\\nFall'n into taint: which to believe of her,\\nMust be a faith that reason without miracle\\nCould never plant in me.\\nCORDELIA\\nI yet beseech your majesty,--\\nIf for I want that glib and oily art,\\nTo speak and purpose not; since what I well intend,\\nI'll do't before I speak,--that you make known\\nIt is no vicious blot, murder, or foulness,\\nNo unchaste action, or dishonour'd step,\\nThat hath deprived me of your grace and favour;\\nBut even for want of that for which I am richer,\\nA still-soliciting eye, and such a tongue\\nAs I am glad I have not, though not to have it\\nHath lost me in your liking.\\nKING LEAR\\nBetter thou\\nHadst not been born than not to have pleased me better.\\nKING OF FRANCE\\nIs it but this,--a tardiness in nature\\nWhich often leaves the history unspoke\\nThat it intends to do? My lord of Burgundy,\\nWhat say you to the lady? Love's not love\\nWhen it is mingled with regards that stand\\nAloof from the entire point. Will you have her?\\nShe is herself a dowry.\\nBURGUNDY\\nRoyal Lear,\\nGive but that portion which yourself proposed,\\nAnd here I take Cordelia by the hand,\\nDuchess of Burgundy.\\nKING LEAR\\nNothing: I have sworn; I am firm.\\nBURGUNDY\\nI am sorry, then, you have so lost a father\\nThat you must lose a husband.\\nCORDELIA\\nPeace be with Burgundy!\\nSince that respects of fortune are his love,\\nI shall not be his wife.\\nKING OF FRANCE\\nFairest Cordelia, that art most rich, being poor;\\nMost choice, forsaken; and most loved, despised!\\nThee and thy virtues here I seize upon:\\nBe it lawful I take up what's cast away.\\nGods, gods! 'tis strange that from their cold'st neglect\\nMy love should kindle to inflamed respect.\\nThy dowerless daughter, king, thrown to my chance,\\nIs queen of us, of ours, and our fair France:\\nNot all the dukes of waterish Burgundy\\nCan buy this unprized precious maid of me.\\nBid them farewell, Cordelia, though unkind:\\nThou losest here, a better where to find.\\nKING LEAR\\nThou hast her, France: let her be thine; for we\\nHave no such daughter, nor shall ever see\\nThat face of hers again. Therefore be gone\\nWithout our grace, our love, our benison.\\nCome, noble Burgundy.\\nFlourish. Exeunt all but KING OF FRANCE, GONERIL, REGAN, and CORDELIA\\n\\nKING OF FRANCE\\nBid farewell to your sisters.\\nCORDELIA\\nThe jewels of our father, with wash'd eyes\\nCordelia leaves you: I know you what you are;\\nAnd like a sister am most loath to call\\nYour faults as they are named. Use well our father:\\nTo your professed bosoms I commit him\\nBut yet, alas, stood I within his grace,\\nI would prefer him to a better place.\\nSo, farewell to you both.\\nREGAN\\nPrescribe not us our duties.\\nGONERIL\\nLet your study\\nBe to content your lord, who hath received you\\nAt fortune's alms. You have obedience scanted,\\nAnd well are worth the want that you have wanted.\\nCORDELIA\\nTime shall unfold what plaited cunning hides:\\nWho cover faults, at last shame them derides.\\nWell may you prosper!\\nKING OF FRANCE\\nCome, my fair Cordelia.\\nExeunt KING OF FRANCE and CORDELIA\\n\\nGONERIL\\nSister, it is not a little I have to say of what\\nmost nearly appertains to us both. I think our\\nfather will hence to-night.\\nREGAN\\nThat's most certain, and with you; next month with us.\\nGONERIL\\nYou see how full of changes his age is; the\\nobservation we have made of it hath not been\\nlittle: he always loved our sister most; and\\nwith what poor judgment he hath now cast her off\\nappears too grossly.\\nREGAN\\n'Tis the infirmity of his age: yet he hath ever\\nbut slenderly known himself.\\nGONERIL\\nThe best and soundest of his time hath been but\\nrash; then must we look to receive from his age,\\nnot alone the imperfections of long-engraffed\\ncondition, but therewithal the unruly waywardness\\nthat infirm and choleric years bring with them.\\nREGAN\\nSuch unconstant starts are we like to have from\\nhim as this of Kent's banishment.\\nGONERIL\\nThere is further compliment of leavetaking\\nbetween France and him. Pray you, let's hit\\ntogether: if our father carry authority with\\nsuch dispositions as he bears, this last\\nsurrender of his will but offend us.\\nREGAN\\nWe shall further think on't.\\nGONERIL\\nWe must do something, and i' the heat.\\nExeunt\\n\\nSCENE II. The Earl of Gloucester's castle.\\nEnter EDMUND, with a letter\\nEDMUND\\nThou, nature, art my goddess; to thy law\\nMy services are bound. Wherefore should I\\nStand in the plague of custom, and permit\\nThe curiosity of nations to deprive me,\\nFor that I am some twelve or fourteen moon-shines\\nLag of a brother? Why bastard? wherefore base?\\nWhen my dimensions are as well compact,\\nMy mind as generous, and my shape as true,\\nAs honest madam's issue? Why brand they us\\nWith base? with baseness? bastardy? base, base?\\nWho, in the lusty stealth of nature, take\\nMore composition and fierce quality\\nThan doth, within a dull, stale, tired bed,\\nGo to the creating a whole tribe of fops,\\nGot 'tween asleep and wake? Well, then,\\nLegitimate Edgar, I must have your land:\\nOur father's love is to the bastard Edmund\\nAs to the legitimate: fine word,--legitimate!\\nWell, my legitimate, if this letter speed,\\nAnd my invention thrive, Edmund the base\\nShall top the legitimate. I grow; I prosper:\\nNow, gods, stand up for bastards!\\nEnter GLOUCESTER\\n\\nGLOUCESTER\\nKent banish'd thus! and France in choler parted!\\nAnd the king gone to-night! subscribed his power!\\nConfined to exhibition! All this done\\nUpon the gad! Edmund, how now! what news?\\nEDMUND\\nSo please your lordship, none.\\nPutting up the letter\\n\\nGLOUCESTER\\nWhy so earnestly seek you to put up that letter?\\nEDMUND\\nI know no news, my lord.\\nGLOUCESTER\\nWhat paper were you reading?\\nEDMUND\\nNothing, my lord.\\nGLOUCESTER\\nNo? What needed, then, that terrible dispatch of\\nit into your pocket? the quality of nothing hath\\nnot such need to hide itself. Let's see: come,\\nif it be nothing, I shall not need spectacles.\\nEDMUND\\nI beseech you, sir, pardon me: it is a letter\\nfrom my brother, that I have not all o'er-read;\\nand for so much as I have perused, I find it not\\nfit for your o'er-looking.\\nGLOUCESTER\\nGive me the letter, sir.\\nEDMUND\\nI shall offend, either to detain or give it. The\\ncontents, as in part I understand them, are to blame.\\nGLOUCESTER\\nLet's see, let's see.\\nEDMUND\\nI hope, for my brother's justification, he wrote\\nthis but as an essay or taste of my virtue.\\nGLOUCESTER\\n[Reads] 'This policy and reverence of age makes\\nthe world bitter to the best of our times; keeps\\nour fortunes from us till our oldness cannot relish\\nthem. I begin to find an idle and fond bondage\\nin the oppression of aged tyranny; who sways, not\\nas it hath power, but as it is suffered. Come to\\nme, that of this I may speak more. If our father\\nwould sleep till I waked him, you should half his\\nrevenue for ever, and live the beloved of your\\nbrother, EDGAR.'\\nHum--conspiracy!--'Sleep till I waked him,--you\\nshould enjoy half his revenue,'--My son Edgar!\\nHad he a hand to write this? a heart and brain\\nto breed it in?--When came this to you? who\\nbrought it?\\nEDMUND\\nIt was not brought me, my lord; there's the\\ncunning of it; I found it thrown in at the\\ncasement of my closet.\\nGLOUCESTER\\nYou know the character to be your brother's?\\nEDMUND\\nIf the matter were good, my lord, I durst swear\\nit were his; but, in respect of that, I would\\nfain think it were not.\\nGLOUCESTER\\nIt is his.\\nEDMUND\\nIt is his hand, my lord; but I hope his heart is\\nnot in the contents.\\nGLOUCESTER\\nHath he never heretofore sounded you in this business?\\nEDMUND\\nNever, my lord: but I have heard him oft\\nmaintain it to be fit, that, sons at perfect age,\\nand fathers declining, the father should be as\\nward to the son, and the son manage his revenue.\\nGLOUCESTER\\nO villain, villain! His very opinion in the\\nletter! Abhorred villain! Unnatural, detested,\\nbrutish villain! worse than brutish! Go, sirrah,\\nseek him; I'll apprehend him: abominable villain!\\nWhere is he?\\nEDMUND\\nI do not well know, my lord. If it shall please\\nyou to suspend your indignation against my\\nbrother till you can derive from him better\\ntestimony of his intent, you shall run a certain\\ncourse; where, if you violently proceed against\\nhim, mistaking his purpose, it would make a great\\ngap in your own honour, and shake in pieces the\\nheart of his obedience. I dare pawn down my life\\nfor him, that he hath wrote this to feel my\\naffection to your honour, and to no further\\npretence of danger.\\nGLOUCESTER\\nThink you so?\\nEDMUND\\nIf your honour judge it meet, I will place you\\nwhere you shall hear us confer of this, and by an\\nauricular assurance have your satisfaction; and\\nthat without any further delay than this very evening.\\nGLOUCESTER\\nHe cannot be such a monster--\\nEDMUND\\nNor is not, sure.\\nGLOUCESTER\\nTo his father, that so tenderly and entirely\\nloves him. Heaven and earth! Edmund, seek him\\nout: wind me into him, I pray you: frame the\\nbusiness after your own wisdom. I would unstate\\nmyself, to be in a due resolution.\\nEDMUND\\nI will seek him, sir, presently: convey the\\nbusiness as I shall find means and acquaint you withal.\\nGLOUCESTER\\nThese late eclipses in the sun and moon portend\\nno good to us: though the wisdom of nature can\\nreason it thus and thus, yet nature finds itself\\nscourged by the sequent effects: love cools,\\nfriendship falls off, brothers divide: in\\ncities, mutinies; in countries, discord; in\\npalaces, treason; and the bond cracked 'twixt son\\nand father. This villain of mine comes under the\\nprediction; there's son against father: the king\\nfalls from bias of nature; there's father against\\nchild. We have seen the best of our time:\\nmachinations, hollowness, treachery, and all\\nruinous disorders, follow us disquietly to our\\ngraves. Find out this villain, Edmund; it shall\\nlose thee nothing; do it carefully. And the\\nnoble and true-hearted Kent banished! his\\noffence, honesty! 'Tis strange.\\nExit\\n\\nEDMUND\\nThis is the excellent foppery of the world, that,\\nwhen we are sick in fortune,--often the surfeit\\nof our own behavior,--we make guilty of our\\ndisasters the sun, the moon, and the stars: as\\nif we were villains by necessity; fools by\\nheavenly compulsion; knaves, thieves, and\\ntreachers, by spherical predominance; drunkards,\\nliars, and adulterers, by an enforced obedience of\\nplanetary influence; and all that we are evil in,\\nby a divine thrusting on: an admirable evasion\\nof whoremaster man, to lay his goatish\\ndisposition to the charge of a star! My\\nfather compounded with my mother under the\\ndragon's tail; and my nativity was under Ursa\\nmajor; so that it follows, I am rough and\\nlecherous. Tut, I should have been that I am,\\nhad the maidenliest star in the firmament\\ntwinkled on my bastardizing. Edgar--\\nEnter EDGAR\\n\\nAnd pat he comes like the catastrophe of the old\\ncomedy: my cue is villanous melancholy, with a\\nsigh like Tom o' Bedlam. O, these eclipses do\\nportend these divisions! fa, sol, la, mi.\\nEDGAR\\nHow now, brother Edmund! what serious\\ncontemplation are you in?\\nEDMUND\\nI am thinking, brother, of a prediction I read\\nthis other day, what should follow these eclipses.\\nEDGAR\\nDo you busy yourself about that?\\nEDMUND\\nI promise you, the effects he writes of succeed\\nunhappily; as of unnaturalness between the child\\nand the parent; death, dearth, dissolutions of\\nancient amities; divisions in state, menaces and\\nmaledictions against king and nobles; needless\\ndiffidences, banishment of friends, dissipation\\nof cohorts, nuptial breaches, and I know not what.\\nEDGAR\\nHow long have you been a sectary astronomical?\\nEDMUND\\nCome, come; when saw you my father last?\\nEDGAR\\nWhy, the night gone by.\\nEDMUND\\nSpake you with him?\\nEDGAR\\nAy, two hours together.\\nEDMUND\\nParted you in good terms? Found you no\\ndispleasure in him by word or countenance?\\nEDGAR\\nNone at all.\\nEDMUND\\nBethink yourself wherein you may have offended\\nhim: and at my entreaty forbear his presence\\ntill some little time hath qualified the heat of\\nhis displeasure; which at this instant so rageth\\nin him, that with the mischief of your person it\\nwould scarcely allay.\\nEDGAR\\nSome villain hath done me wrong.\\nEDMUND\\nThat's my fear. I pray you, have a continent\\nforbearance till the spied of his rage goes\\nslower; and, as I say, retire with me to my\\nlodging, from whence I will fitly bring you to\\nhear my lord speak: pray ye, go; there's my key:\\nif you do stir abroad, go armed.\\nEDGAR\\nArmed, brother!\\nEDMUND\\nBrother, I advise you to the best; go armed: I\\nam no honest man if there be any good meaning\\ntowards you: I have told you what I have seen\\nand heard; but faintly, nothing like the image\\nand horror of it: pray you, away.\\nEDGAR\\nShall I hear from you anon?\\nEDMUND\\nI do serve you in this business.\\nExit EDGAR\\n\\nA credulous father! and a brother noble,\\nWhose nature is so far from doing harms,\\nThat he suspects none: on whose foolish honesty\\nMy practises ride easy! I see the business.\\nLet me, if not by birth, have lands by wit:\\nAll with me's meet that I can fashion fit.\\nExit\\n\\nSCENE III. The Duke of Albany's palace.\\nEnter GONERIL, and OSWALD, her steward\\nGONERIL\\nDid my father strike my gentleman for chiding of his fool?\\nOSWALD\\nYes, madam.\\nGONERIL\\nBy day and night he wrongs me; every hour\\nHe flashes into one gross crime or other,\\nThat sets us all at odds: I'll not endure it:\\nHis knights grow riotous, and himself upbraids us\\nOn every trifle. When he returns from hunting,\\nI will not speak with him; say I am sick:\\nIf you come slack of former services,\\nYou shall do well; the fault of it I'll answer.\\nOSWALD\\nHe's coming, madam; I hear him.\\nHorns within\\n\\nGONERIL\\nPut on what weary negligence you please,\\nYou and your fellows; I'll have it come to question:\\nIf he dislike it, let him to our sister,\\nWhose mind and mine, I know, in that are one,\\nNot to be over-ruled. Idle old man,\\nThat still would manage those authorities\\nThat he hath given away! Now, by my life,\\nOld fools are babes again; and must be used\\nWith cheques as flatteries,--when they are seen abused.\\nRemember what I tell you.\\nOSWALD\\nWell, madam.\\nGONERIL\\nAnd let his knights have colder looks among you;\\nWhat grows of it, no matter; advise your fellows so:\\nI would breed from hence occasions, and I shall,\\nThat I may speak: I'll write straight to my sister,\\nTo hold my very course. Prepare for dinner.\\nExeunt\\n\\nSCENE IV. A hall in the same.\\nEnter KENT, disguised\\nKENT\\nIf but as well I other accents borrow,\\nThat can my speech defuse, my good intent\\nMay carry through itself to that full issue\\nFor which I razed my likeness. Now, banish'd Kent,\\nIf thou canst serve where thou dost stand condemn'd,\\nSo may it come, thy master, whom thou lovest,\\nShall find thee full of labours.\\nHorns within. Enter KING LEAR, Knights, and Attendants\\n\\nKING LEAR\\nLet me not stay a jot for dinner; go get it ready.\\nExit an Attendant\\n\\nHow now! what art thou?\\nKENT\\nA man, sir.\\nKING LEAR\\nWhat dost thou profess? what wouldst thou with us?\\nKENT\\nI do profess to be no less than I seem; to serve\\nhim truly that will put me in trust: to love him\\nthat is honest; to converse with him that is wise,\\nand says little; to fear judgment; to fight when I\\ncannot choose; and to eat no fish.\\nKING LEAR\\nWhat art thou?\\nKENT\\nA very honest-hearted fellow, and as poor as the king.\\nKING LEAR\\nIf thou be as poor for a subject as he is for a\\nking, thou art poor enough. What wouldst thou?\\nKENT\\nService.\\nKING LEAR\\nWho wouldst thou serve?\\nKENT\\nYou.\\nKING LEAR\\nDost thou know me, fellow?\\nKENT\\nNo, sir; but you have that in your countenance\\nwhich I would fain call master.\\nKING LEAR\\nWhat's that?\\nKENT\\nAuthority.\\nKING LEAR\\nWhat services canst thou do?\\nKENT\\nI can keep honest counsel, ride, run, mar a curious\\ntale in telling it, and deliver a plain message\\nbluntly: that which ordinary men are fit for, I am\\nqualified in; and the best of me is diligence.\\nKING LEAR\\nHow old art thou?\\nKENT\\nNot so young, sir, to love a woman for singing, nor\\nso old to dote on her for any thing: I have years\\non my back forty eight.\\nKING LEAR\\nFollow me; thou shalt serve me: if I like thee no\\nworse after dinner, I will not part from thee yet.\\nDinner, ho, dinner! Where's my knave? my fool?\\nGo you, and call my fool hither.\\nExit an Attendant\\n\\nEnter OSWALD\\n\\nYou, you, sirrah, where's my daughter?\\nOSWALD\\nSo please you,--\\nExit\\n\\nKING LEAR\\nWhat says the fellow there? Call the clotpoll back.\\nExit a Knight\\n\\nWhere's my fool, ho? I think the world's asleep.\\nRe-enter Knight\\n\\nHow now! where's that mongrel?\\nKnight\\nHe says, my lord, your daughter is not well.\\nKING LEAR\\nWhy came not the slave back to me when I called him.\\nKnight\\nSir, he answered me in the roundest manner, he would\\nnot.\\nKING LEAR\\nHe would not!\\nKnight\\nMy lord, I know not what the matter is; but, to my\\njudgment, your highness is not entertained with that\\nceremonious affection as you were wont; there's a\\ngreat abatement of kindness appears as well in the\\ngeneral dependants as in the duke himself also and\\nyour daughter.\\nKING LEAR\\nHa! sayest thou so?\\nKnight\\nI beseech you, pardon me, my lord, if I be mistaken;\\nfor my duty cannot be silent when I think your\\nhighness wronged.\\nKING LEAR\\nThou but rememberest me of mine own conception: I\\nhave perceived a most faint neglect of late; which I\\nhave rather blamed as mine own jealous curiosity\\nthan as a very pretence and purpose of unkindness:\\nI will look further into't. But where's my fool? I\\nhave not seen him this two days.\\nKnight\\nSince my young lady's going into France, sir, the\\nfool hath much pined away.\\nKING LEAR\\nNo more of that; I have noted it well. Go you, and\\ntell my daughter I would speak with her.\\nExit an Attendant\\n\\nGo you, call hither my fool.\\nExit an Attendant\\n\\nRe-enter OSWALD\\n\\nO, you sir, you, come you hither, sir: who am I,\\nsir?\\nOSWALD\\nMy lady's father.\\nKING LEAR\\n'My lady's father'! my lord's knave: your\\nwhoreson dog! you slave! you cur!\\nOSWALD\\nI am none of these, my lord; I beseech your pardon.\\nKING LEAR\\nDo you bandy looks with me, you rascal?\\nStriking him\\n\\nOSWALD\\nI'll not be struck, my lord.\\nKENT\\nNor tripped neither, you base football player.\\nTripping up his heels\\n\\nKING LEAR\\nI thank thee, fellow; thou servest me, and I'll\\nlove thee.\\nKENT\\nCome, sir, arise, away! I'll teach you differences:\\naway, away! if you will measure your lubber's\\nlength again, tarry: but away! go to; have you\\nwisdom? so.\\nPushes OSWALD out\\n\\nKING LEAR\\nNow, my friendly knave, I thank thee: there's\\nearnest of thy service.\\nGiving KENT money\\n\\nEnter Fool\\n\\nFool\\nLet me hire him too: here's my coxcomb.\\nOffering KENT his cap\\n\\nKING LEAR\\nHow now, my pretty knave! how dost thou?\\nFool\\nSirrah, you were best take my coxcomb.\\nKENT\\nWhy, fool?\\nFool\\nWhy, for taking one's part that's out of favour:\\nnay, an thou canst not smile as the wind sits,\\nthou'lt catch cold shortly: there, take my coxcomb:\\nwhy, this fellow has banished two on's daughters,\\nand did the third a blessing against his will; if\\nthou follow him, thou must needs wear my coxcomb.\\nHow now, nuncle! Would I had two coxcombs and two daughters!\\nKING LEAR\\nWhy, my boy?\\nFool\\nIf I gave them all my living, I'ld keep my coxcombs\\nmyself. There's mine; beg another of thy daughters.\\nKING LEAR\\nTake heed, sirrah; the whip.\\nFool\\nTruth's a dog must to kennel; he must be whipped\\nout, when Lady the brach may stand by the fire and stink.\\nKING LEAR\\nA pestilent gall to me!\\nFool\\nSirrah, I'll teach thee a speech.\\nKING LEAR\\nDo.\\nFool\\nMark it, nuncle:\\nHave more than thou showest,\\nSpeak less than thou knowest,\\nLend less than thou owest,\\nRide more than thou goest,\\nLearn more than thou trowest,\\nSet less than thou throwest;\\nLeave thy drink and thy whore,\\nAnd keep in-a-door,\\nAnd thou shalt have more\\nThan two tens to a score.\\nKENT\\nThis is nothing, fool.\\nFool\\nThen 'tis like the breath of an unfee'd lawyer; you\\ngave me nothing for't. Can you make no use of\\nnothing, nuncle?\\nKING LEAR\\nWhy, no, boy; nothing can be made out of nothing.\\nFool\\n[To KENT] Prithee, tell him, so much the rent of\\nhis land comes to: he will not believe a fool.\\nKING LEAR\\nA bitter fool!\\nFool\\nDost thou know the difference, my boy, between a\\nbitter fool and a sweet fool?\\nKING LEAR\\nNo, lad; teach me.\\nFool\\nThat lord that counsell'd thee\\nTo give away thy land,\\nCome place him here by me,\\nDo thou for him stand:\\nThe sweet and bitter fool\\nWill presently appear;\\nThe one in motley here,\\nThe other found out there.\\nKING LEAR\\nDost thou call me fool, boy?\\nFool\\nAll thy other titles thou hast given away; that\\nthou wast born with.\\nKENT\\nThis is not altogether fool, my lord.\\nFool\\nNo, faith, lords and great men will not let me; if\\nI had a monopoly out, they would have part on't:\\nand ladies too, they will not let me have all fool\\nto myself; they'll be snatching. Give me an egg,\\nnuncle, and I'll give thee two crowns.\\nKING LEAR\\nWhat two crowns shall they be?\\nFool\\nWhy, after I have cut the egg i' the middle, and eat\\nup the meat, the two crowns of the egg. When thou\\nclovest thy crown i' the middle, and gavest away\\nboth parts, thou borest thy ass on thy back o'er\\nthe dirt: thou hadst little wit in thy bald crown,\\nwhen thou gavest thy golden one away. If I speak\\nlike myself in this, let him be whipped that first\\nfinds it so.\\nSinging\\n\\nFools had ne'er less wit in a year;\\nFor wise men are grown foppish,\\nThey know not how their wits to wear,\\nTheir manners are so apish.\\nKING LEAR\\nWhen were you wont to be so full of songs, sirrah?\\nFool\\nI have used it, nuncle, ever since thou madest thy\\ndaughters thy mothers: for when thou gavest them\\nthe rod, and put'st down thine own breeches,\\nSinging\\n\\nThen they for sudden joy did weep,\\nAnd I for sorrow sung,\\nThat such a king should play bo-peep,\\nAnd go the fools among.\\nPrithee, nuncle, keep a schoolmaster that can teach\\nthy fool to lie: I would fain learn to lie.\\nKING LEAR\\nAn you lie, sirrah, we'll have you whipped.\\nFool\\nI marvel what kin thou and thy daughters are:\\nthey'll have me whipped for speaking true, thou'lt\\nhave me whipped for lying; and sometimes I am\\nwhipped for holding my peace. I had rather be any\\nkind o' thing than a fool: and yet I would not be\\nthee, nuncle; thou hast pared thy wit o' both sides,\\nand left nothing i' the middle: here comes one o'\\nthe parings.\\nEnter GONERIL\\n\\nKING LEAR\\nHow now, daughter! what makes that frontlet on?\\nMethinks you are too much of late i' the frown.\\nFool\\nThou wast a pretty fellow when thou hadst no need to\\ncare for her frowning; now thou art an O without a\\nfigure: I am better than thou art now; I am a fool,\\nthou art nothing.\\nTo GONERIL\\n\\nYes, forsooth, I will hold my tongue; so your face\\nbids me, though you say nothing. Mum, mum,\\nHe that keeps nor crust nor crum,\\nWeary of all, shall want some.\\nPointing to KING LEAR\\n\\nThat's a shealed peascod.\\nGONERIL\\nNot only, sir, this your all-licensed fool,\\nBut other of your insolent retinue\\nDo hourly carp and quarrel; breaking forth\\nIn rank and not-to-be endured riots. Sir,\\nI had thought, by making this well known unto you,\\nTo have found a safe redress; but now grow fearful,\\nBy what yourself too late have spoke and done.\\nThat you protect this course, and put it on\\nBy your allowance; which if you should, the fault\\nWould not 'scape censure, nor the redresses sleep,\\nWhich, in the tender of a wholesome weal,\\nMight in their working do you that offence,\\nWhich else were shame, that then necessity\\nWill call discreet proceeding.\\nFool\\nFor, you trow, nuncle,\\nThe hedge-sparrow fed the cuckoo so long,\\nThat it's had it head bit off by it young.\\nSo, out went the candle, and we were left darkling.\\nKING LEAR\\nAre you our daughter?\\nGONERIL\\nCome, sir,\\nI would you would make use of that good wisdom,\\nWhereof I know you are fraught; and put away\\nThese dispositions, that of late transform you\\nFrom what you rightly are.\\nFool\\nMay not an ass know when the cart\\ndraws the horse? Whoop, Jug! I love thee.\\nKING LEAR\\nDoth any here know me? This is not Lear:\\nDoth Lear walk thus? speak thus? Where are his eyes?\\nEither his notion weakens, his discernings\\nAre lethargied--Ha! waking? 'tis not so.\\nWho is it that can tell me who I am?\\nFool\\nLear's shadow.\\nKING LEAR\\nI would learn that; for, by the\\nmarks of sovereignty, knowledge, and reason,\\nI should be false persuaded I had daughters.\\nFool\\nWhich they will make an obedient father.\\nKING LEAR\\nYour name, fair gentlewoman?\\nGONERIL\\nThis admiration, sir, is much o' the savour\\nOf other your new pranks. I do beseech you\\nTo understand my purposes aright:\\nAs you are old and reverend, you should be wise.\\nHere do you keep a hundred knights and squires;\\nMen so disorder'd, so debosh'd and bold,\\nThat this our court, infected with their manners,\\nShows like a riotous inn: epicurism and lust\\nMake it more like a tavern or a brothel\\nThan a graced palace. The shame itself doth speak\\nFor instant remedy: be then desired\\nBy her, that else will take the thing she begs,\\nA little to disquantity your train;\\nAnd the remainder, that shall still depend,\\nTo be such men as may besort your age,\\nAnd know themselves and you.\\nKING LEAR\\nDarkness and devils!\\nSaddle my horses; call my train together:\\nDegenerate bastard! I'll not trouble thee.\\nYet have I left a daughter.\\nGONERIL\\nYou strike my people; and your disorder'd rabble\\nMake servants of their betters.\\nEnter ALBANY\\n\\nKING LEAR\\nWoe, that too late repents,--\\nTo ALBANY\\n\\nO, sir, are you come?\\nIs it your will? Speak, sir. Prepare my horses.\\nIngratitude, thou marble-hearted fiend,\\nMore hideous when thou show'st thee in a child\\nThan the sea-monster!\\nALBANY\\nPray, sir, be patient.\\nKING LEAR\\n[To GONERIL] Detested kite! thou liest.\\nMy train are men of choice and rarest parts,\\nThat all particulars of duty know,\\nAnd in the most exact regard support\\nThe worships of their name. O most small fault,\\nHow ugly didst thou in Cordelia show!\\nThat, like an engine, wrench'd my frame of nature\\nFrom the fix'd place; drew from heart all love,\\nAnd added to the gall. O Lear, Lear, Lear!\\nBeat at this gate, that let thy folly in,\\nStriking his head\\n\\nAnd thy dear judgment out! Go, go, my people.\\nALBANY\\nMy lord, I am guiltless, as I am ignorant\\nOf what hath moved you.\\nKING LEAR\\nIt may be so, my lord.\\nHear, nature, hear; dear goddess, hear!\\nSuspend thy purpose, if thou didst intend\\nTo make this creature fruitful!\\nInto her womb convey sterility!\\nDry up in her the organs of increase;\\nAnd from her derogate body never spring\\nA babe to honour her! If she must teem,\\nCreate her child of spleen; that it may live,\\nAnd be a thwart disnatured torment to her!\\nLet it stamp wrinkles in her brow of youth;\\nWith cadent tears fret channels in her cheeks;\\nTurn all her mother's pains and benefits\\nTo laughter and contempt; that she may feel\\nHow sharper than a serpent's tooth it is\\nTo have a thankless child! Away, away!\\nExit\\n\\nALBANY\\nNow, gods that we adore, whereof comes this?\\nGONERIL\\nNever afflict yourself to know the cause;\\nBut let his disposition have that scope\\nThat dotage gives it.\\nRe-enter KING LEAR\\n\\nKING LEAR\\nWhat, fifty of my followers at a clap!\\nWithin a fortnight!\\nALBANY\\nWhat's the matter, sir?\\nKING LEAR\\nI'll tell thee:\\nTo GONERIL\\n\\nLife and death! I am ashamed\\nThat thou hast power to shake my manhood thus;\\nThat these hot tears, which break from me perforce,\\nShould make thee worth them. Blasts and fogs upon thee!\\nThe untented woundings of a father's curse\\nPierce every sense about thee! Old fond eyes,\\nBeweep this cause again, I'll pluck ye out,\\nAnd cast you, with the waters that you lose,\\nTo temper clay. Yea, it is come to this?\\nLet is be so: yet have I left a daughter,\\nWho, I am sure, is kind and comfortable:\\nWhen she shall hear this of thee, with her nails\\nShe'll flay thy wolvish visage. Thou shalt find\\nThat I'll resume the shape which thou dost think\\nI have cast off for ever: thou shalt,\\nI warrant thee.\\nExeunt KING LEAR, KENT, and Attendants\\n\\nGONERIL\\nDo you mark that, my lord?\\nALBANY\\nI cannot be so partial, Goneril,\\nTo the great love I bear you,--\\nGONERIL\\nPray you, content. What, Oswald, ho!\\nTo the Fool\\n\\nYou, sir, more knave than fool, after your master.\\nFool\\nNuncle Lear, nuncle Lear, tarry and take the fool\\nwith thee.\\nA fox, when one has caught her,\\nAnd such a daughter,\\nShould sure to the slaughter,\\nIf my cap would buy a halter:\\nSo the fool follows after.\\nExit\\n\\nGONERIL\\nThis man hath had good counsel:--a hundred knights!\\n'Tis politic and safe to let him keep\\nAt point a hundred knights: yes, that, on every dream,\\nEach buzz, each fancy, each complaint, dislike,\\nHe may enguard his dotage with their powers,\\nAnd hold our lives in mercy. Oswald, I say!\\nALBANY\\nWell, you may fear too far.\\nGONERIL\\nSafer than trust too far:\\nLet me still take away the harms I fear,\\nNot fear still to be taken: I know his heart.\\nWhat he hath utter'd I have writ my sister\\nIf she sustain him and his hundred knights\\nWhen I have show'd the unfitness,--\\nRe-enter OSWALD\\n\\nHow now, Oswald!\\nWhat, have you writ that letter to my sister?\\nOSWALD\\nYes, madam.\\nGONERIL\\nTake you some company, and away to horse:\\nInform her full of my particular fear;\\nAnd thereto add such reasons of your own\\nAs may compact it more. Get you gone;\\nAnd hasten your return.\\nExit OSWALD\\n\\nNo, no, my lord,\\nThis milky gentleness and course of yours\\nThough I condemn not, yet, under pardon,\\nYou are much more attask'd for want of wisdom\\nThan praised for harmful mildness.\\nALBANY\\nHow far your eyes may pierce I can not tell:\\nStriving to better, oft we mar what's well.\\nGONERIL\\nNay, then--\\nALBANY\\nWell, well; the event.\\nExeunt\\n\\nSCENE V. Court before the same.\\nEnter KING LEAR, KENT, and Fool\\nKING LEAR\\nGo you before to Gloucester with these letters.\\nAcquaint my daughter no further with any thing you\\nknow than comes from her demand out of the letter.\\nIf your diligence be not speedy, I shall be there afore you.\\nKENT\\nI will not sleep, my lord, till I have delivered\\nyour letter.\\nExit\\n\\nFool\\nIf a man's brains were in's heels, were't not in\\ndanger of kibes?\\nKING LEAR\\nAy, boy.\\nFool\\nThen, I prithee, be merry; thy wit shall ne'er go\\nslip-shod.\\nKING LEAR\\nHa, ha, ha!\\nFool\\nShalt see thy other daughter will use thee kindly;\\nfor though she's as like this as a crab's like an\\napple, yet I can tell what I can tell.\\nKING LEAR\\nWhy, what canst thou tell, my boy?\\nFool\\nShe will taste as like this as a crab does to a\\ncrab. Thou canst tell why one's nose stands i'\\nthe middle on's face?\\nKING LEAR\\nNo.\\nFool\\nWhy, to keep one's eyes of either side's nose; that\\nwhat a man cannot smell out, he may spy into.\\nKING LEAR\\nI did her wrong--\\nFool\\nCanst tell how an oyster makes his shell?\\nKING LEAR\\nNo.\\nFool\\nNor I neither; but I can tell why a snail has a house.\\nKING LEAR\\nWhy?\\nFool\\nWhy, to put his head in; not to give it away to his\\ndaughters, and leave his horns without a case.\\nKING LEAR\\nI will forget my nature. So kind a father! Be my\\nhorses ready?\\nFool\\nThy asses are gone about 'em. The reason why the\\nseven stars are no more than seven is a pretty reason.\\nKING LEAR\\nBecause they are not eight?\\nFool\\nYes, indeed: thou wouldst make a good fool.\\nKING LEAR\\nTo take 't again perforce! Monster ingratitude!\\nFool\\nIf thou wert my fool, nuncle, I'ld have thee beaten\\nfor being old before thy time.\\nKING LEAR\\nHow's that?\\nFool\\nThou shouldst not have been old till thou hadst\\nbeen wise.\\nKING LEAR\\nO, let me not be mad, not mad, sweet heaven\\nKeep me in temper: I would not be mad!\\nEnter Gentleman\\n\\nHow now! are the horses ready?\\nGentleman\\nReady, my lord.\\nKING LEAR\\nCome, boy.\\nFool\\nShe that's a maid now, and laughs at my departure,\\nShall not be a maid long, unless things be cut shorter.\\nExeunt\\n\\nACT II\\nSCENE I. GLOUCESTER's castle.\\nEnter EDMUND, and CURAN meets him\\nEDMUND\\nSave thee, Curan.\\nCURAN\\nAnd you, sir. I have been with your father, and\\ngiven him notice that the Duke of Cornwall and Regan\\nhis duchess will be here with him this night.\\nEDMUND\\nHow comes that?\\nCURAN\\nNay, I know not. You have heard of the news abroad;\\nI mean the whispered ones, for they are yet but\\near-kissing arguments?\\nEDMUND\\nNot I pray you, what are they?\\nCURAN\\nHave you heard of no likely wars toward, 'twixt the\\nDukes of Cornwall and Albany?\\nEDMUND\\nNot a word.\\nCURAN\\nYou may do, then, in time. Fare you well, sir.\\nExit\\n\\nEDMUND\\nThe duke be here to-night? The better! best!\\nThis weaves itself perforce into my business.\\nMy father hath set guard to take my brother;\\nAnd I have one thing, of a queasy question,\\nWhich I must act: briefness and fortune, work!\\nBrother, a word; descend: brother, I say!\\nEnter EDGAR\\n\\nMy father watches: O sir, fly this place;\\nIntelligence is given where you are hid;\\nYou have now the good advantage of the night:\\nHave you not spoken 'gainst the Duke of Cornwall?\\nHe's coming hither: now, i' the night, i' the haste,\\nAnd Regan with him: have you nothing said\\nUpon his party 'gainst the Duke of Albany?\\nAdvise yourself.\\nEDGAR\\nI am sure on't, not a word.\\nEDMUND\\nI hear my father coming: pardon me:\\nIn cunning I must draw my sword upon you\\nDraw; seem to defend yourself; now quit you well.\\nYield: come before my father. Light, ho, here!\\nFly, brother. Torches, torches! So, farewell.\\nExit EDGAR\\n\\nSome blood drawn on me would beget opinion.\\nWounds his arm\\n\\nOf my more fierce endeavour: I have seen drunkards\\nDo more than this in sport. Father, father!\\nStop, stop! No help?\\nEnter GLOUCESTER, and Servants with torches\\n\\nGLOUCESTER\\nNow, Edmund, where's the villain?\\nEDMUND\\nHere stood he in the dark, his sharp sword out,\\nMumbling of wicked charms, conjuring the moon\\nTo stand auspicious mistress,--\\nGLOUCESTER\\nBut where is he?\\nEDMUND\\nLook, sir, I bleed.\\nGLOUCESTER\\nWhere is the villain, Edmund?\\nEDMUND\\nFled this way, sir. When by no means he could--\\nGLOUCESTER\\nPursue him, ho! Go after.\\nExeunt some Servants\\n\\nBy no means what?\\nEDMUND\\nPersuade me to the murder of your lordship;\\nBut that I told him, the revenging gods\\n'Gainst parricides did all their thunders bend;\\nSpoke, with how manifold and strong a bond\\nThe child was bound to the father; sir, in fine,\\nSeeing how loathly opposite I stood\\nTo his unnatural purpose, in fell motion,\\nWith his prepared sword, he charges home\\nMy unprovided body, lanced mine arm:\\nBut when he saw my best alarum'd spirits,\\nBold in the quarrel's right, roused to the encounter,\\nOr whether gasted by the noise I made,\\nFull suddenly he fled.\\nGLOUCESTER\\nLet him fly far:\\nNot in this land shall he remain uncaught;\\nAnd found--dispatch. The noble duke my master,\\nMy worthy arch and patron, comes to-night:\\nBy his authority I will proclaim it,\\nThat he which finds him shall deserve our thanks,\\nBringing the murderous coward to the stake;\\nHe that conceals him, death.\\nEDMUND\\nWhen I dissuaded him from his intent,\\nAnd found him pight to do it, with curst speech\\nI threaten'd to discover him: he replied,\\n'Thou unpossessing bastard! dost thou think,\\nIf I would stand against thee, would the reposal\\nOf any trust, virtue, or worth in thee\\nMake thy words faith'd? No: what I should deny,--\\nAs this I would: ay, though thou didst produce\\nMy very character,--I'ld turn it all\\nTo thy suggestion, plot, and damned practise:\\nAnd thou must make a dullard of the world,\\nIf they not thought the profits of my death\\nWere very pregnant and potential spurs\\nTo make thee seek it.'\\nGLOUCESTER\\nStrong and fasten'd villain\\nWould he deny his letter? I never got him.\\nTucket within\\n\\nHark, the duke's trumpets! I know not why he comes.\\nAll ports I'll bar; the villain shall not 'scape;\\nThe duke must grant me that: besides, his picture\\nI will send far and near, that all the kingdom\\nMay have the due note of him; and of my land,\\nLoyal and natural boy, I'll work the means\\nTo make thee capable.\\nEnter CORNWALL, REGAN, and Attendants\\n\\nCORNWALL\\nHow now, my noble friend! since I came hither,\\nWhich I can call but now, I have heard strange news.\\nREGAN\\nIf it be true, all vengeance comes too short\\nWhich can pursue the offender. How dost, my lord?\\nGLOUCESTER\\nO, madam, my old heart is crack'd, it's crack'd!\\nREGAN\\nWhat, did my father's godson seek your life?\\nHe whom my father named? your Edgar?\\nGLOUCESTER\\nO, lady, lady, shame would have it hid!\\nREGAN\\nWas he not companion with the riotous knights\\nThat tend upon my father?\\nGLOUCESTER\\nI know not, madam: 'tis too bad, too bad.\\nEDMUND\\nYes, madam, he was of that consort.\\nREGAN\\nNo marvel, then, though he were ill affected:\\n'Tis they have put him on the old man's death,\\nTo have the expense and waste of his revenues.\\nI have this present evening from my sister\\nBeen well inform'd of them; and with such cautions,\\nThat if they come to sojourn at my house,\\nI'll not be there.\\nCORNWALL\\nNor I, assure thee, Regan.\\nEdmund, I hear that you have shown your father\\nA child-like office.\\nEDMUND\\n'Twas my duty, sir.\\nGLOUCESTER\\nHe did bewray his practise; and received\\nThis hurt you see, striving to apprehend him.\\nCORNWALL\\nIs he pursued?\\nGLOUCESTER\\nAy, my good lord.\\nCORNWALL\\nIf he be taken, he shall never more\\nBe fear'd of doing harm: make your own purpose,\\nHow in my strength you please. For you, Edmund,\\nWhose virtue and obedience doth this instant\\nSo much commend itself, you shall be ours:\\nNatures of such deep trust we shall much need;\\nYou we first seize on.\\nEDMUND\\nI shall serve you, sir,\\nTruly, however else.\\nGLOUCESTER\\nFor him I thank your grace.\\nCORNWALL\\nYou know not why we came to visit you,--\\nREGAN\\nThus out of season, threading dark-eyed night:\\nOccasions, noble Gloucester, of some poise,\\nWherein we must have use of your advice:\\nOur father he hath writ, so hath our sister,\\nOf differences, which I least thought it fit\\nTo answer from our home; the several messengers\\nFrom hence attend dispatch. Our good old friend,\\nLay comforts to your bosom; and bestow\\nYour needful counsel to our business,\\nWhich craves the instant use.\\nGLOUCESTER\\nI serve you, madam:\\nYour graces are right welcome.\\nExeunt\\n\\nSCENE II. Before Gloucester's castle.\\nEnter KENT and OSWALD, severally\\nOSWALD\\nGood dawning to thee, friend: art of this house?\\nKENT\\nAy.\\nOSWALD\\nWhere may we set our horses?\\nKENT\\nI' the mire.\\nOSWALD\\nPrithee, if thou lovest me, tell me.\\nKENT\\nI love thee not.\\nOSWALD\\nWhy, then, I care not for thee.\\nKENT\\nIf I had thee in Lipsbury pinfold, I would make thee\\ncare for me.\\nOSWALD\\nWhy dost thou use me thus? I know thee not.\\nKENT\\nFellow, I know thee.\\nOSWALD\\nWhat dost thou know me for?\\nKENT\\nA knave; a rascal; an eater of broken meats; a\\nbase, proud, shallow, beggarly, three-suited,\\nhundred-pound, filthy, worsted-stocking knave; a\\nlily-livered, action-taking knave, a whoreson,\\nglass-gazing, super-serviceable finical rogue;\\none-trunk-inheriting slave; one that wouldst be a\\nbawd, in way of good service, and art nothing but\\nthe composition of a knave, beggar, coward, pandar,\\nand the son and heir of a mongrel bitch: one whom I\\nwill beat into clamorous whining, if thou deniest\\nthe least syllable of thy addition.\\nOSWALD\\nWhy, what a monstrous fellow art thou, thus to rail\\non one that is neither known of thee nor knows thee!\\nKENT\\nWhat a brazen-faced varlet art thou, to deny thou\\nknowest me! Is it two days ago since I tripped up\\nthy heels, and beat thee before the king? Draw, you\\nrogue: for, though it be night, yet the moon\\nshines; I'll make a sop o' the moonshine of you:\\ndraw, you whoreson cullionly barber-monger, draw.\\nDrawing his sword\\n\\nOSWALD\\nAway! I have nothing to do with thee.\\nKENT\\nDraw, you rascal: you come with letters against the\\nking; and take vanity the puppet's part against the\\nroyalty of her father: draw, you rogue, or I'll so\\ncarbonado your shanks: draw, you rascal; come your ways.\\nOSWALD\\nHelp, ho! murder! help!\\nKENT\\nStrike, you slave; stand, rogue, stand; you neat\\nslave, strike.\\nBeating him\\n\\nOSWALD\\nHelp, ho! murder! murder!\\nEnter EDMUND, with his rapier drawn, CORNWALL, REGAN, GLOUCESTER, and Servants\\n\\nEDMUND\\nHow now! What's the matter?\\nKENT\\nWith you, goodman boy, an you please: come, I'll\\nflesh ye; come on, young master.\\nGLOUCESTER\\nWeapons! arms! What 's the matter here?\\nCORNWALL\\nKeep peace, upon your lives:\\nHe dies that strikes again. What is the matter?\\nREGAN\\nThe messengers from our sister and the king.\\nCORNWALL\\nWhat is your difference? speak.\\nOSWALD\\nI am scarce in breath, my lord.\\nKENT\\nNo marvel, you have so bestirred your valour. You\\ncowardly rascal, nature disclaims in thee: a\\ntailor made thee.\\nCORNWALL\\nThou art a strange fellow: a tailor make a man?\\nKENT\\nAy, a tailor, sir: a stone-cutter or painter could\\nnot have made him so ill, though he had been but two\\nhours at the trade.\\nCORNWALL\\nSpeak yet, how grew your quarrel?\\nOSWALD\\nThis ancient ruffian, sir, whose life I have spared\\nat suit of his gray beard,--\\nKENT\\nThou whoreson zed! thou unnecessary letter! My\\nlord, if you will give me leave, I will tread this\\nunbolted villain into mortar, and daub the wall of\\na jakes with him. Spare my gray beard, you wagtail?\\nCORNWALL\\nPeace, sirrah!\\nYou beastly knave, know you no reverence?\\nKENT\\nYes, sir; but anger hath a privilege.\\nCORNWALL\\nWhy art thou angry?\\nKENT\\nThat such a slave as this should wear a sword,\\nWho wears no honesty. Such smiling rogues as these,\\nLike rats, oft bite the holy cords a-twain\\nWhich are too intrinse t' unloose; smooth every passion\\nThat in the natures of their lords rebel;\\nBring oil to fire, snow to their colder moods;\\nRenege, affirm, and turn their halcyon beaks\\nWith every gale and vary of their masters,\\nKnowing nought, like dogs, but following.\\nA plague upon your epileptic visage!\\nSmile you my speeches, as I were a fool?\\nGoose, if I had you upon Sarum plain,\\nI'ld drive ye cackling home to Camelot.\\nCORNWALL\\nWhy, art thou mad, old fellow?\\nGLOUCESTER\\nHow fell you out? say that.\\nKENT\\nNo contraries hold more antipathy\\nThan I and such a knave.\\nCORNWALL\\nWhy dost thou call him a knave? What's his offence?\\nKENT\\nHis countenance likes me not.\\nCORNWALL\\nNo more, perchance, does mine, nor his, nor hers.\\nKENT\\nSir, 'tis my occupation to be plain:\\nI have seen better faces in my time\\nThan stands on any shoulder that I see\\nBefore me at this instant.\\nCORNWALL\\nThis is some fellow,\\nWho, having been praised for bluntness, doth affect\\nA saucy roughness, and constrains the garb\\nQuite from his nature: he cannot flatter, he,\\nAn honest mind and plain, he must speak truth!\\nAn they will take it, so; if not, he's plain.\\nThese kind of knaves I know, which in this plainness\\nHarbour more craft and more corrupter ends\\nThan twenty silly ducking observants\\nThat stretch their duties nicely.\\nKENT\\nSir, in good sooth, in sincere verity,\\nUnder the allowance of your great aspect,\\nWhose influence, like the wreath of radiant fire\\nOn flickering Phoebus' front,--\\nCORNWALL\\nWhat mean'st by this?\\nKENT\\nTo go out of my dialect, which you\\ndiscommend so much. I know, sir, I am no\\nflatterer: he that beguiled you in a plain\\naccent was a plain knave; which for my part\\nI will not be, though I should win your displeasure\\nto entreat me to 't.\\nCORNWALL\\nWhat was the offence you gave him?\\nOSWALD\\nI never gave him any:\\nIt pleased the king his master very late\\nTo strike at me, upon his misconstruction;\\nWhen he, conjunct and flattering his displeasure,\\nTripp'd me behind; being down, insulted, rail'd,\\nAnd put upon him such a deal of man,\\nThat worthied him, got praises of the king\\nFor him attempting who was self-subdued;\\nAnd, in the fleshment of this dread exploit,\\nDrew on me here again.\\nKENT\\nNone of these rogues and cowards\\nBut Ajax is their fool.\\nCORNWALL\\nFetch forth the stocks!\\nYou stubborn ancient knave, you reverend braggart,\\nWe'll teach you--\\nKENT\\nSir, I am too old to learn:\\nCall not your stocks for me: I serve the king;\\nOn whose employment I was sent to you:\\nYou shall do small respect, show too bold malice\\nAgainst the grace and person of my master,\\nStocking his messenger.\\nCORNWALL\\nFetch forth the stocks! As I have life and honour,\\nThere shall he sit till noon.\\nREGAN\\nTill noon! till night, my lord; and all night too.\\nKENT\\nWhy, madam, if I were your father's dog,\\nYou should not use me so.\\nREGAN\\nSir, being his knave, I will.\\nCORNWALL\\nThis is a fellow of the self-same colour\\nOur sister speaks of. Come, bring away the stocks!\\nStocks brought out\\n\\nGLOUCESTER\\nLet me beseech your grace not to do so:\\nHis fault is much, and the good king his master\\nWill cheque him for 't: your purposed low correction\\nIs such as basest and contemned'st wretches\\nFor pilferings and most common trespasses\\nAre punish'd with: the king must take it ill,\\nThat he's so slightly valued in his messenger,\\nShould have him thus restrain'd.\\nCORNWALL\\nI'll answer that.\\nREGAN\\nMy sister may receive it much more worse,\\nTo have her gentleman abused, assaulted,\\nFor following her affairs. Put in his legs.\\nKENT is put in the stocks\\n\\nCome, my good lord, away.\\nExeunt all but GLOUCESTER and KENT\\n\\nGLOUCESTER\\nI am sorry for thee, friend; 'tis the duke's pleasure,\\nWhose disposition, all the world well knows,\\nWill not be rubb'd nor stopp'd: I'll entreat for thee.\\nKENT\\nPray, do not, sir: I have watched and travell'd hard;\\nSome time I shall sleep out, the rest I'll whistle.\\nA good man's fortune may grow out at heels:\\nGive you good morrow!\\nGLOUCESTER\\nThe duke's to blame in this; 'twill be ill taken.\\nExit\\n\\nKENT\\nGood king, that must approve the common saw,\\nThou out of heaven's benediction comest\\nTo the warm sun!\\nApproach, thou beacon to this under globe,\\nThat by thy comfortable beams I may\\nPeruse this letter! Nothing almost sees miracles\\nBut misery: I know 'tis from Cordelia,\\nWho hath most fortunately been inform'd\\nOf my obscured course; and shall find time\\nFrom this enormous state, seeking to give\\nLosses their remedies. All weary and o'erwatch'd,\\nTake vantage, heavy eyes, not to behold\\nThis shameful lodging.\\nFortune, good night: smile once more: turn thy wheel!\\nSleeps\\n\\nSCENE III. A wood.\\nEnter EDGAR\\nEDGAR\\nI heard myself proclaim'd;\\nAnd by the happy hollow of a tree\\nEscaped the hunt. No port is free; no place,\\nThat guard, and most unusual vigilance,\\nDoes not attend my taking. Whiles I may 'scape,\\nI will preserve myself: and am bethought\\nTo take the basest and most poorest shape\\nThat ever penury, in contempt of man,\\nBrought near to beast: my face I'll grime with filth;\\nBlanket my loins: elf all my hair in knots;\\nAnd with presented nakedness out-face\\nThe winds and persecutions of the sky.\\nThe country gives me proof and precedent\\nOf Bedlam beggars, who, with roaring voices,\\nStrike in their numb'd and mortified bare arms\\nPins, wooden pricks, nails, sprigs of rosemary;\\nAnd with this horrible object, from low farms,\\nPoor pelting villages, sheep-cotes, and mills,\\nSometime with lunatic bans, sometime with prayers,\\nEnforce their charity. Poor Turlygod! poor Tom!\\nThat's something yet: Edgar I nothing am.\\nExit\\n\\nSCENE IV. Before GLOUCESTER's castle. KENT in the stocks.\\nEnter KING LEAR, Fool, and Gentleman\\nKING LEAR\\n'Tis strange that they should so depart from home,\\nAnd not send back my messenger.\\nGentleman\\nAs I learn'd,\\nThe night before there was no purpose in them\\nOf this remove.\\nKENT\\nHail to thee, noble master!\\nKING LEAR\\nHa!\\nMakest thou this shame thy pastime?\\nKENT\\nNo, my lord.\\nFool\\nHa, ha! he wears cruel garters. Horses are tied\\nby the heads, dogs and bears by the neck, monkeys by\\nthe loins, and men by the legs: when a man's\\nover-lusty at legs, then he wears wooden\\nnether-stocks.\\nKING LEAR\\nWhat's he that hath so much thy place mistook\\nTo set thee here?\\nKENT\\nIt is both he and she;\\nYour son and daughter.\\nKING LEAR\\nNo.\\nKENT\\nYes.\\nKING LEAR\\nNo, I say.\\nKENT\\nI say, yea.\\nKING LEAR\\nNo, no, they would not.\\nKENT\\nYes, they have.\\nKING LEAR\\nBy Jupiter, I swear, no.\\nKENT\\nBy Juno, I swear, ay.\\nKING LEAR\\nThey durst not do 't;\\nThey could not, would not do 't; 'tis worse than murder,\\nTo do upon respect such violent outrage:\\nResolve me, with all modest haste, which way\\nThou mightst deserve, or they impose, this usage,\\nComing from us.\\nKENT\\nMy lord, when at their home\\nI did commend your highness' letters to them,\\nEre I was risen from the place that show'd\\nMy duty kneeling, came there a reeking post,\\nStew'd in his haste, half breathless, panting forth\\nFrom Goneril his mistress salutations;\\nDeliver'd letters, spite of intermission,\\nWhich presently they read: on whose contents,\\nThey summon'd up their meiny, straight took horse;\\nCommanded me to follow, and attend\\nThe leisure of their answer; gave me cold looks:\\nAnd meeting here the other messenger,\\nWhose welcome, I perceived, had poison'd mine,--\\nBeing the very fellow that of late\\nDisplay'd so saucily against your highness,--\\nHaving more man than wit about me, drew:\\nHe raised the house with loud and coward cries.\\nYour son and daughter found this trespass worth\\nThe shame which here it suffers.\\nFool\\nWinter's not gone yet, if the wild-geese fly that way.\\nFathers that wear rags\\nDo make their children blind;\\nBut fathers that bear bags\\nShall see their children kind.\\nFortune, that arrant whore,\\nNe'er turns the key to the poor.\\nBut, for all this, thou shalt have as many dolours\\nfor thy daughters as thou canst tell in a year.\\nKING LEAR\\nO, how this mother swells up toward my heart!\\nHysterica passio, down, thou climbing sorrow,\\nThy element's below! Where is this daughter?\\nKENT\\nWith the earl, sir, here within.\\nKING LEAR\\nFollow me not;\\nStay here.\\nExit\\n\\nGentleman\\nMade you no more offence but what you speak of?\\nKENT\\nNone.\\nHow chance the king comes with so small a train?\\nFool\\nAnd thou hadst been set i' the stocks for that\\nquestion, thou hadst well deserved it.\\nKENT\\nWhy, fool?\\nFool\\nWe'll set thee to school to an ant, to teach thee\\nthere's no labouring i' the winter. All that follow\\ntheir noses are led by their eyes but blind men; and\\nthere's not a nose among twenty but can smell him\\nthat's stinking. Let go thy hold when a great wheel\\nruns down a hill, lest it break thy neck with\\nfollowing it: but the great one that goes up the\\nhill, let him draw thee after. When a wise man\\ngives thee better counsel, give me mine again: I\\nwould have none but knaves follow it, since a fool gives it.\\nThat sir which serves and seeks for gain,\\nAnd follows but for form,\\nWill pack when it begins to rain,\\nAnd leave thee in the storm,\\nBut I will tarry; the fool will stay,\\nAnd let the wise man fly:\\nThe knave turns fool that runs away;\\nThe fool no knave, perdy.\\nKENT\\nWhere learned you this, fool?\\nFool\\nNot i' the stocks, fool.\\nRe-enter KING LEAR with GLOUCESTER\\n\\nKING LEAR\\nDeny to speak with me? They are sick? they are weary?\\nThey have travell'd all the night? Mere fetches;\\nThe images of revolt and flying off.\\nFetch me a better answer.\\nGLOUCESTER\\nMy dear lord,\\nYou know the fiery quality of the duke;\\nHow unremoveable and fix'd he is\\nIn his own course.\\nKING LEAR\\nVengeance! plague! death! confusion!\\nFiery? what quality? Why, Gloucester, Gloucester,\\nI'ld speak with the Duke of Cornwall and his wife.\\nGLOUCESTER\\nWell, my good lord, I have inform'd them so.\\nKING LEAR\\nInform'd them! Dost thou understand me, man?\\nGLOUCESTER\\nAy, my good lord.\\nKING LEAR\\nThe king would speak with Cornwall; the dear father\\nWould with his daughter speak, commands her service:\\nAre they inform'd of this? My breath and blood!\\nFiery? the fiery duke? Tell the hot duke that--\\nNo, but not yet: may be he is not well:\\nInfirmity doth still neglect all office\\nWhereto our health is bound; we are not ourselves\\nWhen nature, being oppress'd, commands the mind\\nTo suffer with the body: I'll forbear;\\nAnd am fall'n out with my more headier will,\\nTo take the indisposed and sickly fit\\nFor the sound man. Death on my state! wherefore\\nLooking on KENT\\n\\nShould he sit here? This act persuades me\\nThat this remotion of the duke and her\\nIs practise only. Give me my servant forth.\\nGo tell the duke and 's wife I'ld speak with them,\\nNow, presently: bid them come forth and hear me,\\nOr at their chamber-door I'll beat the drum\\nTill it cry sleep to death.\\nGLOUCESTER\\nI would have all well betwixt you.\\nExit\\n\\nKING LEAR\\nO me, my heart, my rising heart! but, down!\\nFool\\nCry to it, nuncle, as the cockney did to the eels\\nwhen she put 'em i' the paste alive; she knapped 'em\\no' the coxcombs with a stick, and cried 'Down,\\nwantons, down!' 'Twas her brother that, in pure\\nkindness to his horse, buttered his hay.\\nEnter CORNWALL, REGAN, GLOUCESTER, and Servants\\n\\nKING LEAR\\nGood morrow to you both.\\nCORNWALL\\nHail to your grace!\\nKENT is set at liberty\\n\\nREGAN\\nI am glad to see your highness.\\nKING LEAR\\nRegan, I think you are; I know what reason\\nI have to think so: if thou shouldst not be glad,\\nI would divorce me from thy mother's tomb,\\nSepulchring an adultress.\\nTo KENT\\n\\nO, are you free?\\nSome other time for that. Beloved Regan,\\nThy sister's naught: O Regan, she hath tied\\nSharp-tooth'd unkindness, like a vulture, here:\\nPoints to his heart\\n\\nI can scarce speak to thee; thou'lt not believe\\nWith how depraved a quality--O Regan!\\nREGAN\\nI pray you, sir, take patience: I have hope.\\nYou less know how to value her desert\\nThan she to scant her duty.\\nKING LEAR\\nSay, how is that?\\nREGAN\\nI cannot think my sister in the least\\nWould fail her obligation: if, sir, perchance\\nShe have restrain'd the riots of your followers,\\n'Tis on such ground, and to such wholesome end,\\nAs clears her from all blame.\\nKING LEAR\\nMy curses on her!\\nREGAN\\nO, sir, you are old.\\nNature in you stands on the very verge\\nOf her confine: you should be ruled and led\\nBy some discretion, that discerns your state\\nBetter than you yourself. Therefore, I pray you,\\nThat to our sister you do make return;\\nSay you have wrong'd her, sir.\\nKING LEAR\\nAsk her forgiveness?\\nDo you but mark how this becomes the house:\\n'Dear daughter, I confess that I am old;\\nKneeling\\n\\nAge is unnecessary: on my knees I beg\\nThat you'll vouchsafe me raiment, bed, and food.'\\nREGAN\\nGood sir, no more; these are unsightly tricks:\\nReturn you to my sister.\\nKING LEAR\\n[Rising] Never, Regan:\\nShe hath abated me of half my train;\\nLook'd black upon me; struck me with her tongue,\\nMost serpent-like, upon the very heart:\\nAll the stored vengeances of heaven fall\\nOn her ingrateful top! Strike her young bones,\\nYou taking airs, with lameness!\\nCORNWALL\\nFie, sir, fie!\\nKING LEAR\\nYou nimble lightnings, dart your blinding flames\\nInto her scornful eyes! Infect her beauty,\\nYou fen-suck'd fogs, drawn by the powerful sun,\\nTo fall and blast her pride!\\nREGAN\\nO the blest gods! so will you wish on me,\\nWhen the rash mood is on.\\nKING LEAR\\nNo, Regan, thou shalt never have my curse:\\nThy tender-hefted nature shall not give\\nThee o'er to harshness: her eyes are fierce; but thine\\nDo comfort and not burn. 'Tis not in thee\\nTo grudge my pleasures, to cut off my train,\\nTo bandy hasty words, to scant my sizes,\\nAnd in conclusion to oppose the bolt\\nAgainst my coming in: thou better know'st\\nThe offices of nature, bond of childhood,\\nEffects of courtesy, dues of gratitude;\\nThy half o' the kingdom hast thou not forgot,\\nWherein I thee endow'd.\\nREGAN\\nGood sir, to the purpose.\\nKING LEAR\\nWho put my man i' the stocks?\\nTucket within\\n\\nCORNWALL\\nWhat trumpet's that?\\nREGAN\\nI know't, my sister's: this approves her letter,\\nThat she would soon be here.\\nEnter OSWALD\\n\\nIs your lady come?\\nKING LEAR\\nThis is a slave, whose easy-borrow'd pride\\nDwells in the fickle grace of her he follows.\\nOut, varlet, from my sight!\\nCORNWALL\\nWhat means your grace?\\nKING LEAR\\nWho stock'd my servant? Regan, I have good hope\\nThou didst not know on't. Who comes here? O heavens,\\nEnter GONERIL\\n\\nIf you do love old men, if your sweet sway\\nAllow obedience, if yourselves are old,\\nMake it your cause; send down, and take my part!\\nTo GONERIL\\n\\nArt not ashamed to look upon this beard?\\nO Regan, wilt thou take her by the hand?\\nGONERIL\\nWhy not by the hand, sir? How have I offended?\\nAll's not offence that indiscretion finds\\nAnd dotage terms so.\\nKING LEAR\\nO sides, you are too tough;\\nWill you yet hold? How came my man i' the stocks?\\nCORNWALL\\nI set him there, sir: but his own disorders\\nDeserved much less advancement.\\nKING LEAR\\nYou! did you?\\nREGAN\\nI pray you, father, being weak, seem so.\\nIf, till the expiration of your month,\\nYou will return and sojourn with my sister,\\nDismissing half your train, come then to me:\\nI am now from home, and out of that provision\\nWhich shall be needful for your entertainment.\\nKING LEAR\\nReturn to her, and fifty men dismiss'd?\\nNo, rather I abjure all roofs, and choose\\nTo wage against the enmity o' the air;\\nTo be a comrade with the wolf and owl,--\\nNecessity's sharp pinch! Return with her?\\nWhy, the hot-blooded France, that dowerless took\\nOur youngest born, I could as well be brought\\nTo knee his throne, and, squire-like; pension beg\\nTo keep base life afoot. Return with her?\\nPersuade me rather to be slave and sumpter\\nTo this detested groom.\\nPointing at OSWALD\\n\\nGONERIL\\nAt your choice, sir.\\nKING LEAR\\nI prithee, daughter, do not make me mad:\\nI will not trouble thee, my child; farewell:\\nWe'll no more meet, no more see one another:\\nBut yet thou art my flesh, my blood, my daughter;\\nOr rather a disease that's in my flesh,\\nWhich I must needs call mine: thou art a boil,\\nA plague-sore, an embossed carbuncle,\\nIn my corrupted blood. But I'll not chide thee;\\nLet shame come when it will, I do not call it:\\nI do not bid the thunder-bearer shoot,\\nNor tell tales of thee to high-judging Jove:\\nMend when thou canst; be better at thy leisure:\\nI can be patient; I can stay with Regan,\\nI and my hundred knights.\\nREGAN\\nNot altogether so:\\nI look'd not for you yet, nor am provided\\nFor your fit welcome. Give ear, sir, to my sister;\\nFor those that mingle reason with your passion\\nMust be content to think you old, and so--\\nBut she knows what she does.\\nKING LEAR\\nIs this well spoken?\\nREGAN\\nI dare avouch it, sir: what, fifty followers?\\nIs it not well? What should you need of more?\\nYea, or so many, sith that both charge and danger\\nSpeak 'gainst so great a number? How, in one house,\\nShould many people, under two commands,\\nHold amity? 'Tis hard; almost impossible.\\nGONERIL\\nWhy might not you, my lord, receive attendance\\nFrom those that she calls servants or from mine?\\nREGAN\\nWhy not, my lord? If then they chanced to slack you,\\nWe could control them. If you will come to me,--\\nFor now I spy a danger,--I entreat you\\nTo bring but five and twenty: to no more\\nWill I give place or notice.\\nKING LEAR\\nI gave you all--\\nREGAN\\nAnd in good time you gave it.\\nKING LEAR\\nMade you my guardians, my depositaries;\\nBut kept a reservation to be follow'd\\nWith such a number. What, must I come to you\\nWith five and twenty, Regan? said you so?\\nREGAN\\nAnd speak't again, my lord; no more with me.\\nKING LEAR\\nThose wicked creatures yet do look well-favour'd,\\nWhen others are more wicked: not being the worst\\nStands in some rank of praise.\\nTo GONERIL\\n\\nI'll go with thee:\\nThy fifty yet doth double five and twenty,\\nAnd thou art twice her love.\\nGONERIL\\nHear me, my lord;\\nWhat need you five and twenty, ten, or five,\\nTo follow in a house where twice so many\\nHave a command to tend you?\\nREGAN\\nWhat need one?\\nKING LEAR\\nO, reason not the need: our basest beggars\\nAre in the poorest thing superfluous:\\nAllow not nature more than nature needs,\\nMan's life's as cheap as beast's: thou art a lady;\\nIf only to go warm were gorgeous,\\nWhy, nature needs not what thou gorgeous wear'st,\\nWhich scarcely keeps thee warm. But, for true need,--\\nYou heavens, give me that patience, patience I need!\\nYou see me here, you gods, a poor old man,\\nAs full of grief as age; wretched in both!\\nIf it be you that stir these daughters' hearts\\nAgainst their father, fool me not so much\\nTo bear it tamely; touch me with noble anger,\\nAnd let not women's weapons, water-drops,\\nStain my man's cheeks! No, you unnatural hags,\\nI will have such revenges on you both,\\nThat all the world shall--I will do such things,--\\nWhat they are, yet I know not: but they shall be\\nThe terrors of the earth. You think I'll weep\\nNo, I'll not weep:\\nI have full cause of weeping; but this heart\\nShall break into a hundred thousand flaws,\\nOr ere I'll weep. O fool, I shall go mad!\\nExeunt KING LEAR, GLOUCESTER, KENT, and Fool\\n\\nStorm and tempest\\n\\nCORNWALL\\nLet us withdraw; 'twill be a storm.\\nREGAN\\nThis house is little: the old man and his people\\nCannot be well bestow'd.\\nGONERIL\\n'Tis his own blame; hath put himself from rest,\\nAnd must needs taste his folly.\\nREGAN\\nFor his particular, I'll receive him gladly,\\nBut not one follower.\\nGONERIL\\nSo am I purposed.\\nWhere is my lord of Gloucester?\\nCORNWALL\\nFollow'd the old man forth: he is return'd.\\nRe-enter GLOUCESTER\\n\\nGLOUCESTER\\nThe king is in high rage.\\nCORNWALL\\nWhither is he going?\\nGLOUCESTER\\nHe calls to horse; but will I know not whither.\\nCORNWALL\\n'Tis best to give him way; he leads himself.\\nGONERIL\\nMy lord, entreat him by no means to stay.\\nGLOUCESTER\\nAlack, the night comes on, and the bleak winds\\nDo sorely ruffle; for many miles a bout\\nThere's scarce a bush.\\nREGAN\\nO, sir, to wilful men,\\nThe injuries that they themselves procure\\nMust be their schoolmasters. Shut up your doors:\\nHe is attended with a desperate train;\\nAnd what they may incense him to, being apt\\nTo have his ear abused, wisdom bids fear.\\nCORNWALL\\nShut up your doors, my lord; 'tis a wild night:\\nMy Regan counsels well; come out o' the storm.\\nExeunt\\n\\nACT III\\nSCENE I. A heath.\\nStorm still. Enter KENT and a Gentleman, meeting\\nKENT\\nWho's there, besides foul weather?\\nGentleman\\nOne minded like the weather, most unquietly.\\nKENT\\nI know you. Where's the king?\\nGentleman\\nContending with the fretful element:\\nBids the winds blow the earth into the sea,\\nOr swell the curled water 'bove the main,\\nThat things might change or cease; tears his white hair,\\nWhich the impetuous blasts, with eyeless rage,\\nCatch in their fury, and make nothing of;\\nStrives in his little world of man to out-scorn\\nThe to-and-fro-conflicting wind and rain.\\nThis night, wherein the cub-drawn bear would couch,\\nThe lion and the belly-pinched wolf\\nKeep their fur dry, unbonneted he runs,\\nAnd bids what will take all.\\nKENT\\nBut who is with him?\\nGentleman\\nNone but the fool; who labours to out-jest\\nHis heart-struck injuries.\\nKENT\\nSir, I do know you;\\nAnd dare, upon the warrant of my note,\\nCommend a dear thing to you. There is division,\\nAlthough as yet the face of it be cover'd\\nWith mutual cunning, 'twixt Albany and Cornwall;\\nWho have--as who have not, that their great stars\\nThroned and set high?--servants, who seem no less,\\nWhich are to France the spies and speculations\\nIntelligent of our state; what hath been seen,\\nEither in snuffs and packings of the dukes,\\nOr the hard rein which both of them have borne\\nAgainst the old kind king; or something deeper,\\nWhereof perchance these are but furnishings;\\nBut, true it is, from France there comes a power\\nInto this scatter'd kingdom; who already,\\nWise in our negligence, have secret feet\\nIn some of our best ports, and are at point\\nTo show their open banner. Now to you:\\nIf on my credit you dare build so far\\nTo make your speed to Dover, you shall find\\nSome that will thank you, making just report\\nOf how unnatural and bemadding sorrow\\nThe king hath cause to plain.\\nI am a gentleman of blood and breeding;\\nAnd, from some knowledge and assurance, offer\\nThis office to you.\\nGentleman\\nI will talk further with you.\\nKENT\\nNo, do not.\\nFor confirmation that I am much more\\nThan my out-wall, open this purse, and take\\nWhat it contains. If you shall see Cordelia,--\\nAs fear not but you shall,--show her this ring;\\nAnd she will tell you who your fellow is\\nThat yet you do not know. Fie on this storm!\\nI will go seek the king.\\nGentleman\\nGive me your hand: have you no more to say?\\nKENT\\nFew words, but, to effect, more than all yet;\\nThat, when we have found the king,--in which your pain\\nThat way, I'll this,--he that first lights on him\\nHolla the other.\\nExeunt severally\\n\\nSCENE II. Another part of the heath. Storm still.\\nEnter KING LEAR and Fool\\nKING LEAR\\nBlow, winds, and crack your cheeks! rage! blow!\\nYou cataracts and hurricanoes, spout\\nTill you have drench'd our steeples, drown'd the cocks!\\nYou sulphurous and thought-executing fires,\\nVaunt-couriers to oak-cleaving thunderbolts,\\nSinge my white head! And thou, all-shaking thunder,\\nSmite flat the thick rotundity o' the world!\\nCrack nature's moulds, an germens spill at once,\\nThat make ingrateful man!\\nFool\\nO nuncle, court holy-water in a dry\\nhouse is better than this rain-water out o' door.\\nGood nuncle, in, and ask thy daughters' blessing:\\nhere's a night pities neither wise man nor fool.\\nKING LEAR\\nRumble thy bellyful! Spit, fire! spout, rain!\\nNor rain, wind, thunder, fire, are my daughters:\\nI tax not you, you elements, with unkindness;\\nI never gave you kingdom, call'd you children,\\nYou owe me no subscription: then let fall\\nYour horrible pleasure: here I stand, your slave,\\nA poor, infirm, weak, and despised old man:\\nBut yet I call you servile ministers,\\nThat have with two pernicious daughters join'd\\nYour high engender'd battles 'gainst a head\\nSo old and white as this. O! O! 'tis foul!\\nFool\\nHe that has a house to put's head in has a good\\nhead-piece.\\nThe cod-piece that will house\\nBefore the head has any,\\nThe head and he shall louse;\\nSo beggars marry many.\\nThe man that makes his toe\\nWhat he his heart should make\\nShall of a corn cry woe,\\nAnd turn his sleep to wake.\\nFor there was never yet fair woman but she made\\nmouths in a glass.\\nKING LEAR\\nNo, I will be the pattern of all patience;\\nI will say nothing.\\nEnter KENT\\n\\nKENT\\nWho's there?\\nFool\\nMarry, here's grace and a cod-piece; that's a wise\\nman and a fool.\\nKENT\\nAlas, sir, are you here? things that love night\\nLove not such nights as these; the wrathful skies\\nGallow the very wanderers of the dark,\\nAnd make them keep their caves: since I was man,\\nSuch sheets of fire, such bursts of horrid thunder,\\nSuch groans of roaring wind and rain, I never\\nRemember to have heard: man's nature cannot carry\\nThe affliction nor the fear.\\nKING LEAR\\nLet the great gods,\\nThat keep this dreadful pother o'er our heads,\\nFind out their enemies now. Tremble, thou wretch,\\nThat hast within thee undivulged crimes,\\nUnwhipp'd of justice: hide thee, thou bloody hand;\\nThou perjured, and thou simular man of virtue\\nThat art incestuous: caitiff, to pieces shake,\\nThat under covert and convenient seeming\\nHast practised on man's life: close pent-up guilts,\\nRive your concealing continents, and cry\\nThese dreadful summoners grace. I am a man\\nMore sinn'd against than sinning.\\nKENT\\nAlack, bare-headed!\\nGracious my lord, hard by here is a hovel;\\nSome friendship will it lend you 'gainst the tempest:\\nRepose you there; while I to this hard house--\\nMore harder than the stones whereof 'tis raised;\\nWhich even but now, demanding after you,\\nDenied me to come in--return, and force\\nTheir scanted courtesy.\\nKING LEAR\\nMy wits begin to turn.\\nCome on, my boy: how dost, my boy? art cold?\\nI am cold myself. Where is this straw, my fellow?\\nThe art of our necessities is strange,\\nThat can make vile things precious. Come,\\nyour hovel.\\nPoor fool and knave, I have one part in my heart\\nThat's sorry yet for thee.\\nFool\\n[Singing]\\nHe that has and a little tiny wit--\\nWith hey, ho, the wind and the rain,--\\nMust make content with his fortunes fit,\\nFor the rain it raineth every day.\\nKING LEAR\\nTrue, my good boy. Come, bring us to this hovel.\\nExeunt KING LEAR and KENT\\n\\nFool\\nThis is a brave night to cool a courtezan.\\nI'll speak a prophecy ere I go:\\nWhen priests are more in word than matter;\\nWhen brewers mar their malt with water;\\nWhen nobles are their tailors' tutors;\\nNo heretics burn'd, but wenches' suitors;\\nWhen every case in law is right;\\nNo squire in debt, nor no poor knight;\\nWhen slanders do not live in tongues;\\nNor cutpurses come not to throngs;\\nWhen usurers tell their gold i' the field;\\nAnd bawds and whores do churches build;\\nThen shall the realm of Albion\\nCome to great confusion:\\nThen comes the time, who lives to see't,\\nThat going shall be used with feet.\\nThis prophecy Merlin shall make; for I live before his time.\\nExit\\n\\nSCENE III. Gloucester's castle.\\nEnter GLOUCESTER and EDMUND\\nGLOUCESTER\\nAlack, alack, Edmund, I like not this unnatural\\ndealing. When I desire their leave that I might\\npity him, they took from me the use of mine own\\nhouse; charged me, on pain of their perpetual\\ndispleasure, neither to speak of him, entreat for\\nhim, nor any way sustain him.\\nEDMUND\\nMost savage and unnatural!\\nGLOUCESTER\\nGo to; say you nothing. There's a division betwixt\\nthe dukes; and a worse matter than that: I have\\nreceived a letter this night; 'tis dangerous to be\\nspoken; I have locked the letter in my closet:\\nthese injuries the king now bears will be revenged\\nhome; there's part of a power already footed: we\\nmust incline to the king. I will seek him, and\\nprivily relieve him: go you and maintain talk with\\nthe duke, that my charity be not of him perceived:\\nif he ask for me. I am ill, and gone to bed.\\nThough I die for it, as no less is threatened me,\\nthe king my old master must be relieved. There is\\nsome strange thing toward, Edmund; pray you, be careful.\\nExit\\n\\nEDMUND\\nThis courtesy, forbid thee, shall the duke\\nInstantly know; and of that letter too:\\nThis seems a fair deserving, and must draw me\\nThat which my father loses; no less than all:\\nThe younger rises when the old doth fall.\\nExit\\n\\nSCENE IV. The heath. Before a hovel.\\nEnter KING LEAR, KENT, and Fool\\nKENT\\nHere is the place, my lord; good my lord, enter:\\nThe tyranny of the open night's too rough\\nFor nature to endure.\\nStorm still\\n\\nKING LEAR\\nLet me alone.\\nKENT\\nGood my lord, enter here.\\nKING LEAR\\nWilt break my heart?\\nKENT\\nI had rather break mine own. Good my lord, enter.\\nKING LEAR\\nThou think'st 'tis much that this contentious storm\\nInvades us to the skin: so 'tis to thee;\\nBut where the greater malady is fix'd,\\nThe lesser is scarce felt. Thou'ldst shun a bear;\\nBut if thy flight lay toward the raging sea,\\nThou'ldst meet the bear i' the mouth. When the\\nmind's free,\\nThe body's delicate: the tempest in my mind\\nDoth from my senses take all feeling else\\nSave what beats there. Filial ingratitude!\\nIs it not as this mouth should tear this hand\\nFor lifting food to't? But I will punish home:\\nNo, I will weep no more. In such a night\\nTo shut me out! Pour on; I will endure.\\nIn such a night as this! O Regan, Goneril!\\nYour old kind father, whose frank heart gave all,--\\nO, that way madness lies; let me shun that;\\nNo more of that.\\nKENT\\nGood my lord, enter here.\\nKING LEAR\\nPrithee, go in thyself: seek thine own ease:\\nThis tempest will not give me leave to ponder\\nOn things would hurt me more. But I'll go in.\\nTo the Fool\\n\\nIn, boy; go first. You houseless poverty,--\\nNay, get thee in. I'll pray, and then I'll sleep.\\nFool goes in\\n\\nPoor naked wretches, whereso'er you are,\\nThat bide the pelting of this pitiless storm,\\nHow shall your houseless heads and unfed sides,\\nYour loop'd and window'd raggedness, defend you\\nFrom seasons such as these? O, I have ta'en\\nToo little care of this! Take physic, pomp;\\nExpose thyself to feel what wretches feel,\\nThat thou mayst shake the superflux to them,\\nAnd show the heavens more just.\\nEDGAR\\n[Within] Fathom and half, fathom and half! Poor Tom!\\nThe Fool runs out from the hovel\\n\\nFool\\nCome not in here, nuncle, here's a spirit\\nHelp me, help me!\\nKENT\\nGive me thy hand. Who's there?\\nFool\\nA spirit, a spirit: he says his name's poor Tom.\\nKENT\\nWhat art thou that dost grumble there i' the straw?\\nCome forth.\\nEnter EDGAR disguised as a mad man\\n\\nEDGAR\\nAway! the foul fiend follows me!\\nThrough the sharp hawthorn blows the cold wind.\\nHum! go to thy cold bed, and warm thee.\\nKING LEAR\\nHast thou given all to thy two daughters?\\nAnd art thou come to this?\\nEDGAR\\nWho gives any thing to poor Tom? whom the foul\\nfiend hath led through fire and through flame, and\\nthrough ford and whirlipool e'er bog and quagmire;\\nthat hath laid knives under his pillow, and halters\\nin his pew; set ratsbane by his porridge; made film\\nproud of heart, to ride on a bay trotting-horse over\\nfour-inched bridges, to course his own shadow for a\\ntraitor. Bless thy five wits! Tom's a-cold,--O, do\\nde, do de, do de. Bless thee from whirlwinds,\\nstar-blasting, and taking! Do poor Tom some\\ncharity, whom the foul fiend vexes: there could I\\nhave him now,--and there,--and there again, and there.\\nStorm still\\n\\nKING LEAR\\nWhat, have his daughters brought him to this pass?\\nCouldst thou save nothing? Didst thou give them all?\\nFool\\nNay, he reserved a blanket, else we had been all shamed.\\nKING LEAR\\nNow, all the plagues that in the pendulous air\\nHang fated o'er men's faults light on thy daughters!\\nKENT\\nHe hath no daughters, sir.\\nKING LEAR\\nDeath, traitor! nothing could have subdued nature\\nTo such a lowness but his unkind daughters.\\nIs it the fashion, that discarded fathers\\nShould have thus little mercy on their flesh?\\nJudicious punishment! 'twas this flesh begot\\nThose pelican daughters.\\nEDGAR\\nPillicock sat on Pillicock-hill:\\nHalloo, halloo, loo, loo!\\nFool\\nThis cold night will turn us all to fools and madmen.\\nEDGAR\\nTake heed o' the foul fiend: obey thy parents;\\nkeep thy word justly; swear not; commit not with\\nman's sworn spouse; set not thy sweet heart on proud\\narray. Tom's a-cold.\\nKING LEAR\\nWhat hast thou been?\\nEDGAR\\nA serving-man, proud in heart and mind; that curled\\nmy hair; wore gloves in my cap; served the lust of\\nmy mistress' heart, and did the act of darkness with\\nher; swore as many oaths as I spake words, and\\nbroke them in the sweet face of heaven: one that\\nslept in the contriving of lust, and waked to do it:\\nwine loved I deeply, dice dearly: and in woman\\nout-paramoured the Turk: false of heart, light of\\near, bloody of hand; hog in sloth, fox in stealth,\\nwolf in greediness, dog in madness, lion in prey.\\nLet not the creaking of shoes nor the rustling of\\nsilks betray thy poor heart to woman: keep thy foot\\nout of brothels, thy hand out of plackets, thy pen\\nfrom lenders' books, and defy the foul fiend.\\nStill through the hawthorn blows the cold wind:\\nSays suum, mun, ha, no, nonny.\\nDolphin my boy, my boy, sessa! let him trot by.\\nStorm still\\n\\nKING LEAR\\nWhy, thou wert better in thy grave than to answer\\nwith thy uncovered body this extremity of the skies.\\nIs man no more than this? Consider him well. Thou\\nowest the worm no silk, the beast no hide, the sheep\\nno wool, the cat no perfume. Ha! here's three on\\n's are sophisticated! Thou art the thing itself:\\nunaccommodated man is no more but such a poor bare,\\nforked animal as thou art. Off, off, you lendings!\\ncome unbutton here.\\nTearing off his clothes\\n\\nFool\\nPrithee, nuncle, be contented; 'tis a naughty night\\nto swim in. Now a little fire in a wild field were\\nlike an old lecher's heart; a small spark, all the\\nrest on's body cold. Look, here comes a walking fire.\\nEnter GLOUCESTER, with a torch\\n\\nEDGAR\\nThis is the foul fiend Flibbertigibbet: he begins\\nat curfew, and walks till the first cock; he gives\\nthe web and the pin, squints the eye, and makes the\\nhare-lip; mildews the white wheat, and hurts the\\npoor creature of earth.\\nS. Withold footed thrice the old;\\nHe met the night-mare, and her nine-fold;\\nBid her alight,\\nAnd her troth plight,\\nAnd, aroint thee, witch, aroint thee!\\nKENT\\nHow fares your grace?\\nKING LEAR\\nWhat's he?\\nKENT\\nWho's there? What is't you seek?\\nGLOUCESTER\\nWhat are you there? Your names?\\nEDGAR\\nPoor Tom; that eats the swimming frog, the toad,\\nthe tadpole, the wall-newt and the water; that in\\nthe fury of his heart, when the foul fiend rages,\\neats cow-dung for sallets; swallows the old rat and\\nthe ditch-dog; drinks the green mantle of the\\nstanding pool; who is whipped from tithing to\\ntithing, and stock- punished, and imprisoned; who\\nhath had three suits to his back, six shirts to his\\nbody, horse to ride, and weapon to wear;\\nBut mice and rats, and such small deer,\\nHave been Tom's food for seven long year.\\nBeware my follower. Peace, Smulkin; peace, thou fiend!\\nGLOUCESTER\\nWhat, hath your grace no better company?\\nEDGAR\\nThe prince of darkness is a gentleman:\\nModo he's call'd, and Mahu.\\nGLOUCESTER\\nOur flesh and blood is grown so vile, my lord,\\nThat it doth hate what gets it.\\nEDGAR\\nPoor Tom's a-cold.\\nGLOUCESTER\\nGo in with me: my duty cannot suffer\\nTo obey in all your daughters' hard commands:\\nThough their injunction be to bar my doors,\\nAnd let this tyrannous night take hold upon you,\\nYet have I ventured to come seek you out,\\nAnd bring you where both fire and food is ready.\\nKING LEAR\\nFirst let me talk with this philosopher.\\nWhat is the cause of thunder?\\nKENT\\nGood my lord, take his offer; go into the house.\\nKING LEAR\\nI'll talk a word with this same learned Theban.\\nWhat is your study?\\nEDGAR\\nHow to prevent the fiend, and to kill vermin.\\nKING LEAR\\nLet me ask you one word in private.\\nKENT\\nImportune him once more to go, my lord;\\nHis wits begin to unsettle.\\nGLOUCESTER\\nCanst thou blame him?\\nStorm still\\n\\nHis daughters seek his death: ah, that good Kent!\\nHe said it would be thus, poor banish'd man!\\nThou say'st the king grows mad; I'll tell thee, friend,\\nI am almost mad myself: I had a son,\\nNow outlaw'd from my blood; he sought my life,\\nBut lately, very late: I loved him, friend;\\nNo father his son dearer: truth to tell thee,\\nThe grief hath crazed my wits. What a night's this!\\nI do beseech your grace,--\\nKING LEAR\\nO, cry your mercy, sir.\\nNoble philosopher, your company.\\nEDGAR\\nTom's a-cold.\\nGLOUCESTER\\nIn, fellow, there, into the hovel: keep thee warm.\\nKING LEAR\\nCome let's in all.\\nKENT\\nThis way, my lord.\\nKING LEAR\\nWith him;\\nI will keep still with my philosopher.\\nKENT\\nGood my lord, soothe him; let him take the fellow.\\nGLOUCESTER\\nTake him you on.\\nKENT\\nSirrah, come on; go along with us.\\nKING LEAR\\nCome, good Athenian.\\nGLOUCESTER\\nNo words, no words: hush.\\nEDGAR\\nChild Rowland to the dark tower came,\\nHis word was still,--Fie, foh, and fum,\\nI smell the blood of a British man.\\nExeunt\\n\\nSCENE V. Gloucester's castle.\\nEnter CORNWALL and EDMUND\\nCORNWALL\\nI will have my revenge ere I depart his house.\\nEDMUND\\nHow, my lord, I may be censured, that nature thus\\ngives way to loyalty, something fears me to think\\nof.\\nCORNWALL\\nI now perceive, it was not altogether your\\nbrother's evil disposition made him seek his death;\\nbut a provoking merit, set a-work by a reprovable\\nbadness in himself.\\nEDMUND\\nHow malicious is my fortune, that I must repent to\\nbe just! This is the letter he spoke of, which\\napproves him an intelligent party to the advantages\\nof France: O heavens! that this treason were not,\\nor not I the detector!\\nCORNWALL\\no with me to the duchess.\\nEDMUND\\nIf the matter of this paper be certain, you have\\nmighty business in hand.\\nCORNWALL\\nTrue or false, it hath made thee earl of\\nGloucester. Seek out where thy father is, that he\\nmay be ready for our apprehension.\\nEDMUND\\n[Aside] If I find him comforting the king, it will\\nstuff his suspicion more fully.--I will persevere in\\nmy course of loyalty, though the conflict be sore\\nbetween that and my blood.\\nCORNWALL\\nI will lay trust upon thee; and thou shalt find a\\ndearer father in my love.\\nExeunt\\n\\nSCENE VI. A chamber in a farmhouse adjoining the castle.\\nEnter GLOUCESTER, KING LEAR, KENT, Fool, and EDGAR\\nGLOUCESTER\\nHere is better than the open air; take it\\nthankfully. I will piece out the comfort with what\\naddition I can: I will not be long from you.\\nKENT\\nAll the power of his wits have given way to his\\nimpatience: the gods reward your kindness!\\nExit GLOUCESTER\\n\\nEDGAR\\nFrateretto calls me; and tells me\\nNero is an angler in the lake of darkness.\\nPray, innocent, and beware the foul fiend.\\nFool\\nPrithee, nuncle, tell me whether a madman be a\\ngentleman or a yeoman?\\nKING LEAR\\nA king, a king!\\nFool\\nNo, he's a yeoman that has a gentleman to his son;\\nfor he's a mad yeoman that sees his son a gentleman\\nbefore him.\\nKING LEAR\\nTo have a thousand with red burning spits\\nCome hissing in upon 'em,--\\nEDGAR\\nThe foul fiend bites my back.\\nFool\\nHe's mad that trusts in the tameness of a wolf, a\\nhorse's health, a boy's love, or a whore's oath.\\nKING LEAR\\nIt shall be done; I will arraign them straight.\\nTo EDGAR\\n\\nCome, sit thou here, most learned justicer;\\nTo the Fool\\n\\nThou, sapient sir, sit here. Now, you she foxes!\\nEDGAR\\nLook, where he stands and glares!\\nWantest thou eyes at trial, madam?\\nCome o'er the bourn, Bessy, to me,--\\nFool\\nHer boat hath a leak,\\nAnd she must not speak\\nWhy she dares not come over to thee.\\nEDGAR\\nThe foul fiend haunts poor Tom in the voice of a\\nnightingale. Hopdance cries in Tom's belly for two\\nwhite herring. Croak not, black angel; I have no\\nfood for thee.\\nKENT\\nHow do you, sir? Stand you not so amazed:\\nWill you lie down and rest upon the cushions?\\nKING LEAR\\nI'll see their trial first. Bring in the evidence.\\nTo EDGAR\\n\\nThou robed man of justice, take thy place;\\nTo the Fool\\n\\nAnd thou, his yoke-fellow of equity,\\nBench by his side:\\nTo KENT\\n\\nyou are o' the commission,\\nSit you too.\\nEDGAR\\nLet us deal justly.\\nSleepest or wakest thou, jolly shepherd?\\nThy sheep be in the corn;\\nAnd for one blast of thy minikin mouth,\\nThy sheep shall take no harm.\\nPur! the cat is gray.\\nKING LEAR\\nArraign her first; 'tis Goneril. I here take my\\noath before this honourable assembly, she kicked the\\npoor king her father.\\nFool\\nCome hither, mistress. Is your name Goneril?\\nKING LEAR\\nShe cannot deny it.\\nFool\\nCry you mercy, I took you for a joint-stool.\\nKING LEAR\\nAnd here's another, whose warp'd looks proclaim\\nWhat store her heart is made on. Stop her there!\\nArms, arms, sword, fire! Corruption in the place!\\nFalse justicer, why hast thou let her 'scape?\\nEDGAR\\nBless thy five wits!\\nKENT\\nO pity! Sir, where is the patience now,\\nThat thou so oft have boasted to retain?\\nEDGAR\\n[Aside] My tears begin to take his part so much,\\nThey'll mar my counterfeiting.\\nKING LEAR\\nThe little dogs and all, Tray, Blanch, and\\nSweet-heart, see, they bark at me.\\nEDGAR\\nTom will throw his head at them. Avaunt, you curs!\\nBe thy mouth or black or white,\\nTooth that poisons if it bite;\\nMastiff, grey-hound, mongrel grim,\\nHound or spaniel, brach or lym,\\nOr bobtail tike or trundle-tail,\\nTom will make them weep and wail:\\nFor, with throwing thus my head,\\nDogs leap the hatch, and all are fled.\\nDo de, de, de. Sessa! Come, march to wakes and\\nfairs and market-towns. Poor Tom, thy horn is dry.\\nKING LEAR\\nThen let them anatomize Regan; see what breeds\\nabout her heart. Is there any cause in nature that\\nmakes these hard hearts?\\nTo EDGAR\\n\\nYou, sir, I entertain for one of my hundred; only I\\ndo not like the fashion of your garments: you will\\nsay they are Persian attire: but let them be changed.\\nKENT\\nNow, good my lord, lie here and rest awhile.\\nKING LEAR\\nMake no noise, make no noise; draw the curtains:\\nso, so, so. We'll go to supper i' he morning. So, so, so.\\nFool\\nAnd I'll go to bed at noon.\\nRe-enter GLOUCESTER\\n\\nGLOUCESTER\\nCome hither, friend: where is the king my master?\\nKENT\\nHere, sir; but trouble him not, his wits are gone.\\nGLOUCESTER\\nGood friend, I prithee, take him in thy arms;\\nI have o'erheard a plot of death upon him:\\nThere is a litter ready; lay him in 't,\\nAnd drive towards Dover, friend, where thou shalt meet\\nBoth welcome and protection. Take up thy master:\\nIf thou shouldst dally half an hour, his life,\\nWith thine, and all that offer to defend him,\\nStand in assured loss: take up, take up;\\nAnd follow me, that will to some provision\\nGive thee quick conduct.\\nKENT\\nOppressed nature sleeps:\\nThis rest might yet have balm'd thy broken senses,\\nWhich, if convenience will not allow,\\nStand in hard cure.\\nTo the Fool\\n\\nCome, help to bear thy master;\\nThou must not stay behind.\\nGLOUCESTER\\nCome, come, away.\\nExeunt all but EDGAR\\n\\nEDGAR\\nWhen we our betters see bearing our woes,\\nWe scarcely think our miseries our foes.\\nWho alone suffers suffers most i' the mind,\\nLeaving free things and happy shows behind:\\nBut then the mind much sufferance doth o'er skip,\\nWhen grief hath mates, and bearing fellowship.\\nHow light and portable my pain seems now,\\nWhen that which makes me bend makes the king bow,\\nHe childed as I father'd! Tom, away!\\nMark the high noises; and thyself bewray,\\nWhen false opinion, whose wrong thought defiles thee,\\nIn thy just proof, repeals and reconciles thee.\\nWhat will hap more to-night, safe 'scape the king!\\nLurk, lurk.\\nExit\\n\\nSCENE VII. Gloucester's castle.\\nEnter CORNWALL, REGAN, GONERIL, EDMUND, and Servants\\nCORNWALL\\nPost speedily to my lord your husband; show him\\nthis letter: the army of France is landed. Seek\\nout the villain Gloucester.\\nExeunt some of the Servants\\n\\nREGAN\\nHang him instantly.\\nGONERIL\\nPluck out his eyes.\\nCORNWALL\\nLeave him to my displeasure. Edmund, keep you our\\nsister company: the revenges we are bound to take\\nupon your traitorous father are not fit for your\\nbeholding. Advise the duke, where you are going, to\\na most festinate preparation: we are bound to the\\nlike. Our posts shall be swift and intelligent\\nbetwixt us. Farewell, dear sister: farewell, my\\nlord of Gloucester.\\nEnter OSWALD\\n\\nHow now! where's the king?\\nOSWALD\\nMy lord of Gloucester hath convey'd him hence:\\nSome five or six and thirty of his knights,\\nHot questrists after him, met him at gate;\\nWho, with some other of the lords dependants,\\nAre gone with him towards Dover; where they boast\\nTo have well-armed friends.\\nCORNWALL\\nGet horses for your mistress.\\nGONERIL\\nFarewell, sweet lord, and sister.\\nCORNWALL\\nEdmund, farewell.\\nExeunt GONERIL, EDMUND, and OSWALD\\n\\nGo seek the traitor Gloucester,\\nPinion him like a thief, bring him before us.\\nExeunt other Servants\\n\\nThough well we may not pass upon his life\\nWithout the form of justice, yet our power\\nShall do a courtesy to our wrath, which men\\nMay blame, but not control. Who's there? the traitor?\\nEnter GLOUCESTER, brought in by two or three\\n\\nREGAN\\nIngrateful fox! 'tis he.\\nCORNWALL\\nBind fast his corky arms.\\nGLOUCESTER\\nWhat mean your graces? Good my friends, consider\\nYou are my guests: do me no foul play, friends.\\nCORNWALL\\nBind him, I say.\\nServants bind him\\n\\nREGAN\\nHard, hard. O filthy traitor!\\nGLOUCESTER\\nUnmerciful lady as you are, I'm none.\\nCORNWALL\\nTo this chair bind him. Villain, thou shalt find--\\nREGAN plucks his beard\\n\\nGLOUCESTER\\nBy the kind gods, 'tis most ignobly done\\nTo pluck me by the beard.\\nREGAN\\nSo white, and such a traitor!\\nGLOUCESTER\\nNaughty lady,\\nThese hairs, which thou dost ravish from my chin,\\nWill quicken, and accuse thee: I am your host:\\nWith robbers' hands my hospitable favours\\nYou should not ruffle thus. What will you do?\\nCORNWALL\\nCome, sir, what letters had you late from France?\\nREGAN\\nBe simple answerer, for we know the truth.\\nCORNWALL\\nAnd what confederacy have you with the traitors\\nLate footed in the kingdom?\\nREGAN\\nTo whose hands have you sent the lunatic king? Speak.\\nGLOUCESTER\\nI have a letter guessingly set down,\\nWhich came from one that's of a neutral heart,\\nAnd not from one opposed.\\nCORNWALL\\nCunning.\\nREGAN\\nAnd false.\\nCORNWALL\\nWhere hast thou sent the king?\\nGLOUCESTER\\nTo Dover.\\nREGAN\\nWherefore to Dover? Wast thou not charged at peril--\\nCORNWALL\\nWherefore to Dover? Let him first answer that.\\nGLOUCESTER\\nI am tied to the stake, and I must stand the course.\\nREGAN\\nWherefore to Dover, sir?\\nGLOUCESTER\\nBecause I would not see thy cruel nails\\nPluck out his poor old eyes; nor thy fierce sister\\nIn his anointed flesh stick boarish fangs.\\nThe sea, with such a storm as his bare head\\nIn hell-black night endured, would have buoy'd up,\\nAnd quench'd the stelled fires:\\nYet, poor old heart, he holp the heavens to rain.\\nIf wolves had at thy gate howl'd that stern time,\\nThou shouldst have said 'Good porter, turn the key,'\\nAll cruels else subscribed: but I shall see\\nThe winged vengeance overtake such children.\\nCORNWALL\\nSee't shalt thou never. Fellows, hold the chair.\\nUpon these eyes of thine I'll set my foot.\\nGLOUCESTER\\nHe that will think to live till he be old,\\nGive me some help! O cruel! O you gods!\\nREGAN\\nOne side will mock another; the other too.\\nCORNWALL\\nIf you see vengeance,--\\nFirst Servant\\nHold your hand, my lord:\\nI have served you ever since I was a child;\\nBut better service have I never done you\\nThan now to bid you hold.\\nREGAN\\nHow now, you dog!\\nFirst Servant\\nIf you did wear a beard upon your chin,\\nI'd shake it on this quarrel. What do you mean?\\nCORNWALL\\nMy villain!\\nThey draw and fight\\n\\nFirst Servant\\nNay, then, come on, and take the chance of anger.\\nREGAN\\nGive me thy sword. A peasant stand up thus!\\nTakes a sword, and runs at him behind\\n\\nFirst Servant\\nO, I am slain! My lord, you have one eye left\\nTo see some mischief on him. O!\\nDies\\n\\nCORNWALL\\nLest it see more, prevent it. Out, vile jelly!\\nWhere is thy lustre now?\\nGLOUCESTER\\nAll dark and comfortless. Where's my son Edmund?\\nEdmund, enkindle all the sparks of nature,\\nTo quit this horrid act.\\nREGAN\\nOut, treacherous villain!\\nThou call'st on him that hates thee: it was he\\nThat made the overture of thy treasons to us;\\nWho is too good to pity thee.\\nGLOUCESTER\\nO my follies! then Edgar was abused.\\nKind gods, forgive me that, and prosper him!\\nREGAN\\nGo thrust him out at gates, and let him smell\\nHis way to Dover.\\nExit one with GLOUCESTER\\n\\nHow is't, my lord? how look you?\\nCORNWALL\\nI have received a hurt: follow me, lady.\\nTurn out that eyeless villain; throw this slave\\nUpon the dunghill. Regan, I bleed apace:\\nUntimely comes this hurt: give me your arm.\\nExit CORNWALL, led by REGAN\\n\\nSecond Servant\\nI'll never care what wickedness I do,\\nIf this man come to good.\\nThird Servant\\nIf she live long,\\nAnd in the end meet the old course of death,\\nWomen will all turn monsters.\\nSecond Servant\\nLet's follow the old earl, and get the Bedlam\\nTo lead him where he would: his roguish madness\\nAllows itself to any thing.\\nThird Servant\\nGo thou: I'll fetch some flax and whites of eggs\\nTo apply to his bleeding face. Now, heaven help him!\\nExeunt severally\\n\\nACT IV\\nSCENE I. The heath.\\nEnter EDGAR\\nEDGAR\\nYet better thus, and known to be contemn'd,\\nThan still contemn'd and flatter'd. To be worst,\\nThe lowest and most dejected thing of fortune,\\nStands still in esperance, lives not in fear:\\nThe lamentable change is from the best;\\nThe worst returns to laughter. Welcome, then,\\nThou unsubstantial air that I embrace!\\nThe wretch that thou hast blown unto the worst\\nOwes nothing to thy blasts. But who comes here?\\nEnter GLOUCESTER, led by an Old Man\\n\\nMy father, poorly led? World, world, O world!\\nBut that thy strange mutations make us hate thee,\\nLie would not yield to age.\\nOld Man\\nO, my good lord, I have been your tenant, and\\nyour father's tenant, these fourscore years.\\nGLOUCESTER\\nAway, get thee away; good friend, be gone:\\nThy comforts can do me no good at all;\\nThee they may hurt.\\nOld Man\\nAlack, sir, you cannot see your way.\\nGLOUCESTER\\nI have no way, and therefore want no eyes;\\nI stumbled when I saw: full oft 'tis seen,\\nOur means secure us, and our mere defects\\nProve our commodities. O dear son Edgar,\\nThe food of thy abused father's wrath!\\nMight I but live to see thee in my touch,\\nI'ld say I had eyes again!\\nOld Man\\nHow now! Who's there?\\nEDGAR\\n[Aside] O gods! Who is't can say 'I am at\\nthe worst'?\\nI am worse than e'er I was.\\nOld Man\\n'Tis poor mad Tom.\\nEDGAR\\n[Aside] And worse I may be yet: the worst is not\\nSo long as we can say 'This is the worst.'\\nOld Man\\nFellow, where goest?\\nGLOUCESTER\\nIs it a beggar-man?\\nOld Man\\nMadman and beggar too.\\nGLOUCESTER\\nHe has some reason, else he could not beg.\\nI' the last night's storm I such a fellow saw;\\nWhich made me think a man a worm: my son\\nCame then into my mind; and yet my mind\\nWas then scarce friends with him: I have heard\\nmore since.\\nAs flies to wanton boys, are we to the gods.\\nThey kill us for their sport.\\nEDGAR\\n[Aside] How should this be?\\nBad is the trade that must play fool to sorrow,\\nAngering itself and others.--Bless thee, master!\\nGLOUCESTER\\nIs that the naked fellow?\\nOld Man\\nAy, my lord.\\nGLOUCESTER\\nThen, prithee, get thee gone: if, for my sake,\\nThou wilt o'ertake us, hence a mile or twain,\\nI' the way toward Dover, do it for ancient love;\\nAnd bring some covering for this naked soul,\\nWho I'll entreat to lead me.\\nOld Man\\nAlack, sir, he is mad.\\nGLOUCESTER\\n'Tis the times' plague, when madmen lead the blind.\\nDo as I bid thee, or rather do thy pleasure;\\nAbove the rest, be gone.\\nOld Man\\nI'll bring him the best 'parel that I have,\\nCome on't what will.\\nExit\\n\\nGLOUCESTER\\nSirrah, naked fellow,--\\nEDGAR\\nPoor Tom's a-cold.\\nAside\\n\\nI cannot daub it further.\\nGLOUCESTER\\nCome hither, fellow.\\nEDGAR\\n[Aside] And yet I must.--Bless thy sweet eyes, they bleed.\\nGLOUCESTER\\nKnow'st thou the way to Dover?\\nEDGAR\\nBoth stile and gate, horse-way and foot-path. Poor\\nTom hath been scared out of his good wits: bless\\nthee, good man's son, from the foul fiend! five\\nfiends have been in poor Tom at once; of lust, as\\nObidicut; Hobbididence, prince of dumbness; Mahu, of\\nstealing; Modo, of murder; Flibbertigibbet, of\\nmopping and mowing, who since possesses chambermaids\\nand waiting-women. So, bless thee, master!\\nGLOUCESTER\\nHere, take this purse, thou whom the heavens' plagues\\nHave humbled to all strokes: that I am wretched\\nMakes thee the happier: heavens, deal so still!\\nLet the superfluous and lust-dieted man,\\nThat slaves your ordinance, that will not see\\nBecause he doth not feel, feel your power quickly;\\nSo distribution should undo excess,\\nAnd each man have enough. Dost thou know Dover?\\nEDGAR\\nAy, master.\\nGLOUCESTER\\nThere is a cliff, whose high and bending head\\nLooks fearfully in the confined deep:\\nBring me but to the very brim of it,\\nAnd I'll repair the misery thou dost bear\\nWith something rich about me: from that place\\nI shall no leading need.\\nEDGAR\\nGive me thy arm:\\nPoor Tom shall lead thee.\\nExeunt\\n\\nSCENE II. Before ALBANY's palace.\\nEnter GONERIL and EDMUND\\nGONERIL\\nWelcome, my lord: I marvel our mild husband\\nNot met us on the way.\\nEnter OSWALD\\n\\nNow, where's your master'?\\nOSWALD\\nMadam, within; but never man so changed.\\nI told him of the army that was landed;\\nHe smiled at it: I told him you were coming:\\nHis answer was 'The worse:' of Gloucester's treachery,\\nAnd of the loyal service of his son,\\nWhen I inform'd him, then he call'd me sot,\\nAnd told me I had turn'd the wrong side out:\\nWhat most he should dislike seems pleasant to him;\\nWhat like, offensive.\\nGONERIL\\n[To EDMUND] Then shall you go no further.\\nIt is the cowish terror of his spirit,\\nThat dares not undertake: he'll not feel wrongs\\nWhich tie him to an answer. Our wishes on the way\\nMay prove effects. Back, Edmund, to my brother;\\nHasten his musters and conduct his powers:\\nI must change arms at home, and give the distaff\\nInto my husband's hands. This trusty servant\\nShall pass between us: ere long you are like to hear,\\nIf you dare venture in your own behalf,\\nA mistress's command. Wear this; spare speech;\\nGiving a favour\\n\\nDecline your head: this kiss, if it durst speak,\\nWould stretch thy spirits up into the air:\\nConceive, and fare thee well.\\nEDMUND\\nYours in the ranks of death.\\nGONERIL\\nMy most dear Gloucester!\\nExit EDMUND\\n\\nO, the difference of man and man!\\nTo thee a woman's services are due:\\nMy fool usurps my body.\\nOSWALD\\nMadam, here comes my lord.\\nExit\\n\\nEnter ALBANY\\n\\nGONERIL\\nI have been worth the whistle.\\nALBANY\\nO Goneril!\\nYou are not worth the dust which the rude wind\\nBlows in your face. I fear your disposition:\\nThat nature, which contemns its origin,\\nCannot be border'd certain in itself;\\nShe that herself will sliver and disbranch\\nFrom her material sap, perforce must wither\\nAnd come to deadly use.\\nGONERIL\\nNo more; the text is foolish.\\nALBANY\\nWisdom and goodness to the vile seem vile:\\nFilths savour but themselves. What have you done?\\nTigers, not daughters, what have you perform'd?\\nA father, and a gracious aged man,\\nWhose reverence even the head-lugg'd bear would lick,\\nMost barbarous, most degenerate! have you madded.\\nCould my good brother suffer you to do it?\\nA man, a prince, by him so benefited!\\nIf that the heavens do not their visible spirits\\nSend quickly down to tame these vile offences,\\nIt will come,\\nHumanity must perforce prey on itself,\\nLike monsters of the deep.\\nGONERIL\\nMilk-liver'd man!\\nThat bear'st a cheek for blows, a head for wrongs;\\nWho hast not in thy brows an eye discerning\\nThine honour from thy suffering; that not know'st\\nFools do those villains pity who are punish'd\\nEre they have done their mischief. Where's thy drum?\\nFrance spreads his banners in our noiseless land;\\nWith plumed helm thy slayer begins threats;\\nWhiles thou, a moral fool, sit'st still, and criest\\n'Alack, why does he so?'\\nALBANY\\nSee thyself, devil!\\nProper deformity seems not in the fiend\\nSo horrid as in woman.\\nGONERIL\\nO vain fool!\\nALBANY\\nThou changed and self-cover'd thing, for shame,\\nBe-monster not thy feature. Were't my fitness\\nTo let these hands obey my blood,\\nThey are apt enough to dislocate and tear\\nThy flesh and bones: howe'er thou art a fiend,\\nA woman's shape doth shield thee.\\nGONERIL\\nMarry, your manhood now--\\nEnter a Messenger\\n\\nALBANY\\nWhat news?\\nMessenger\\nO, my good lord, the Duke of Cornwall's dead:\\nSlain by his servant, going to put out\\nThe other eye of Gloucester.\\nALBANY\\nGloucester's eye!\\nMessenger\\nA servant that he bred, thrill'd with remorse,\\nOpposed against the act, bending his sword\\nTo his great master; who, thereat enraged,\\nFlew on him, and amongst them fell'd him dead;\\nBut not without that harmful stroke, which since\\nHath pluck'd him after.\\nALBANY\\nThis shows you are above,\\nYou justicers, that these our nether crimes\\nSo speedily can venge! But, O poor Gloucester!\\nLost he his other eye?\\nMessenger\\nBoth, both, my lord.\\nThis letter, madam, craves a speedy answer;\\n'Tis from your sister.\\nGONERIL\\n[Aside] One way I like this well;\\nBut being widow, and my Gloucester with her,\\nMay all the building in my fancy pluck\\nUpon my hateful life: another way,\\nThe news is not so tart.--I'll read, and answer.\\nExit\\n\\nALBANY\\nWhere was his son when they did take his eyes?\\nMessenger\\nCome with my lady hither.\\nALBANY\\nHe is not here.\\nMessenger\\nNo, my good lord; I met him back again.\\nALBANY\\nKnows he the wickedness?\\nMessenger\\nAy, my good lord; 'twas he inform'd against him;\\nAnd quit the house on purpose, that their punishment\\nMight have the freer course.\\nALBANY\\nGloucester, I live\\nTo thank thee for the love thou show'dst the king,\\nAnd to revenge thine eyes. Come hither, friend:\\nTell me what more thou know'st.\\nExeunt\\n\\nSCENE III. The French camp near Dover.\\nEnter KENT and a Gentleman\\nKENT\\nWhy the King of France is so suddenly gone back\\nknow you the reason?\\nGentleman\\nSomething he left imperfect in the\\nstate, which since his coming forth is thought\\nof; which imports to the kingdom so much\\nfear and danger, that his personal return was\\nmost required and necessary.\\nKENT\\nWho hath he left behind him general?\\nGentleman\\nThe Marshal of France, Monsieur La Far.\\nKENT\\nDid your letters pierce the queen to any\\ndemonstration of grief?\\nGentleman\\nAy, sir; she took them, read them in my presence;\\nAnd now and then an ample tear trill'd down\\nHer delicate cheek: it seem'd she was a queen\\nOver her passion; who, most rebel-like,\\nSought to be king o'er her.\\nKENT\\nO, then it moved her.\\nGentleman\\nNot to a rage: patience and sorrow strove\\nWho should express her goodliest. You have seen\\nSunshine and rain at once: her smiles and tears\\nWere like a better way: those happy smilets,\\nThat play'd on her ripe lip, seem'd not to know\\nWhat guests were in her eyes; which parted thence,\\nAs pearls from diamonds dropp'd. In brief,\\nSorrow would be a rarity most beloved,\\nIf all could so become it.\\nKENT\\nMade she no verbal question?\\nGentleman\\n'Faith, once or twice she heaved the name of 'father'\\nPantingly forth, as if it press'd her heart:\\nCried 'Sisters! sisters! Shame of ladies! sisters!\\nKent! father! sisters! What, i' the storm? i' the night?\\nLet pity not be believed!' There she shook\\nThe holy water from her heavenly eyes,\\nAnd clamour moisten'd: then away she started\\nTo deal with grief alone.\\nKENT\\nIt is the stars,\\nThe stars above us, govern our conditions;\\nElse one self mate and mate could not beget\\nSuch different issues. You spoke not with her since?\\nGentleman\\nNo.\\nKENT\\nWas this before the king return'd?\\nGentleman\\nNo, since.\\nKENT\\nWell, sir, the poor distressed Lear's i' the town;\\nWho sometime, in his better tune, remembers\\nWhat we are come about, and by no means\\nWill yield to see his daughter.\\nGentleman\\nWhy, good sir?\\nKENT\\nA sovereign shame so elbows him: his own unkindness,\\nThat stripp'd her from his benediction, turn'd her\\nTo foreign casualties, gave her dear rights\\nTo his dog-hearted daughters, these things sting\\nHis mind so venomously, that burning shame\\nDetains him from Cordelia.\\nGentleman\\nAlack, poor gentleman!\\nKENT\\nOf Albany's and Cornwall's powers you heard not?\\nGentleman\\n'Tis so, they are afoot.\\nKENT\\nWell, sir, I'll bring you to our master Lear,\\nAnd leave you to attend him: some dear cause\\nWill in concealment wrap me up awhile;\\nWhen I am known aright, you shall not grieve\\nLending me this acquaintance. I pray you, go\\nAlong with me.\\nExeunt\\n\\nSCENE IV. The same. A tent.\\nEnter, with drum and colours, CORDELIA, Doctor, and Soldiers\\nCORDELIA\\nAlack, 'tis he: why, he was met even now\\nAs mad as the vex'd sea; singing aloud;\\nCrown'd with rank fumiter and furrow-weeds,\\nWith bur-docks, hemlock, nettles, cuckoo-flowers,\\nDarnel, and all the idle weeds that grow\\nIn our sustaining corn. A century send forth;\\nSearch every acre in the high-grown field,\\nAnd bring him to our eye.\\nExit an Officer\\n\\nWhat can man's wisdom\\nIn the restoring his bereaved sense?\\nHe that helps him take all my outward worth.\\nDoctor\\nThere is means, madam:\\nOur foster-nurse of nature is repose,\\nThe which he lacks; that to provoke in him,\\nAre many simples operative, whose power\\nWill close the eye of anguish.\\nCORDELIA\\nAll blest secrets,\\nAll you unpublish'd virtues of the earth,\\nSpring with my tears! be aidant and remediate\\nIn the good man's distress! Seek, seek for him;\\nLest his ungovern'd rage dissolve the life\\nThat wants the means to lead it.\\nEnter a Messenger\\n\\nMessenger\\nNews, madam;\\nThe British powers are marching hitherward.\\nCORDELIA\\n'Tis known before; our preparation stands\\nIn expectation of them. O dear father,\\nIt is thy business that I go about;\\nTherefore great France\\nMy mourning and important tears hath pitied.\\nNo blown ambition doth our arms incite,\\nBut love, dear love, and our aged father's right:\\nSoon may I hear and see him!\\nExeunt\\n\\nSCENE V. Gloucester's castle.\\nEnter REGAN and OSWALD\\nREGAN\\nBut are my brother's powers set forth?\\nOSWALD\\nAy, madam.\\nREGAN\\nHimself in person there?\\nOSWALD\\nMadam, with much ado:\\nYour sister is the better soldier.\\nREGAN\\nLord Edmund spake not with your lord at home?\\nOSWALD\\nNo, madam.\\nREGAN\\nWhat might import my sister's letter to him?\\nOSWALD\\nI know not, lady.\\nREGAN\\n'Faith, he is posted hence on serious matter.\\nIt was great ignorance, Gloucester's eyes being out,\\nTo let him live: where he arrives he moves\\nAll hearts against us: Edmund, I think, is gone,\\nIn pity of his misery, to dispatch\\nHis nighted life: moreover, to descry\\nThe strength o' the enemy.\\nOSWALD\\nI must needs after him, madam, with my letter.\\nREGAN\\nOur troops set forth to-morrow: stay with us;\\nThe ways are dangerous.\\nOSWALD\\nI may not, madam:\\nMy lady charged my duty in this business.\\nREGAN\\nWhy should she write to Edmund? Might not you\\nTransport her purposes by word? Belike,\\nSomething--I know not what: I'll love thee much,\\nLet me unseal the letter.\\nOSWALD\\nMadam, I had rather--\\nREGAN\\nI know your lady does not love her husband;\\nI am sure of that: and at her late being here\\nShe gave strange oeillades and most speaking looks\\nTo noble Edmund. I know you are of her bosom.\\nOSWALD\\nI, madam?\\nREGAN\\nI speak in understanding; you are; I know't:\\nTherefore I do advise you, take this note:\\nMy lord is dead; Edmund and I have talk'd;\\nAnd more convenient is he for my hand\\nThan for your lady's: you may gather more.\\nIf you do find him, pray you, give him this;\\nAnd when your mistress hears thus much from you,\\nI pray, desire her call her wisdom to her.\\nSo, fare you well.\\nIf you do chance to hear of that blind traitor,\\nPreferment falls on him that cuts him off.\\nOSWALD\\nWould I could meet him, madam! I should show\\nWhat party I do follow.\\nREGAN\\nFare thee well.\\nExeunt\\n\\nSCENE VI. Fields near Dover.\\nEnter GLOUCESTER, and EDGAR dressed like a peasant\\nGLOUCESTER\\nWhen shall we come to the top of that same hill?\\nEDGAR\\nYou do climb up it now: look, how we labour.\\nGLOUCESTER\\nMethinks the ground is even.\\nEDGAR\\nHorrible steep.\\nHark, do you hear the sea?\\nGLOUCESTER\\nNo, truly.\\nEDGAR\\nWhy, then, your other senses grow imperfect\\nBy your eyes' anguish.\\nGLOUCESTER\\nSo may it be, indeed:\\nMethinks thy voice is alter'd; and thou speak'st\\nIn better phrase and matter than thou didst.\\nEDGAR\\nYou're much deceived: in nothing am I changed\\nBut in my garments.\\nGLOUCESTER\\nMethinks you're better spoken.\\nEDGAR\\nCome on, sir; here's the place: stand still. How fearful\\nAnd dizzy 'tis, to cast one's eyes so low!\\nThe crows and choughs that wing the midway air\\nShow scarce so gross as beetles: half way down\\nHangs one that gathers samphire, dreadful trade!\\nMethinks he seems no bigger than his head:\\nThe fishermen, that walk upon the beach,\\nAppear like mice; and yond tall anchoring bark,\\nDiminish'd to her cock; her cock, a buoy\\nAlmost too small for sight: the murmuring surge,\\nThat on the unnumber'd idle pebbles chafes,\\nCannot be heard so high. I'll look no more;\\nLest my brain turn, and the deficient sight\\nTopple down headlong.\\nGLOUCESTER\\nSet me where you stand.\\nEDGAR\\nGive me your hand: you are now within a foot\\nOf the extreme verge: for all beneath the moon\\nWould I not leap upright.\\nGLOUCESTER\\nLet go my hand.\\nHere, friend, 's another purse; in it a jewel\\nWell worth a poor man's taking: fairies and gods\\nProsper it with thee! Go thou farther off;\\nBid me farewell, and let me hear thee going.\\nEDGAR\\nNow fare you well, good sir.\\nGLOUCESTER\\nWith all my heart.\\nEDGAR\\nWhy I do trifle thus with his despair\\nIs done to cure it.\\nGLOUCESTER\\n[Kneeling] O you mighty gods!\\nThis world I do renounce, and, in your sights,\\nShake patiently my great affliction off:\\nIf I could bear it longer, and not fall\\nTo quarrel with your great opposeless wills,\\nMy snuff and loathed part of nature should\\nBurn itself out. If Edgar live, O, bless him!\\nNow, fellow, fare thee well.\\nHe falls forward\\n\\nEDGAR\\nGone, sir: farewell.\\nAnd yet I know not how conceit may rob\\nThe treasury of life, when life itself\\nYields to the theft: had he been where he thought,\\nBy this, had thought been past. Alive or dead?\\nHo, you sir! friend! Hear you, sir! speak!\\nThus might he pass indeed: yet he revives.\\nWhat are you, sir?\\nGLOUCESTER\\nAway, and let me die.\\nEDGAR\\nHadst thou been aught but gossamer, feathers, air,\\nSo many fathom down precipitating,\\nThou'dst shiver'd like an egg: but thou dost breathe;\\nHast heavy substance; bleed'st not; speak'st; art sound.\\nTen masts at each make not the altitude\\nWhich thou hast perpendicularly fell:\\nThy life's a miracle. Speak yet again.\\nGLOUCESTER\\nBut have I fall'n, or no?\\nEDGAR\\nFrom the dread summit of this chalky bourn.\\nLook up a-height; the shrill-gorged lark so far\\nCannot be seen or heard: do but look up.\\nGLOUCESTER\\nAlack, I have no eyes.\\nIs wretchedness deprived that benefit,\\nTo end itself by death? 'Twas yet some comfort,\\nWhen misery could beguile the tyrant's rage,\\nAnd frustrate his proud will.\\nEDGAR\\nGive me your arm:\\nUp: so. How is 't? Feel you your legs? You stand.\\nGLOUCESTER\\nToo well, too well.\\nEDGAR\\nThis is above all strangeness.\\nUpon the crown o' the cliff, what thing was that\\nWhich parted from you?\\nGLOUCESTER\\nA poor unfortunate beggar.\\nEDGAR\\nAs I stood here below, methought his eyes\\nWere two full moons; he had a thousand noses,\\nHorns whelk'd and waved like the enridged sea:\\nIt was some fiend; therefore, thou happy father,\\nThink that the clearest gods, who make them honours\\nOf men's impossibilities, have preserved thee.\\nGLOUCESTER\\nI do remember now: henceforth I'll bear\\nAffliction till it do cry out itself\\n'Enough, enough,' and die. That thing you speak of,\\nI took it for a man; often 'twould say\\n'The fiend, the fiend:' he led me to that place.\\nEDGAR\\nBear free and patient thoughts. But who comes here?\\nEnter KING LEAR, fantastically dressed with wild flowers\\n\\nThe safer sense will ne'er accommodate\\nHis master thus.\\nKING LEAR\\nNo, they cannot touch me for coining; I am the\\nking himself.\\nEDGAR\\nO thou side-piercing sight!\\nKING LEAR\\nNature's above art in that respect. There's your\\npress-money. That fellow handles his bow like a\\ncrow-keeper: draw me a clothier's yard. Look,\\nlook, a mouse! Peace, peace; this piece of toasted\\ncheese will do 't. There's my gauntlet; I'll prove\\nit on a giant. Bring up the brown bills. O, well\\nflown, bird! i' the clout, i' the clout: hewgh!\\nGive the word.\\nEDGAR\\nSweet marjoram.\\nKING LEAR\\nPass.\\nGLOUCESTER\\nI know that voice.\\nKING LEAR\\nHa! Goneril, with a white beard! They flattered\\nme like a dog; and told me I had white hairs in my\\nbeard ere the black ones were there. To say 'ay'\\nand 'no' to every thing that I said!--'Ay' and 'no'\\ntoo was no good divinity. When the rain came to\\nwet me once, and the wind to make me chatter; when\\nthe thunder would not peace at my bidding; there I\\nfound 'em, there I smelt 'em out. Go to, they are\\nnot men o' their words: they told me I was every\\nthing; 'tis a lie, I am not ague-proof.\\nGLOUCESTER\\nThe trick of that voice I do well remember:\\nIs 't not the king?\\nKING LEAR\\nAy, every inch a king:\\nWhen I do stare, see how the subject quakes.\\nI pardon that man's life. What was thy cause? Adultery?\\nThou shalt not die: die for adultery! No:\\nThe wren goes to 't, and the small gilded fly\\nDoes lecher in my sight.\\nLet copulation thrive; for Gloucester's bastard son\\nWas kinder to his father than my daughters\\nGot 'tween the lawful sheets.\\nTo 't, luxury, pell-mell! for I lack soldiers.\\nBehold yond simpering dame,\\nWhose face between her forks presages snow;\\nThat minces virtue, and does shake the head\\nTo hear of pleasure's name;\\nThe fitchew, nor the soiled horse, goes to 't\\nWith a more riotous appetite.\\nDown from the waist they are Centaurs,\\nThough women all above:\\nBut to the girdle do the gods inherit,\\nBeneath is all the fiends';\\nThere's hell, there's darkness, there's the\\nsulphurous pit,\\nBurning, scalding, stench, consumption; fie,\\nfie, fie! pah, pah! Give me an ounce of civet,\\ngood apothecary, to sweeten my imagination:\\nthere's money for thee.\\nGLOUCESTER\\nO, let me kiss that hand!\\nKING LEAR\\nLet me wipe it first; it smells of mortality.\\nGLOUCESTER\\nO ruin'd piece of nature! This great world\\nShall so wear out to nought. Dost thou know me?\\nKING LEAR\\nI remember thine eyes well enough. Dost thou squiny\\nat me? No, do thy worst, blind Cupid! I'll not\\nlove. Read thou this challenge; mark but the\\npenning of it.\\nGLOUCESTER\\nWere all the letters suns, I could not see one.\\nEDGAR\\nI would not take this from report; it is,\\nAnd my heart breaks at it.\\nKING LEAR\\nRead.\\nGLOUCESTER\\nWhat, with the case of eyes?\\nKING LEAR\\nO, ho, are you there with me? No eyes in your\\nhead, nor no money in your purse? Your eyes are in\\na heavy case, your purse in a light; yet you see how\\nthis world goes.\\nGLOUCESTER\\nI see it feelingly.\\nKING LEAR\\nWhat, art mad? A man may see how this world goes\\nwith no eyes. Look with thine ears: see how yond\\njustice rails upon yond simple thief. Hark, in\\nthine ear: change places; and, handy-dandy, which\\nis the justice, which is the thief? Thou hast seen\\na farmer's dog bark at a beggar?\\nGLOUCESTER\\nAy, sir.\\nKING LEAR\\nAnd the creature run from the cur? There thou\\nmightst behold the great image of authority: a\\ndog's obeyed in office.\\nThou rascal beadle, hold thy bloody hand!\\nWhy dost thou lash that whore? Strip thine own back;\\nThou hotly lust'st to use her in that kind\\nFor which thou whipp'st her. The usurer hangs the cozener.\\nThrough tatter'd clothes small vices do appear;\\nRobes and furr'd gowns hide all. Plate sin with gold,\\nAnd the strong lance of justice hurtless breaks:\\nArm it in rags, a pigmy's straw does pierce it.\\nNone does offend, none, I say, none; I'll able 'em:\\nTake that of me, my friend, who have the power\\nTo seal the accuser's lips. Get thee glass eyes;\\nAnd like a scurvy politician, seem\\nTo see the things thou dost not. Now, now, now, now:\\nPull off my boots: harder, harder: so.\\nEDGAR\\nO, matter and impertinency mix'd! Reason in madness!\\nKING LEAR\\nIf thou wilt weep my fortunes, take my eyes.\\nI know thee well enough; thy name is Gloucester:\\nThou must be patient; we came crying hither:\\nThou know'st, the first time that we smell the air,\\nWe wawl and cry. I will preach to thee: mark.\\nGLOUCESTER\\nAlack, alack the day!\\nKING LEAR\\nWhen we are born, we cry that we are come\\nTo this great stage of fools: this a good block;\\nIt were a delicate stratagem, to shoe\\nA troop of horse with felt: I'll put 't in proof;\\nAnd when I have stol'n upon these sons-in-law,\\nThen, kill, kill, kill, kill, kill, kill!\\nEnter a Gentleman, with Attendants\\n\\nGentleman\\nO, here he is: lay hand upon him. Sir,\\nYour most dear daughter--\\nKING LEAR\\nNo rescue? What, a prisoner? I am even\\nThe natural fool of fortune. Use me well;\\nYou shall have ransom. Let me have surgeons;\\nI am cut to the brains.\\nGentleman\\nYou shall have any thing.\\nKING LEAR\\nNo seconds? all myself?\\nWhy, this would make a man a man of salt,\\nTo use his eyes for garden water-pots,\\nAy, and laying autumn's dust.\\nGentleman\\nGood sir,--\\nKING LEAR\\nI will die bravely, like a bridegroom. What!\\nI will be jovial: come, come; I am a king,\\nMy masters, know you that.\\nGentleman\\nYou are a royal one, and we obey you.\\nKING LEAR\\nThen there's life in't. Nay, if you get it, you\\nshall get it with running. Sa, sa, sa, sa.\\nExit running; Attendants follow\\n\\nGentleman\\nA sight most pitiful in the meanest wretch,\\nPast speaking of in a king! Thou hast one daughter,\\nWho redeems nature from the general curse\\nWhich twain have brought her to.\\nEDGAR\\nHail, gentle sir.\\nGentleman\\nSir, speed you: what's your will?\\nEDGAR\\nDo you hear aught, sir, of a battle toward?\\nGentleman\\nMost sure and vulgar: every one hears that,\\nWhich can distinguish sound.\\nEDGAR\\nBut, by your favour,\\nHow near's the other army?\\nGentleman\\nNear and on speedy foot; the main descry\\nStands on the hourly thought.\\nEDGAR\\nI thank you, sir: that's all.\\nGentleman\\nThough that the queen on special cause is here,\\nHer army is moved on.\\nEDGAR\\nI thank you, sir.\\nExit Gentleman\\n\\nGLOUCESTER\\nYou ever-gentle gods, take my breath from me:\\nLet not my worser spirit tempt me again\\nTo die before you please!\\nEDGAR\\nWell pray you, father.\\nGLOUCESTER\\nNow, good sir, what are you?\\nEDGAR\\nA most poor man, made tame to fortune's blows;\\nWho, by the art of known and feeling sorrows,\\nAm pregnant to good pity. Give me your hand,\\nI'll lead you to some biding.\\nGLOUCESTER\\nHearty thanks:\\nThe bounty and the benison of heaven\\nTo boot, and boot!\\nEnter OSWALD\\n\\nOSWALD\\nA proclaim'd prize! Most happy!\\nThat eyeless head of thine was first framed flesh\\nTo raise my fortunes. Thou old unhappy traitor,\\nBriefly thyself remember: the sword is out\\nThat must destroy thee.\\nGLOUCESTER\\nNow let thy friendly hand\\nPut strength enough to't.\\nEDGAR interposes\\n\\nOSWALD\\nWherefore, bold peasant,\\nDarest thou support a publish'd traitor? Hence;\\nLest that the infection of his fortune take\\nLike hold on thee. Let go his arm.\\nEDGAR\\nCh'ill not let go, zir, without vurther 'casion.\\nOSWALD\\nLet go, slave, or thou diest!\\nEDGAR\\nGood gentleman, go your gait, and let poor volk\\npass. An chud ha' bin zwaggered out of my life,\\n'twould not ha' bin zo long as 'tis by a vortnight.\\nNay, come not near th' old man; keep out, che vor\\nye, or ise try whether your costard or my ballow be\\nthe harder: ch'ill be plain with you.\\nOSWALD\\nOut, dunghill!\\nEDGAR\\nCh'ill pick your teeth, zir: come; no matter vor\\nyour foins.\\nThey fight, and EDGAR knocks him down\\n\\nOSWALD\\nSlave, thou hast slain me: villain, take my purse:\\nIf ever thou wilt thrive, bury my body;\\nAnd give the letters which thou find'st about me\\nTo Edmund earl of Gloucester; seek him out\\nUpon the British party: O, untimely death!\\nDies\\n\\nEDGAR\\nI know thee well: a serviceable villain;\\nAs duteous to the vices of thy mistress\\nAs badness would desire.\\nGLOUCESTER\\nWhat, is he dead?\\nEDGAR\\nSit you down, father; rest you\\nLet's see these pockets: the letters that he speaks of\\nMay be my friends. He's dead; I am only sorry\\nHe had no other death's-man. Let us see:\\nLeave, gentle wax; and, manners, blame us not:\\nTo know our enemies' minds, we'ld rip their hearts;\\nTheir papers, is more lawful.\\nReads\\n\\n'Let our reciprocal vows be remembered. You have\\nmany opportunities to cut him off: if your will\\nwant not, time and place will be fruitfully offered.\\nThere is nothing done, if he return the conqueror:\\nthen am I the prisoner, and his bed my goal; from\\nthe loathed warmth whereof deliver me, and supply\\nthe place for your labour.\\n'Your--wife, so I would say--\\n'Affectionate servant,\\n'GONERIL.'\\nO undistinguish'd space of woman's will!\\nA plot upon her virtuous husband's life;\\nAnd the exchange my brother! Here, in the sands,\\nThee I'll rake up, the post unsanctified\\nOf murderous lechers: and in the mature time\\nWith this ungracious paper strike the sight\\nOf the death practised duke: for him 'tis well\\nThat of thy death and business I can tell.\\nGLOUCESTER\\nThe king is mad: how stiff is my vile sense,\\nThat I stand up, and have ingenious feeling\\nOf my huge sorrows! Better I were distract:\\nSo should my thoughts be sever'd from my griefs,\\nAnd woes by wrong imaginations lose\\nThe knowledge of themselves.\\nEDGAR\\nGive me your hand:\\nDrum afar off\\n\\nFar off, methinks, I hear the beaten drum:\\nCome, father, I'll bestow you with a friend.\\nExeunt\\n\\nSCENE VII. A tent in the French camp. LEAR on a bed asleep,\\nsoft music playing; Gentleman, and others attending.\\nEnter CORDELIA, KENT, and Doctor\\n\\nCORDELIA\\nO thou good Kent, how shall I live and work,\\nTo match thy goodness? My life will be too short,\\nAnd every measure fail me.\\nKENT\\nTo be acknowledged, madam, is o'erpaid.\\nAll my reports go with the modest truth;\\nNor more nor clipp'd, but so.\\nCORDELIA\\nBe better suited:\\nThese weeds are memories of those worser hours:\\nI prithee, put them off.\\nKENT\\nPardon me, dear madam;\\nYet to be known shortens my made intent:\\nMy boon I make it, that you know me not\\nTill time and I think meet.\\nCORDELIA\\nThen be't so, my good lord.\\nTo the Doctor\\n\\nHow does the king?\\nDoctor\\nMadam, sleeps still.\\nCORDELIA\\nO you kind gods,\\nCure this great breach in his abused nature!\\nThe untuned and jarring senses, O, wind up\\nOf this child-changed father!\\nDoctor\\nSo please your majesty\\nThat we may wake the king: he hath slept long.\\nCORDELIA\\nBe govern'd by your knowledge, and proceed\\nI' the sway of your own will. Is he array'd?\\nGentleman\\nAy, madam; in the heaviness of his sleep\\nWe put fresh garments on him.\\nDoctor\\nBe by, good madam, when we do awake him;\\nI doubt not of his temperance.\\nCORDELIA\\nVery well.\\nDoctor\\nPlease you, draw near. Louder the music there!\\nCORDELIA\\nO my dear father! Restoration hang\\nThy medicine on my lips; and let this kiss\\nRepair those violent harms that my two sisters\\nHave in thy reverence made!\\nKENT\\nKind and dear princess!\\nCORDELIA\\nHad you not been their father, these white flakes\\nHad challenged pity of them. Was this a face\\nTo be opposed against the warring winds?\\nTo stand against the deep dread-bolted thunder?\\nIn the most terrible and nimble stroke\\nOf quick, cross lightning? to watch--poor perdu!--\\nWith this thin helm? Mine enemy's dog,\\nThough he had bit me, should have stood that night\\nAgainst my fire; and wast thou fain, poor father,\\nTo hovel thee with swine, and rogues forlorn,\\nIn short and musty straw? Alack, alack!\\n'Tis wonder that thy life and wits at once\\nHad not concluded all. He wakes; speak to him.\\nDoctor\\nMadam, do you; 'tis fittest.\\nCORDELIA\\nHow does my royal lord? How fares your majesty?\\nKING LEAR\\nYou do me wrong to take me out o' the grave:\\nThou art a soul in bliss; but I am bound\\nUpon a wheel of fire, that mine own tears\\nDo scald like moulten lead.\\nCORDELIA\\nSir, do you know me?\\nKING LEAR\\nYou are a spirit, I know: when did you die?\\nCORDELIA\\nStill, still, far wide!\\nDoctor\\nHe's scarce awake: let him alone awhile.\\nKING LEAR\\nWhere have I been? Where am I? Fair daylight?\\nI am mightily abused. I should e'en die with pity,\\nTo see another thus. I know not what to say.\\nI will not swear these are my hands: let's see;\\nI feel this pin prick. Would I were assured\\nOf my condition!\\nCORDELIA\\nO, look upon me, sir,\\nAnd hold your hands in benediction o'er me:\\nNo, sir, you must not kneel.\\nKING LEAR\\nPray, do not mock me:\\nI am a very foolish fond old man,\\nFourscore and upward, not an hour more nor less;\\nAnd, to deal plainly,\\nI fear I am not in my perfect mind.\\nMethinks I should know you, and know this man;\\nYet I am doubtful for I am mainly ignorant\\nWhat place this is; and all the skill I have\\nRemembers not these garments; nor I know not\\nWhere I did lodge last night. Do not laugh at me;\\nFor, as I am a man, I think this lady\\nTo be my child Cordelia.\\nCORDELIA\\nAnd so I am, I am.\\nKING LEAR\\nBe your tears wet? yes, 'faith. I pray, weep not:\\nIf you have poison for me, I will drink it.\\nI know you do not love me; for your sisters\\nHave, as I do remember, done me wrong:\\nYou have some cause, they have not.\\nCORDELIA\\nNo cause, no cause.\\nKING LEAR\\nAm I in France?\\nKENT\\nIn your own kingdom, sir.\\nKING LEAR\\nDo not abuse me.\\nDoctor\\nBe comforted, good madam: the great rage,\\nYou see, is kill'd in him: and yet it is danger\\nTo make him even o'er the time he has lost.\\nDesire him to go in; trouble him no more\\nTill further settling.\\nCORDELIA\\nWill't please your highness walk?\\nKING LEAR\\nYou must bear with me:\\nPray you now, forget and forgive: I am old and foolish.\\nExeunt all but KENT and Gentleman\\n\\nGentleman\\nHolds it true, sir, that the Duke of Cornwall was so slain?\\nKENT\\nMost certain, sir.\\nGentleman\\nWho is conductor of his people?\\nKENT\\nAs 'tis said, the bastard son of Gloucester.\\nGentleman\\nThey say Edgar, his banished son, is with the Earl\\nof Kent in Germany.\\nKENT\\nReport is changeable. 'Tis time to look about; the\\npowers of the kingdom approach apace.\\nGentleman\\nThe arbitrement is like to be bloody. Fare you\\nwell, sir.\\nExit\\n\\nKENT\\nMy point and period will be throughly wrought,\\nOr well or ill, as this day's battle's fought.\\nExit\\n\\nACT V\\nSCENE I. The British camp, near Dover.\\nEnter, with drum and colours, EDMUND, REGAN, Gentlemen, and Soldiers.\\nEDMUND\\nKnow of the duke if his last purpose hold,\\nOr whether since he is advised by aught\\nTo change the course: he's full of alteration\\nAnd self-reproving: bring his constant pleasure.\\nTo a Gentleman, who goes out\\n\\nREGAN\\nOur sister's man is certainly miscarried.\\nEDMUND\\n'Tis to be doubted, madam.\\nREGAN\\nNow, sweet lord,\\nYou know the goodness I intend upon you:\\nTell me--but truly--but then speak the truth,\\nDo you not love my sister?\\nEDMUND\\nIn honour'd love.\\nREGAN\\nBut have you never found my brother's way\\nTo the forfended place?\\nEDMUND\\nThat thought abuses you.\\nREGAN\\nI am doubtful that you have been conjunct\\nAnd bosom'd with her, as far as we call hers.\\nEDMUND\\nNo, by mine honour, madam.\\nREGAN\\nI never shall endure her: dear my lord,\\nBe not familiar with her.\\nEDMUND\\nFear me not:\\nShe and the duke her husband!\\nEnter, with drum and colours, ALBANY, GONERIL, and Soldiers\\n\\nGONERIL\\n[Aside] I had rather lose the battle than that sister\\nShould loosen him and me.\\nALBANY\\nOur very loving sister, well be-met.\\nSir, this I hear; the king is come to his daughter,\\nWith others whom the rigor of our state\\nForced to cry out. Where I could not be honest,\\nI never yet was valiant: for this business,\\nIt toucheth us, as France invades our land,\\nNot bolds the king, with others, whom, I fear,\\nMost just and heavy causes make oppose.\\nEDMUND\\nSir, you speak nobly.\\nREGAN\\nWhy is this reason'd?\\nGONERIL\\nCombine together 'gainst the enemy;\\nFor these domestic and particular broils\\nAre not the question here.\\nALBANY\\nLet's then determine\\nWith the ancient of war on our proceedings.\\nEDMUND\\nI shall attend you presently at your tent.\\nREGAN\\nSister, you'll go with us?\\nGONERIL\\nNo.\\nREGAN\\n'Tis most convenient; pray you, go with us.\\nGONERIL\\n[Aside] O, ho, I know the riddle.--I will go.\\nAs they are going out, enter EDGAR disguised\\n\\nEDGAR\\nIf e'er your grace had speech with man so poor,\\nHear me one word.\\nALBANY\\nI'll overtake you. Speak.\\nExeunt all but ALBANY and EDGAR\\n\\nEDGAR\\nBefore you fight the battle, ope this letter.\\nIf you have victory, let the trumpet sound\\nFor him that brought it: wretched though I seem,\\nI can produce a champion that will prove\\nWhat is avouched there. If you miscarry,\\nYour business of the world hath so an end,\\nAnd machination ceases. Fortune love you.\\nALBANY\\nStay till I have read the letter.\\nEDGAR\\nI was forbid it.\\nWhen time shall serve, let but the herald cry,\\nAnd I'll appear again.\\nALBANY\\nWhy, fare thee well: I will o'erlook thy paper.\\nExit EDGAR\\n\\nRe-enter EDMUND\\n\\nEDMUND\\nThe enemy's in view; draw up your powers.\\nHere is the guess of their true strength and forces\\nBy diligent discovery; but your haste\\nIs now urged on you.\\nALBANY\\nWe will greet the time.\\nExit\\n\\nEDMUND\\nTo both these sisters have I sworn my love;\\nEach jealous of the other, as the stung\\nAre of the adder. Which of them shall I take?\\nBoth? one? or neither? Neither can be enjoy'd,\\nIf both remain alive: to take the widow\\nExasperates, makes mad her sister Goneril;\\nAnd hardly shall I carry out my side,\\nHer husband being alive. Now then we'll use\\nHis countenance for the battle; which being done,\\nLet her who would be rid of him devise\\nHis speedy taking off. As for the mercy\\nWhich he intends to Lear and to Cordelia,\\nThe battle done, and they within our power,\\nShall never see his pardon; for my state\\nStands on me to defend, not to debate.\\nExit\\n\\nSCENE II. A field between the two camps.\\nAlarum within. Enter, with drum and colours, KING LEAR, CORDELIA, and Soldiers, over the stage; and exeunt\\nEnter EDGAR and GLOUCESTER\\nEDGAR\\nHere, father, take the shadow of this tree\\nFor your good host; pray that the right may thrive:\\nIf ever I return to you again,\\nI'll bring you comfort.\\nGLOUCESTER\\nGrace go with you, sir!\\nExit EDGAR\\n\\nAlarum and retreat within. Re-enter EDGAR\\n\\nEDGAR\\nAway, old man; give me thy hand; away!\\nKing Lear hath lost, he and his daughter ta'en:\\nGive me thy hand; come on.\\nGLOUCESTER\\nNo farther, sir; a man may rot even here.\\nEDGAR\\nWhat, in ill thoughts again? Men must endure\\nTheir going hence, even as their coming hither;\\nRipeness is all: come on.\\nGLOUCESTER\\nAnd that's true too.\\nExeunt\\n\\nSCENE III. The British camp near Dover.\\nEnter, in conquest, with drum and colours, EDMUND, KING LEAR and CORDELIA, prisoners; Captain, Soldiers, & c\\nEDMUND\\nSome officers take them away: good guard,\\nUntil their greater pleasures first be known\\nThat are to censure them.\\nCORDELIA\\nWe are not the first\\nWho, with best meaning, have incurr'd the worst.\\nFor thee, oppressed king, am I cast down;\\nMyself could else out-frown false fortune's frown.\\nShall we not see these daughters and these sisters?\\nKING LEAR\\nNo, no, no, no! Come, let's away to prison:\\nWe two alone will sing like birds i' the cage:\\nWhen thou dost ask me blessing, I'll kneel down,\\nAnd ask of thee forgiveness: so we'll live,\\nAnd pray, and sing, and tell old tales, and laugh\\nAt gilded butterflies, and hear poor rogues\\nTalk of court news; and we'll talk with them too,\\nWho loses and who wins; who's in, who's out;\\nAnd take upon's the mystery of things,\\nAs if we were God's spies: and we'll wear out,\\nIn a wall'd prison, packs and sects of great ones,\\nThat ebb and flow by the moon.\\nEDMUND\\nTake them away.\\nKING LEAR\\nUpon such sacrifices, my Cordelia,\\nThe gods themselves throw incense. Have I caught thee?\\nHe that parts us shall bring a brand from heaven,\\nAnd fire us hence like foxes. Wipe thine eyes;\\nThe good-years shall devour them, flesh and fell,\\nEre they shall make us weep: we'll see 'em starve\\nfirst. Come.\\nExeunt KING LEAR and CORDELIA, guarded\\n\\nEDMUND\\nCome hither, captain; hark.\\nTake thou this note;\\nGiving a paper\\n\\ngo follow them to prison:\\nOne step I have advanced thee; if thou dost\\nAs this instructs thee, thou dost make thy way\\nTo noble fortunes: know thou this, that men\\nAre as the time is: to be tender-minded\\nDoes not become a sword: thy great employment\\nWill not bear question; either say thou'lt do 't,\\nOr thrive by other means.\\nCaptain\\nI'll do 't, my lord.\\nEDMUND\\nAbout it; and write happy when thou hast done.\\nMark, I say, instantly; and carry it so\\nAs I have set it down.\\nCaptain\\nI cannot draw a cart, nor eat dried oats;\\nIf it be man's work, I'll do 't.\\nExit\\n\\nFlourish. Enter ALBANY, GONERIL, REGAN, another Captain, and Soldiers\\n\\nALBANY\\nSir, you have shown to-day your valiant strain,\\nAnd fortune led you well: you have the captives\\nThat were the opposites of this day's strife:\\nWe do require them of you, so to use them\\nAs we shall find their merits and our safety\\nMay equally determine.\\nEDMUND\\nSir, I thought it fit\\nTo send the old and miserable king\\nTo some retention and appointed guard;\\nWhose age has charms in it, whose title more,\\nTo pluck the common bosom on his side,\\nAn turn our impress'd lances in our eyes\\nWhich do command them. With him I sent the queen;\\nMy reason all the same; and they are ready\\nTo-morrow, or at further space, to appear\\nWhere you shall hold your session. At this time\\nWe sweat and bleed: the friend hath lost his friend;\\nAnd the best quarrels, in the heat, are cursed\\nBy those that feel their sharpness:\\nThe question of Cordelia and her father\\nRequires a fitter place.\\nALBANY\\nSir, by your patience,\\nI hold you but a subject of this war,\\nNot as a brother.\\nREGAN\\nThat's as we list to grace him.\\nMethinks our pleasure might have been demanded,\\nEre you had spoke so far. He led our powers;\\nBore the commission of my place and person;\\nThe which immediacy may well stand up,\\nAnd call itself your brother.\\nGONERIL\\nNot so hot:\\nIn his own grace he doth exalt himself,\\nMore than in your addition.\\nREGAN\\nIn my rights,\\nBy me invested, he compeers the best.\\nGONERIL\\nThat were the most, if he should husband you.\\nREGAN\\nJesters do oft prove prophets.\\nGONERIL\\nHolla, holla!\\nThat eye that told you so look'd but a-squint.\\nREGAN\\nLady, I am not well; else I should answer\\nFrom a full-flowing stomach. General,\\nTake thou my soldiers, prisoners, patrimony;\\nDispose of them, of me; the walls are thine:\\nWitness the world, that I create thee here\\nMy lord and master.\\nGONERIL\\nMean you to enjoy him?\\nALBANY\\nThe let-alone lies not in your good will.\\nEDMUND\\nNor in thine, lord.\\nALBANY\\nHalf-blooded fellow, yes.\\nREGAN\\n[To EDMUND] Let the drum strike, and prove my title thine.\\nALBANY\\nStay yet; hear reason. Edmund, I arrest thee\\nOn capital treason; and, in thine attaint,\\nThis gilded serpent\\nPointing to Goneril\\n\\nFor your claim, fair sister,\\nI bar it in the interest of my wife:\\n'Tis she is sub-contracted to this lord,\\nAnd I, her husband, contradict your bans.\\nIf you will marry, make your loves to me,\\nMy lady is bespoke.\\nGONERIL\\nAn interlude!\\nALBANY\\nThou art arm'd, Gloucester: let the trumpet sound:\\nIf none appear to prove upon thy head\\nThy heinous, manifest, and many treasons,\\nThere is my pledge;\\nThrowing down a glove\\n\\nI'll prove it on thy heart,\\nEre I taste bread, thou art in nothing less\\nThan I have here proclaim'd thee.\\nREGAN\\nSick, O, sick!\\nGONERIL\\n[Aside] If not, I'll ne'er trust medicine.\\nEDMUND\\nThere's my exchange:\\nThrowing down a glove\\n\\nwhat in the world he is\\nThat names me traitor, villain-like he lies:\\nCall by thy trumpet: he that dares approach,\\nOn him, on you, who not? I will maintain\\nMy truth and honour firmly.\\nALBANY\\nA herald, ho!\\nEDMUND\\nA herald, ho, a herald!\\nALBANY\\nTrust to thy single virtue; for thy soldiers,\\nAll levied in my name, have in my name\\nTook their discharge.\\nREGAN\\nMy sickness grows upon me.\\nALBANY\\nShe is not well; convey her to my tent.\\nExit Regan, led\\n\\nEnter a Herald\\n\\nCome hither, herald,--Let the trumpet sound,\\nAnd read out this.\\nCaptain\\nSound, trumpet!\\nA trumpet sounds\\n\\nHerald\\n[Reads] 'If any man of quality or degree within\\nthe lists of the army will maintain upon Edmund,\\nsupposed Earl of Gloucester, that he is a manifold\\ntraitor, let him appear by the third sound of the\\ntrumpet: he is bold in his defence.'\\nEDMUND\\nSound!\\nFirst trumpet\\n\\nHerald\\nAgain!\\nSecond trumpet\\n\\nHerald\\nAgain!\\nThird trumpet\\n\\nTrumpet answers within\\n\\nEnter EDGAR, at the third sound, armed, with a trumpet before him\\n\\nALBANY\\nAsk him his purposes, why he appears\\nUpon this call o' the trumpet.\\nHerald\\nWhat are you?\\nYour name, your quality? and why you answer\\nThis present summons?\\nEDGAR\\nKnow, my name is lost;\\nBy treason's tooth bare-gnawn and canker-bit:\\nYet am I noble as the adversary\\nI come to cope.\\nALBANY\\nWhich is that adversary?\\nEDGAR\\nWhat's he that speaks for Edmund Earl of Gloucester?\\nEDMUND\\nHimself: what say'st thou to him?\\nEDGAR\\nDraw thy sword,\\nThat, if my speech offend a noble heart,\\nThy arm may do thee justice: here is mine.\\nBehold, it is the privilege of mine honours,\\nMy oath, and my profession: I protest,\\nMaugre thy strength, youth, place, and eminence,\\nDespite thy victor sword and fire-new fortune,\\nThy valour and thy heart, thou art a traitor;\\nFalse to thy gods, thy brother, and thy father;\\nConspirant 'gainst this high-illustrious prince;\\nAnd, from the extremest upward of thy head\\nTo the descent and dust below thy foot,\\nA most toad-spotted traitor. Say thou 'No,'\\nThis sword, this arm, and my best spirits, are bent\\nTo prove upon thy heart, whereto I speak,\\nThou liest.\\nEDMUND\\nIn wisdom I should ask thy name;\\nBut, since thy outside looks so fair and warlike,\\nAnd that thy tongue some say of breeding breathes,\\nWhat safe and nicely I might well delay\\nBy rule of knighthood, I disdain and spurn:\\nBack do I toss these treasons to thy head;\\nWith the hell-hated lie o'erwhelm thy heart;\\nWhich, for they yet glance by and scarcely bruise,\\nThis sword of mine shall give them instant way,\\nWhere they shall rest for ever. Trumpets, speak!\\nAlarums. They fight. EDMUND falls\\n\\nALBANY\\nSave him, save him!\\nGONERIL\\nThis is practise, Gloucester:\\nBy the law of arms thou wast not bound to answer\\nAn unknown opposite; thou art not vanquish'd,\\nBut cozen'd and beguiled.\\nALBANY\\nShut your mouth, dame,\\nOr with this paper shall I stop it: Hold, sir:\\nThou worse than any name, read thine own evil:\\nNo tearing, lady: I perceive you know it.\\nGives the letter to EDMUND\\n\\nGONERIL\\nSay, if I do, the laws are mine, not thine:\\nWho can arraign me for't.\\nALBANY\\nMost monstrous! oh!\\nKnow'st thou this paper?\\nGONERIL\\nAsk me not what I know.\\nExit\\n\\nALBANY\\nGo after her: she's desperate; govern her.\\nEDMUND\\nWhat you have charged me with, that have I done;\\nAnd more, much more; the time will bring it out:\\n'Tis past, and so am I. But what art thou\\nThat hast this fortune on me? If thou'rt noble,\\nI do forgive thee.\\nEDGAR\\nLet's exchange charity.\\nI am no less in blood than thou art, Edmund;\\nIf more, the more thou hast wrong'd me.\\nMy name is Edgar, and thy father's son.\\nThe gods are just, and of our pleasant vices\\nMake instruments to plague us:\\nThe dark and vicious place where thee he got\\nCost him his eyes.\\nEDMUND\\nThou hast spoken right, 'tis true;\\nThe wheel is come full circle: I am here.\\nALBANY\\nMethought thy very gait did prophesy\\nA royal nobleness: I must embrace thee:\\nLet sorrow split my heart, if ever I\\nDid hate thee or thy father!\\nEDGAR\\nWorthy prince, I know't.\\nALBANY\\nWhere have you hid yourself?\\nHow have you known the miseries of your father?\\nEDGAR\\nBy nursing them, my lord. List a brief tale;\\nAnd when 'tis told, O, that my heart would burst!\\nThe bloody proclamation to escape,\\nThat follow'd me so near,--O, our lives' sweetness!\\nThat we the pain of death would hourly die\\nRather than die at once!--taught me to shift\\nInto a madman's rags; to assume a semblance\\nThat very dogs disdain'd: and in this habit\\nMet I my father with his bleeding rings,\\nTheir precious stones new lost: became his guide,\\nLed him, begg'd for him, saved him from despair;\\nNever,--O fault!--reveal'd myself unto him,\\nUntil some half-hour past, when I was arm'd:\\nNot sure, though hoping, of this good success,\\nI ask'd his blessing, and from first to last\\nTold him my pilgrimage: but his flaw'd heart,\\nAlack, too weak the conflict to support!\\n'Twixt two extremes of passion, joy and grief,\\nBurst smilingly.\\nEDMUND\\nThis speech of yours hath moved me,\\nAnd shall perchance do good: but speak you on;\\nYou look as you had something more to say.\\nALBANY\\nIf there be more, more woeful, hold it in;\\nFor I am almost ready to dissolve,\\nHearing of this.\\nEDGAR\\nThis would have seem'd a period\\nTo such as love not sorrow; but another,\\nTo amplify too much, would make much more,\\nAnd top extremity.\\nWhilst I was big in clamour came there in a man,\\nWho, having seen me in my worst estate,\\nShunn'd my abhorr'd society; but then, finding\\nWho 'twas that so endured, with his strong arms\\nHe fastened on my neck, and bellow'd out\\nAs he'ld burst heaven; threw him on my father;\\nTold the most piteous tale of Lear and him\\nThat ever ear received: which in recounting\\nHis grief grew puissant and the strings of life\\nBegan to crack: twice then the trumpets sounded,\\nAnd there I left him tranced.\\nALBANY\\nBut who was this?\\nEDGAR\\nKent, sir, the banish'd Kent; who in disguise\\nFollow'd his enemy king, and did him service\\nImproper for a slave.\\nEnter a Gentleman, with a bloody knife\\n\\nGentleman\\nHelp, help, O, help!\\nEDGAR\\nWhat kind of help?\\nALBANY\\nSpeak, man.\\nEDGAR\\nWhat means that bloody knife?\\nGentleman\\n'Tis hot, it smokes;\\nIt came even from the heart of--O, she's dead!\\nALBANY\\nWho dead? speak, man.\\nGentleman\\nYour lady, sir, your lady: and her sister\\nBy her is poisoned; she hath confess'd it.\\nEDMUND\\nI was contracted to them both: all three\\nNow marry in an instant.\\nEDGAR\\nHere comes Kent.\\nALBANY\\nProduce their bodies, be they alive or dead:\\nThis judgment of the heavens, that makes us tremble,\\nTouches us not with pity.\\nExit Gentleman\\n\\nEnter KENT\\n\\nO, is this he?\\nThe time will not allow the compliment\\nWhich very manners urges.\\nKENT\\nI am come\\nTo bid my king and master aye good night:\\nIs he not here?\\nALBANY\\nGreat thing of us forgot!\\nSpeak, Edmund, where's the king? and where's Cordelia?\\nSee'st thou this object, Kent?\\nThe bodies of GONERIL and REGAN are brought in\\n\\nKENT\\nAlack, why thus?\\nEDMUND\\nYet Edmund was beloved:\\nThe one the other poison'd for my sake,\\nAnd after slew herself.\\nALBANY\\nEven so. Cover their faces.\\nEDMUND\\nI pant for life: some good I mean to do,\\nDespite of mine own nature. Quickly send,\\nBe brief in it, to the castle; for my writ\\nIs on the life of Lear and on Cordelia:\\nNay, send in time.\\nALBANY\\nRun, run, O, run!\\nEDGAR\\nTo who, my lord? Who hath the office? send\\nThy token of reprieve.\\nEDMUND\\nWell thought on: take my sword,\\nGive it the captain.\\nALBANY\\nHaste thee, for thy life.\\nExit EDGAR\\n\\nEDMUND\\nHe hath commission from thy wife and me\\nTo hang Cordelia in the prison, and\\nTo lay the blame upon her own despair,\\nThat she fordid herself.\\nALBANY\\nThe gods defend her! Bear him hence awhile.\\nEDMUND is borne off\\n\\nRe-enter KING LEAR, with CORDELIA dead in his arms; EDGAR, Captain, and others following\\n\\nKING LEAR\\nHowl, howl, howl, howl! O, you are men of stones:\\nHad I your tongues and eyes, I'ld use them so\\nThat heaven's vault should crack. She's gone for ever!\\nI know when one is dead, and when one lives;\\nShe's dead as earth. Lend me a looking-glass;\\nIf that her breath will mist or stain the stone,\\nWhy, then she lives.\\nKENT\\nIs this the promised end\\nEDGAR\\nOr image of that horror?\\nALBANY\\nFall, and cease!\\nKING LEAR\\nThis feather stirs; she lives! if it be so,\\nIt is a chance which does redeem all sorrows\\nThat ever I have felt.\\nKENT\\n[Kneeling] O my good master!\\nKING LEAR\\nPrithee, away.\\nEDGAR\\n'Tis noble Kent, your friend.\\nKING LEAR\\nA plague upon you, murderers, traitors all!\\nI might have saved her; now she's gone for ever!\\nCordelia, Cordelia! stay a little. Ha!\\nWhat is't thou say'st? Her voice was ever soft,\\nGentle, and low, an excellent thing in woman.\\nI kill'd the slave that was a-hanging thee.\\nCaptain\\n'Tis true, my lords, he did.\\nKING LEAR\\nDid I not, fellow?\\nI have seen the day, with my good biting falchion\\nI would have made them skip: I am old now,\\nAnd these same crosses spoil me. Who are you?\\nMine eyes are not o' the best: I'll tell you straight.\\nKENT\\nIf fortune brag of two she loved and hated,\\nOne of them we behold.\\nKING LEAR\\nThis is a dull sight. Are you not Kent?\\nKENT\\nThe same,\\nYour servant Kent: Where is your servant Caius?\\nKING LEAR\\nHe's a good fellow, I can tell you that;\\nHe'll strike, and quickly too: he's dead and rotten.\\nKENT\\nNo, my good lord; I am the very man,--\\nKING LEAR\\nI'll see that straight.\\nKENT\\nThat, from your first of difference and decay,\\nHave follow'd your sad steps.\\nKING LEAR\\nYou are welcome hither.\\nKENT\\nNor no man else: all's cheerless, dark, and deadly.\\nYour eldest daughters have fordone them selves,\\nAnd desperately are dead.\\nKING LEAR\\nAy, so I think.\\nALBANY\\nHe knows not what he says: and vain it is\\nThat we present us to him.\\nEDGAR\\nVery bootless.\\nEnter a Captain\\n\\nCaptain\\nEdmund is dead, my lord.\\nALBANY\\nThat's but a trifle here.\\nYou lords and noble friends, know our intent.\\nWhat comfort to this great decay may come\\nShall be applied: for us we will resign,\\nDuring the life of this old majesty,\\nTo him our absolute power:\\nTo EDGAR and KENT\\n\\nyou, to your rights:\\nWith boot, and such addition as your honours\\nHave more than merited. All friends shall taste\\nThe wages of their virtue, and all foes\\nThe cup of their deservings. O, see, see!\\nKING LEAR\\nAnd my poor fool is hang'd! No, no, no life!\\nWhy should a dog, a horse, a rat, have life,\\nAnd thou no breath at all? Thou'lt come no more,\\nNever, never, never, never, never!\\nPray you, undo this button: thank you, sir.\\nDo you see this? Look on her, look, her lips,\\nLook there, look there!\\nDies\\n\\nEDGAR\\nHe faints! My lord, my lord!\\nKENT\\nBreak, heart; I prithee, break!\\nEDGAR\\nLook up, my lord.\\nKENT\\nVex not his ghost: O, let him pass! he hates him much\\nThat would upon the rack of this tough world\\nStretch him out longer.\\nEDGAR\\nHe is gone, indeed.\\nKENT\\nThe wonder is, he hath endured so long:\\nHe but usurp'd his life.\\nALBANY\\nBear them from hence. Our present business\\nIs general woe.\\nTo KENT and EDGAR\\n\\nFriends of my soul, you twain\\nRule in this realm, and the gored state sustain.\\nKENT\\nI have a journey, sir, shortly to go;\\nMy master calls me, I must not say no.\\nALBANY\\nThe weight of this sad time we must obey;\\nSpeak what we feel, not what we ought to say.\\nThe oldest hath borne most: we that are young\\nShall never see so much, nor live so long.\\nExeunt, with a dead march\"]\n"
          ]
        }
      ],
      "source": [
        "print(documents)"
      ]
    },
    {
      "cell_type": "markdown",
      "metadata": {
        "id": "xXGaG1bEilBk"
      },
      "source": [
        "### Splitting Text Into Chunks\n",
        "\n",
        "As we can see, there is one document - and it's the entire text of Frakenstein\n",
        "\n",
        "We'll want to chunk the document into smaller parts so it's easier to pass the most relevant snippets to the LLM.\n",
        "\n",
        "There is no fixed way to split/chunk documents - and you'll need to rely on some intuition as well as knowing your data *very* well in order to build the most robust system.\n",
        "\n",
        "For this toy example, we'll just split blindly on length.\n",
        "\n",
        ">There's an opportunity to clear up some terminology here, for this course we will be stick to the following:\n",
        ">\n",
        ">- \"source documents\" : The `.txt`, `.pdf`, `.html`, ..., files that make up the files and information we start with in its raw format\n",
        ">- \"document(s)\" : single (or more) text object(s)\n",
        ">- \"corpus\" : the combination of all of our documents"
      ]
    },
    {
      "cell_type": "markdown",
      "metadata": {
        "id": "4lLWM-1rilBk"
      },
      "source": [
        "Let's take a peek visually at what we're doing here - and why it might be useful:\n",
        "\n",
        "<img src=\"https://i.imgur.com/rtM6Ci6.png\" />"
      ]
    },
    {
      "cell_type": "markdown",
      "metadata": {
        "id": "Vaxah6ZxilBk"
      },
      "source": [
        "As you can see (though it's not specifically true in this toy example) the idea of splitting documents is to break them into managable sized chunks that retain the most relevant local context."
      ]
    },
    {
      "cell_type": "code",
      "execution_count": null,
      "metadata": {
        "id": "ARfC6ZsuilBk",
        "outputId": "e6cb418b-2f49-445b-f445-1297f6ee3c5c"
      },
      "outputs": [
        {
          "data": {
            "text/plain": [
              "189"
            ]
          },
          "execution_count": 15,
          "metadata": {},
          "output_type": "execute_result"
        }
      ],
      "source": [
        "text_splitter = CharacterTextSplitter()\n",
        "split_documents = text_splitter.split_texts(documents)\n",
        "len(split_documents)"
      ]
    },
    {
      "cell_type": "markdown",
      "metadata": {
        "id": "otgMuKzhilBl"
      },
      "source": [
        "Let's take a look at some of the documents we've managed to split."
      ]
    },
    {
      "cell_type": "code",
      "execution_count": null,
      "metadata": {
        "id": "52zWiAJ9ilBl",
        "outputId": "a488599e-0c15-4ae4-c2e2-06eaf4b183ca"
      },
      "outputs": [
        {
          "data": {
            "text/plain": [
              "[\"\\ufeffACT I\\nSCENE I. King Lear's palace.\\nEnter KENT, GLOUCESTER, and EDMUND\\nKENT\\nI thought the king had more affected the Duke of\\nAlbany than Cornwall.\\nGLOUCESTER\\nIt did always seem so to us: but now, in the\\ndivision of the kingdom, it appears not which of\\nthe dukes he values most; for equalities are so\\nweighed, that curiosity in neither can make choice\\nof either's moiety.\\nKENT\\nIs not this your son, my lord?\\nGLOUCESTER\\nHis breeding, sir, hath been at my charge: I have\\nso often blushed to acknowledge him, that now I am\\nbrazed to it.\\nKENT\\nI cannot conceive you.\\nGLOUCESTER\\nSir, this young fellow's mother could: whereupon\\nshe grew round-wombed, and had, indeed, sir, a son\\nfor her cradle ere she had a husband for her bed.\\nDo you smell a fault?\\nKENT\\nI cannot wish the fault undone, the issue of it\\nbeing so proper.\\nGLOUCESTER\\nBut I have, sir, a son by order of law, some year\\nelder than this, who yet is no dearer in my account:\\nthough this knave came something saucily into the\\nworld before he was se\"]"
            ]
          },
          "execution_count": 16,
          "metadata": {},
          "output_type": "execute_result"
        }
      ],
      "source": [
        "split_documents[0:1]"
      ]
    },
    {
      "cell_type": "markdown",
      "metadata": {
        "id": "MsdeH_uUilBl"
      },
      "source": [
        "### Embeddings and Vectors\n",
        "\n",
        "Next, we have to convert our corpus into a \"machine readable\" format.\n",
        "\n",
        "Loosely, this means turning the text into numbers.\n",
        "\n",
        "There are plenty of resources that talk about this process in great detail - I'll leave this [blog](https://txt.cohere.com/sentence-word-embeddings/) from Cohere.AI as a resource if you want to deep dive a bit.\n",
        "\n",
        "Today, we're going to talk about the actual process of creating, and then storing, these embeddings, and how we can leverage that to intelligently add context to our queries."
      ]
    },
    {
      "cell_type": "markdown",
      "metadata": {
        "id": "bRVRYE2xilBl"
      },
      "source": [
        "While this is all baked into 1 call - let's look at some of the code that powers this process:\n",
        "\n",
        "Let's look at our `VectorDatabase().__init__()`:\n",
        "\n",
        "```python\n",
        "def __init__(self, embedding_model: EmbeddingModel = None):\n",
        "        self.vectors = defaultdict(np.array)\n",
        "        self.embedding_model = embedding_model or EmbeddingModel()\n",
        "```\n",
        "\n",
        "As you can see - our vectors are merely stored as a dictionary of `np.array` objects.\n",
        "\n",
        "Secondly, our `VectorDatabase()` has a default `EmbeddingModel()` which is a wrapper for OpenAI's `text-embedding-3-small` model.\n",
        "\n",
        "> **Quick Info About `text-embedding-3-small`**:\n",
        "> - It has a context window of **8191** tokens\n",
        "> - It returns vectors with dimension **1536**"
      ]
    },
    {
      "cell_type": "markdown",
      "metadata": {
        "id": "NJBqcbvzilBl"
      },
      "source": [
        "#### ❓QUESTION:\n",
        "\n",
        "Though 1536 is the default dimension of `text-embedding-3-small`, you can pass a dimension parameter and shorten the vector - what method does OpenAI use to achieve this shortening?\n",
        "\n",
        "### As part of the embedding create method"
      ]
    },
    {
      "cell_type": "code",
      "execution_count": null,
      "metadata": {
        "id": "sc6CFmtIilBl"
      },
      "outputs": [],
      "source": [
        "import os\n",
        "import openai\n",
        "from getpass import getpass\n",
        "\n",
        "openai.api_key = getpass(\"OpenAI API Key: \")\n",
        "os.environ[\"OPENAI_API_KEY\"] = openai.api_key"
      ]
    },
    {
      "cell_type": "markdown",
      "metadata": {
        "id": "53MbHEMBilBl"
      },
      "source": [
        "We can call the `async_get_embeddings` method of our `EmbeddingModel()` on a list of `str` and receive a list of `float` back!\n",
        "\n",
        "```python\n",
        "async def async_get_embeddings(self, list_of_text: List[str]) -> List[List[float]]:\n",
        "        return await aget_embeddings(\n",
        "            list_of_text=list_of_text, engine=self.embeddings_model_name\n",
        "        )\n",
        "```"
      ]
    },
    {
      "cell_type": "markdown",
      "metadata": {
        "id": "LZhJUS71ilBl"
      },
      "source": [
        "We cast those to `np.array` when we build our `VectorDatabase()`:\n",
        "\n",
        "```python\n",
        "async def abuild_from_list(self, list_of_text: List[str]) -> \"VectorDatabase\":\n",
        "        embeddings = await self.embedding_model.async_get_embeddings(list_of_text)\n",
        "        for text, embedding in zip(list_of_text, embeddings):\n",
        "            self.insert(text, np.array(embedding))\n",
        "        return self\n",
        "```\n",
        "\n",
        "And that's all we need to do!"
      ]
    },
    {
      "cell_type": "code",
      "execution_count": null,
      "metadata": {
        "id": "QEJranLYilBl"
      },
      "outputs": [],
      "source": [
        "vector_db = VectorDatabase()\n",
        "vector_db = asyncio.run(vector_db.abuild_from_list(split_documents))"
      ]
    },
    {
      "cell_type": "markdown",
      "metadata": {
        "id": "UGWPNTdnilBl"
      },
      "source": [
        "#### ❓QUESTION:\n",
        "\n",
        "What advantage does an async implementation provide for us?\n",
        "### allows to handle more concurrency and reduce waiting/blocking"
      ]
    },
    {
      "cell_type": "markdown",
      "metadata": {
        "id": "73oALDRbilBm"
      },
      "source": [
        "So, to review what we've done so far in natural language:\n",
        "\n",
        "1. We load source documents\n",
        "2. We split those source documents into smaller chunks (documents)\n",
        "3. We send each of those documents to the `text-embedding-3-small` OpenAI API endpoint\n",
        "4. We store each of the text representations with the vector representations as keys/values in a dictionary"
      ]
    },
    {
      "cell_type": "markdown",
      "metadata": {
        "id": "cSVW30xqilBm"
      },
      "source": [
        "### Semantic Similarity\n",
        "\n",
        "The next step is to be able to query our `VectorDatabase()` with a `str` and have it return to us vectors and text that is most relevant from our corpus.\n",
        "\n",
        "We're going to use the following process to achieve this in our toy example:\n",
        "\n",
        "1. We need to embed our query with the same `EmbeddingModel()` as we used to construct our `VectorDatabase()`\n",
        "2. We loop through every vector in our `VectorDatabase()` and use a distance measure to compare how related they are\n",
        "3. We return a list of the top `k` closest vectors, with their text representations\n",
        "\n",
        "There's some very heavy optimization that can be done at each of these steps - but let's just focus on the basic pattern in this notebook.\n",
        "\n",
        "> We are using [cosine similarity](https://www.engati.com/glossary/cosine-similarity) as a distance metric in this example - but there are many many distance metrics you could use - like [these](https://flavien-vidal.medium.com/similarity-distances-for-natural-language-processing-16f63cd5ba55)\n",
        "\n",
        "Default is Cosine similarity or using distance_measure_type = 0, and 1 for Euclidean distance\n",
        "\n",
        "> We are using a rather inefficient way of calculating relative distance between the query vector and all other vectors - there are more advanced approaches that are much more efficient, like [ANN](https://towardsdatascience.com/comprehensive-guide-to-approximate-nearest-neighbors-algorithms-8b94f057d6b6)"
      ]
    },
    {
      "cell_type": "code",
      "execution_count": null,
      "metadata": {
        "id": "erxQzK7xilBm",
        "outputId": "bcc07af0-0955-4ed9-9e15-b0b151b25760"
      },
      "outputs": [
        {
          "data": {
            "text/plain": [
              "[(\"ng] O my good master!\\nKING LEAR\\nPrithee, away.\\nEDGAR\\n'Tis noble Kent, your friend.\\nKING LEAR\\nA plague upon you, murderers, traitors all!\\nI might have saved her; now she's gone for ever!\\nCordelia, Cordelia! stay a little. Ha!\\nWhat is't thou say'st? Her voice was ever soft,\\nGentle, and low, an excellent thing in woman.\\nI kill'd the slave that was a-hanging thee.\\nCaptain\\n'Tis true, my lords, he did.\\nKING LEAR\\nDid I not, fellow?\\nI have seen the day, with my good biting falchion\\nI would have made them skip: I am old now,\\nAnd these same crosses spoil me. Who are you?\\nMine eyes are not o' the best: I'll tell you straight.\\nKENT\\nIf fortune brag of two she loved and hated,\\nOne of them we behold.\\nKING LEAR\\nThis is a dull sight. Are you not Kent?\\nKENT\\nThe same,\\nYour servant Kent: Where is your servant Caius?\\nKING LEAR\\nHe's a good fellow, I can tell you that;\\nHe'll strike, and quickly too: he's dead and rotten.\\nKENT\\nNo, my good lord; I am the very man,--\\nKING LEAR\\nI'll see that straight.\\nKENT\\nThat,\",\n",
              "  0.5154826184156086),\n",
              " (\" Caius?\\nKING LEAR\\nHe's a good fellow, I can tell you that;\\nHe'll strike, and quickly too: he's dead and rotten.\\nKENT\\nNo, my good lord; I am the very man,--\\nKING LEAR\\nI'll see that straight.\\nKENT\\nThat, from your first of difference and decay,\\nHave follow'd your sad steps.\\nKING LEAR\\nYou are welcome hither.\\nKENT\\nNor no man else: all's cheerless, dark, and deadly.\\nYour eldest daughters have fordone them selves,\\nAnd desperately are dead.\\nKING LEAR\\nAy, so I think.\\nALBANY\\nHe knows not what he says: and vain it is\\nThat we present us to him.\\nEDGAR\\nVery bootless.\\nEnter a Captain\\n\\nCaptain\\nEdmund is dead, my lord.\\nALBANY\\nThat's but a trifle here.\\nYou lords and noble friends, know our intent.\\nWhat comfort to this great decay may come\\nShall be applied: for us we will resign,\\nDuring the life of this old majesty,\\nTo him our absolute power:\\nTo EDGAR and KENT\\n\\nyou, to your rights:\\nWith boot, and such addition as your honours\\nHave more than merited. All friends shall taste\\nThe wages of their virtue, and \",\n",
              "  0.44939270031981626),\n",
              " (\"n, sir.\\nKING LEAR\\nWhat dost thou profess? what wouldst thou with us?\\nKENT\\nI do profess to be no less than I seem; to serve\\nhim truly that will put me in trust: to love him\\nthat is honest; to converse with him that is wise,\\nand says little; to fear judgment; to fight when I\\ncannot choose; and to eat no fish.\\nKING LEAR\\nWhat art thou?\\nKENT\\nA very honest-hearted fellow, and as poor as the king.\\nKING LEAR\\nIf thou be as poor for a subject as he is for a\\nking, thou art poor enough. What wouldst thou?\\nKENT\\nService.\\nKING LEAR\\nWho wouldst thou serve?\\nKENT\\nYou.\\nKING LEAR\\nDost thou know me, fellow?\\nKENT\\nNo, sir; but you have that in your countenance\\nwhich I would fain call master.\\nKING LEAR\\nWhat's that?\\nKENT\\nAuthority.\\nKING LEAR\\nWhat services canst thou do?\\nKENT\\nI can keep honest counsel, ride, run, mar a curious\\ntale in telling it, and deliver a plain message\\nbluntly: that which ordinary men are fit for, I am\\nqualified in; and the best of me is diligence.\\nKING LEAR\\nHow old art thou?\\nKENT\\nNot so y\",\n",
              "  0.4441984999638057)]"
            ]
          },
          "execution_count": 20,
          "metadata": {},
          "output_type": "execute_result"
        }
      ],
      "source": [
        "#vector_db.search_by_text(\"Your servant Kent. Where is your servant Caius?\", k=3,distance_measure_type=0, return_as_text = False)\n",
        "vector_db.search_by_text(\"Your servant Kent. Where is your servant Caius?\", k=3)"
      ]
    },
    {
      "cell_type": "markdown",
      "metadata": {
        "id": "McxUntGPilBm"
      },
      "source": [
        "\n",
        "> We are using [Euclidean distance](https://www.engati.com/glossary/euclidean-distance) as a distance metric in this example.\n",
        "Can see that get the same results with different distance measure, but same ranking\n",
        "\n",
        "distance_measure_type = 1 for Euclidean distance"
      ]
    },
    {
      "cell_type": "code",
      "execution_count": null,
      "metadata": {
        "id": "-kMAdRsCilBm",
        "outputId": "8a572172-a8af-4629-ede7-1742c30e7c88"
      },
      "outputs": [
        {
          "data": {
            "text/plain": [
              "[(\"ng] O my good master!\\nKING LEAR\\nPrithee, away.\\nEDGAR\\n'Tis noble Kent, your friend.\\nKING LEAR\\nA plague upon you, murderers, traitors all!\\nI might have saved her; now she's gone for ever!\\nCordelia, Cordelia! stay a little. Ha!\\nWhat is't thou say'st? Her voice was ever soft,\\nGentle, and low, an excellent thing in woman.\\nI kill'd the slave that was a-hanging thee.\\nCaptain\\n'Tis true, my lords, he did.\\nKING LEAR\\nDid I not, fellow?\\nI have seen the day, with my good biting falchion\\nI would have made them skip: I am old now,\\nAnd these same crosses spoil me. Who are you?\\nMine eyes are not o' the best: I'll tell you straight.\\nKENT\\nIf fortune brag of two she loved and hated,\\nOne of them we behold.\\nKING LEAR\\nThis is a dull sight. Are you not Kent?\\nKENT\\nThe same,\\nYour servant Kent: Where is your servant Caius?\\nKING LEAR\\nHe's a good fellow, I can tell you that;\\nHe'll strike, and quickly too: he's dead and rotten.\\nKENT\\nNo, my good lord; I am the very man,--\\nKING LEAR\\nI'll see that straight.\\nKENT\\nThat,\",\n",
              "  0.5039317612938123),\n",
              " (\" Caius?\\nKING LEAR\\nHe's a good fellow, I can tell you that;\\nHe'll strike, and quickly too: he's dead and rotten.\\nKENT\\nNo, my good lord; I am the very man,--\\nKING LEAR\\nI'll see that straight.\\nKENT\\nThat, from your first of difference and decay,\\nHave follow'd your sad steps.\\nKING LEAR\\nYou are welcome hither.\\nKENT\\nNor no man else: all's cheerless, dark, and deadly.\\nYour eldest daughters have fordone them selves,\\nAnd desperately are dead.\\nKING LEAR\\nAy, so I think.\\nALBANY\\nHe knows not what he says: and vain it is\\nThat we present us to him.\\nEDGAR\\nVery bootless.\\nEnter a Captain\\n\\nCaptain\\nEdmund is dead, my lord.\\nALBANY\\nThat's but a trifle here.\\nYou lords and noble friends, know our intent.\\nWhat comfort to this great decay may come\\nShall be applied: for us we will resign,\\nDuring the life of this old majesty,\\nTo him our absolute power:\\nTo EDGAR and KENT\\n\\nyou, to your rights:\\nWith boot, and such addition as your honours\\nHave more than merited. All friends shall taste\\nThe wages of their virtue, and \",\n",
              "  0.48795060522822675),\n",
              " (\"n, sir.\\nKING LEAR\\nWhat dost thou profess? what wouldst thou with us?\\nKENT\\nI do profess to be no less than I seem; to serve\\nhim truly that will put me in trust: to love him\\nthat is honest; to converse with him that is wise,\\nand says little; to fear judgment; to fight when I\\ncannot choose; and to eat no fish.\\nKING LEAR\\nWhat art thou?\\nKENT\\nA very honest-hearted fellow, and as poor as the king.\\nKING LEAR\\nIf thou be as poor for a subject as he is for a\\nking, thou art poor enough. What wouldst thou?\\nKENT\\nService.\\nKING LEAR\\nWho wouldst thou serve?\\nKENT\\nYou.\\nKING LEAR\\nDost thou know me, fellow?\\nKENT\\nNo, sir; but you have that in your countenance\\nwhich I would fain call master.\\nKING LEAR\\nWhat's that?\\nKENT\\nAuthority.\\nKING LEAR\\nWhat services canst thou do?\\nKENT\\nI can keep honest counsel, ride, run, mar a curious\\ntale in telling it, and deliver a plain message\\nbluntly: that which ordinary men are fit for, I am\\nqualified in; and the best of me is diligence.\\nKING LEAR\\nHow old art thou?\\nKENT\\nNot so y\",\n",
              "  0.486777681068011)]"
            ]
          },
          "execution_count": 21,
          "metadata": {},
          "output_type": "execute_result"
        }
      ],
      "source": [
        "#vector_db.search_by_text(\"Your servant Kent. Where is your servant Caius?\", k=3, distance_measure_type=1, return_as_text = False)\n",
        "vector_db.search_by_text(\"Your servant Kent. Where is your servant Caius?\", k=3, distance_measure_type=1)"
      ]
    },
    {
      "cell_type": "markdown",
      "metadata": {
        "id": "3g-Sq763ilBm"
      },
      "source": [
        "# Prompts\n",
        "\n",
        "In the following section, we'll be looking at the role of prompts - and how they help us to guide our application in the right direction.\n",
        "\n",
        "In this notebook, we're going to rely on the idea of \"zero-shot in-context learning\".\n",
        "\n",
        "This is a lot of words to say: \"We will ask it to perform our desired task in the prompt, and provide no examples.\""
      ]
    },
    {
      "cell_type": "markdown",
      "metadata": {
        "id": "JrG-issrilBm"
      },
      "source": [
        "### XYZRolePrompt\n",
        "\n",
        "Before we do that, let's stop and think a bit about how OpenAI's chat models work.\n",
        "\n",
        "We know they have roles - as is indicated in the following API [documentation](https://platform.openai.com/docs/api-reference/chat/create#chat/create-messages)\n",
        "\n",
        "There are three roles, and they function as follows (taken directly from [OpenAI](https://platform.openai.com/docs/guides/gpt/chat-completions-api)):\n",
        "\n",
        "- `{\"role\" : \"system\"}` : The system message helps set the behavior of the assistant. For example, you can modify the personality of the assistant or provide specific instructions about how it should behave throughout the conversation. However note that the system message is optional and the model’s behavior without a system message is likely to be similar to using a generic message such as \"You are a helpful assistant.\"\n",
        "- `{\"role\" : \"user\"}` : The user messages provide requests or comments for the assistant to respond to.\n",
        "- `{\"role\" : \"assistant\"}` : Assistant messages store previous assistant responses, but can also be written by you to give examples of desired behavior.\n",
        "\n",
        "The main idea is this:\n",
        "\n",
        "1. You start with a system message that outlines how the LLM should respond, what kind of behaviours you can expect from it, and more\n",
        "2. Then, you can provide a few examples in the form of \"assistant\"/\"user\" pairs\n",
        "3. Then, you prompt the model with the true \"user\" message.\n",
        "\n",
        "In this example, we'll be forgoing the 2nd step for simplicities sake."
      ]
    },
    {
      "cell_type": "markdown",
      "metadata": {
        "id": "eAmza-M4ilBm"
      },
      "source": [
        "#### Utility Functions\n",
        "\n",
        "You'll notice that we're using some utility functions from the `aimakerspace` module - let's take a peek at these and see what they're doing!"
      ]
    },
    {
      "cell_type": "markdown",
      "metadata": {
        "id": "3rpqrLJwilBm"
      },
      "source": [
        "##### XYZRolePrompt"
      ]
    },
    {
      "cell_type": "markdown",
      "metadata": {
        "id": "7TMUhqvEilBm"
      },
      "source": [
        "Here we have our `system`, `user`, and `assistant` role prompts.\n",
        "\n",
        "Let's take a peek at what they look like:\n",
        "\n",
        "```python\n",
        "class BasePrompt:\n",
        "    def __init__(self, prompt):\n",
        "        \"\"\"\n",
        "        Initializes the BasePrompt object with a prompt template.\n",
        "\n",
        "        :param prompt: A string that can contain placeholders within curly braces\n",
        "        \"\"\"\n",
        "        self.prompt = prompt\n",
        "        self._pattern = re.compile(r\"\\{([^}]+)\\}\")\n",
        "\n",
        "    def format_prompt(self, **kwargs):\n",
        "        \"\"\"\n",
        "        Formats the prompt string using the keyword arguments provided.\n",
        "\n",
        "        :param kwargs: The values to substitute into the prompt string\n",
        "        :return: The formatted prompt string\n",
        "        \"\"\"\n",
        "        matches = self._pattern.findall(self.prompt)\n",
        "        return self.prompt.format(**{match: kwargs.get(match, \"\") for match in matches})\n",
        "\n",
        "    def get_input_variables(self):\n",
        "        \"\"\"\n",
        "        Gets the list of input variable names from the prompt string.\n",
        "\n",
        "        :return: List of input variable names\n",
        "        \"\"\"\n",
        "        return self._pattern.findall(self.prompt)\n",
        "```\n",
        "\n",
        "Then we have our `RolePrompt` which laser focuses us on the role pattern found in most API endpoints for LLMs.\n",
        "\n",
        "```python\n",
        "class RolePrompt(BasePrompt):\n",
        "    def __init__(self, prompt, role: str):\n",
        "        \"\"\"\n",
        "        Initializes the RolePrompt object with a prompt template and a role.\n",
        "\n",
        "        :param prompt: A string that can contain placeholders within curly braces\n",
        "        :param role: The role for the message ('system', 'user', or 'assistant')\n",
        "        \"\"\"\n",
        "        super().__init__(prompt)\n",
        "        self.role = role\n",
        "\n",
        "    def create_message(self, **kwargs):\n",
        "        \"\"\"\n",
        "        Creates a message dictionary with a role and a formatted message.\n",
        "\n",
        "        :param kwargs: The values to substitute into the prompt string\n",
        "        :return: Dictionary containing the role and the formatted message\n",
        "        \"\"\"\n",
        "        return {\"role\": self.role, \"content\": self.format_prompt(**kwargs)}\n",
        "```\n",
        "\n",
        "We'll look at how the `SystemRolePrompt` is constructed to get a better idea of how that extension works:\n",
        "\n",
        "```python\n",
        "class SystemRolePrompt(RolePrompt):\n",
        "    def __init__(self, prompt: str):\n",
        "        super().__init__(prompt, \"system\")\n",
        "```\n",
        "\n",
        "That pattern is repeated for our `UserRolePrompt` and our `AssistantRolePrompt` as well."
      ]
    },
    {
      "cell_type": "markdown",
      "metadata": {
        "id": "pRACKSW8ilBn"
      },
      "source": [
        "##### ChatOpenAI"
      ]
    },
    {
      "cell_type": "markdown",
      "metadata": {
        "id": "P0liYkL8ilBq"
      },
      "source": [
        "Next we have our model, which is converted to a format analagous to libraries like LangChain and LlamaIndex.\n",
        "\n",
        "Let's take a peek at how that is constructed:\n",
        "\n",
        "```python\n",
        "class ChatOpenAI:\n",
        "    def __init__(self, model_name: str = \"gpt-3.5-turbo\"):\n",
        "        self.model_name = model_name\n",
        "        self.openai_api_key = os.getenv(\"OPENAI_API_KEY\")\n",
        "        if self.openai_api_key is None:\n",
        "            raise ValueError(\"OPENAI_API_KEY is not set\")\n",
        "\n",
        "    def run(self, messages, text_only: bool = True):\n",
        "        if not isinstance(messages, list):\n",
        "            raise ValueError(\"messages must be a list\")\n",
        "\n",
        "        openai.api_key = self.openai_api_key\n",
        "        response = openai.ChatCompletion.create(\n",
        "            model=self.model_name, messages=messages\n",
        "        )\n",
        "\n",
        "        if text_only:\n",
        "            return response.choices[0].message.content\n",
        "\n",
        "        return response\n",
        "```"
      ]
    },
    {
      "cell_type": "markdown",
      "metadata": {
        "id": "NiiOG_oxilBq"
      },
      "source": [
        "#### ❓QUESTION:\n",
        "\n",
        "How could we ensure our LLM always responded the same way to our inputs?\n",
        "ensure temperature = 0, specify a standard output format (schema) via prompting, data grounding - instruct via prompt to only answer with the data it was given, leverage prompt template with special characters to help mitigate/avoid prompt injections"
      ]
    },
    {
      "cell_type": "markdown",
      "metadata": {
        "id": "1ZnXAPtCilBr"
      },
      "source": [
        "### Creating and Prompting OpenAI's `gpt-3.5-turbo`!\n",
        "\n",
        "Let's tie all these together and use it to prompt `gpt-3.5-turbo`!"
      ]
    },
    {
      "cell_type": "code",
      "execution_count": null,
      "metadata": {
        "id": "Ua8M8d0-ilBr"
      },
      "outputs": [],
      "source": [
        "from aimakerspace.openai_utils.prompts import (\n",
        "    UserRolePrompt,\n",
        "    SystemRolePrompt,\n",
        "    AssistantRolePrompt,\n",
        ")\n",
        "\n",
        "from aimakerspace.openai_utils.chatmodel import ChatOpenAI\n",
        "\n",
        "chat_openai = ChatOpenAI()\n",
        "user_prompt_template = \"{content}\"\n",
        "user_role_prompt = UserRolePrompt(user_prompt_template)\n",
        "system_prompt_template = (\n",
        "    \"You are an expert in {expertise}, you always answer in a kind way.\"\n",
        ")\n",
        "system_role_prompt = SystemRolePrompt(system_prompt_template)\n",
        "\n",
        "messages = [\n",
        "    user_role_prompt.create_message(\n",
        "        content=\"What is the best way to write a loop?\"\n",
        "    ),\n",
        "    system_role_prompt.create_message(expertise=\"Python\"),\n",
        "]\n",
        "\n",
        "response = chat_openai.run(messages)"
      ]
    },
    {
      "cell_type": "code",
      "execution_count": null,
      "metadata": {
        "id": "fDUjkmW2ilBr",
        "outputId": "b181928f-4976-4fd7-aebc-93e63bccdf2e"
      },
      "outputs": [
        {
          "name": "stdout",
          "output_type": "stream",
          "text": [
            "The best way to write a loop really depends on the specific situation and what you are trying to accomplish. However, in general, using a \"for\" loop is a common and versatile way to iterate over a sequence of elements. For example:\n",
            "\n",
            "```python\n",
            "for i in range(5):\n",
            "    print(i)\n",
            "```\n",
            "\n",
            "This loop will iterate over the numbers 0 through 4 and print each number. \n",
            "\n",
            "If you need to iterate based on a condition, you can use a \"while\" loop. For example:\n",
            "\n",
            "```python\n",
            "x = 0\n",
            "while x < 5:\n",
            "    print(x)\n",
            "    x += 1\n",
            "```\n",
            "\n",
            "This loop will continue to print values of x as long as x is less than 5. \n",
            "\n",
            "Regardless of the type of loop you use, it's important to make sure that the loop has a clear purpose, uses descriptive variable names, and is easy to read and understand. This will help ensure that your loop is efficient and effective in achieving its intended goal.\n"
          ]
        }
      ],
      "source": [
        "print(response)"
      ]
    },
    {
      "cell_type": "markdown",
      "metadata": {
        "id": "cUhX1z7SilBr"
      },
      "source": [
        "### Retrieval Augmented Question Answering Prompt\n",
        "\n",
        "Now we can create a RAQA prompt - which will help our system behave in a way that makes sense!\n",
        "\n",
        "There is much you could do here, many tweaks and improvements to be made!"
      ]
    },
    {
      "cell_type": "code",
      "execution_count": null,
      "metadata": {
        "id": "l6GLjoJcilBr"
      },
      "outputs": [],
      "source": [
        "RAQA_PROMPT_TEMPLATE = \"\"\" \\\n",
        "Use the provided context to answer the user's query.\n",
        "\n",
        "You may not answer the user's query unless there is specific context in the following text.\n",
        "\n",
        "If you do not know the answer, or cannot answer, please respond with \"I don't know\".\n",
        "\"\"\"\n",
        "\n",
        "raqa_prompt = SystemRolePrompt(RAQA_PROMPT_TEMPLATE)\n",
        "\n",
        "USER_PROMPT_TEMPLATE = \"\"\" \\\n",
        "Context:\n",
        "{context}\n",
        "\n",
        "User Query:\n",
        "{user_query}\n",
        "\"\"\"\n",
        "\n",
        "\n",
        "user_prompt = UserRolePrompt(USER_PROMPT_TEMPLATE)\n",
        "\n",
        "class RetrievalAugmentedQAPipeline:\n",
        "    def __init__(self, llm: ChatOpenAI(), vector_db_retriever: VectorDatabase) -> None:\n",
        "        self.llm = llm\n",
        "        self.vector_db_retriever = vector_db_retriever\n",
        "\n",
        "    def run_pipeline(self, user_query: str) -> str:\n",
        "        context_list = self.vector_db_retriever.search_by_text(user_query, k=4)\n",
        "\n",
        "        context_prompt = \"\"\n",
        "        for context in context_list:\n",
        "            context_prompt += context[0] + \"\\n\"\n",
        "\n",
        "        formatted_system_prompt = raqa_prompt.create_message()\n",
        "\n",
        "        formatted_user_prompt = user_prompt.create_message(user_query=user_query, context=context_prompt)\n",
        "\n",
        "        return self.llm.run([formatted_system_prompt, formatted_user_prompt])"
      ]
    },
    {
      "cell_type": "markdown",
      "metadata": {
        "id": "m09hoUW8ilBr"
      },
      "source": [
        "#### ❓QUESTION:\n",
        "\n",
        "What changes could you make that would encourage the LLM to have a more well thought out and verbose response?\n",
        "\n",
        "What is this method called?   Chain Of Thought"
      ]
    },
    {
      "cell_type": "code",
      "execution_count": null,
      "metadata": {
        "id": "MRC02xoxilBr"
      },
      "outputs": [],
      "source": [
        "retrieval_augmented_qa_pipeline = RetrievalAugmentedQAPipeline(\n",
        "    vector_db_retriever=vector_db,\n",
        "    llm=chat_openai\n",
        ")"
      ]
    },
    {
      "cell_type": "code",
      "execution_count": null,
      "metadata": {
        "id": "PXr4CYy3ilBr",
        "outputId": "df6129c8-6bab-4c26-fff8-ae2cc2c5fe7c"
      },
      "outputs": [
        {
          "data": {
            "text/plain": [
              "'King Lear is a character from William Shakespeare\\'s play \"King Lear.\" He is a king of ancient Britain who decides to divide his kingdom among his three daughters based on their flattery of him. The play follows his descent into madness as he faces the consequences of his rash decision and betrayal by those he trusted.'"
            ]
          },
          "execution_count": 26,
          "metadata": {},
          "output_type": "execute_result"
        }
      ],
      "source": [
        "retrieval_augmented_qa_pipeline.run_pipeline(\"Who is King Lear?\")"
      ]
    },
    {
      "cell_type": "markdown",
      "metadata": {
        "id": "dGPJDcdyilBr"
      },
      "source": [
        "### Visibility Tooling\n",
        "\n",
        "This is great, but what if we wanted to add some visibility to our pipeline?\n",
        "\n",
        "Let's use Weights and Biases as a visibility tool!\n",
        "\n",
        "The first thing we'll need to do is create a Weights and Biases account and get an API key.\n",
        "\n",
        "You can follow the process outlined [here](https://docs.wandb.ai/quickstart) to do exactly that!"
      ]
    },
    {
      "cell_type": "markdown",
      "metadata": {
        "id": "7zC4AaryilBr"
      },
      "source": [
        "Now we can get the Weights and Biases dependency and add our key to our env. to begin!"
      ]
    },
    {
      "cell_type": "code",
      "execution_count": null,
      "metadata": {
        "id": "oSStCkdqilBr"
      },
      "outputs": [],
      "source": [
        "!pip install -q -U wandb"
      ]
    },
    {
      "cell_type": "code",
      "execution_count": null,
      "metadata": {
        "id": "64XJwti5ilBr"
      },
      "outputs": [],
      "source": [
        "wandb_key = getpass(\"Weights and Biases API Key: \")\n",
        "os.environ[\"WANDB_API_KEY\"] = wandb_key"
      ]
    },
    {
      "cell_type": "code",
      "execution_count": null,
      "metadata": {
        "id": "2KBd-GjiilBs",
        "outputId": "f1965a1e-e04d-4633-d19f-e715f939d661"
      },
      "outputs": [
        {
          "name": "stderr",
          "output_type": "stream",
          "text": [
            "\u001b[34m\u001b[1mwandb\u001b[0m: \u001b[33mWARNING\u001b[0m WANDB_NOTEBOOK_NAME should be a path to a notebook file, couldn't find Python RAQA Example.ipynb.\n",
            "\u001b[34m\u001b[1mwandb\u001b[0m: Currently logged in as: \u001b[33msparkyfina\u001b[0m. Use \u001b[1m`wandb login --relogin`\u001b[0m to force relogin\n"
          ]
        },
        {
          "data": {
            "text/html": [
              "Tracking run with wandb version 0.16.3"
            ],
            "text/plain": [
              "<IPython.core.display.HTML object>"
            ]
          },
          "metadata": {},
          "output_type": "display_data"
        },
        {
          "data": {
            "text/html": [
              "Run data is saved locally in <code>/home/sparky/dino-ai/code/AI-Engineering/Week 2/Day 1/wandb/run-20240227_105958-sux7itqf</code>"
            ],
            "text/plain": [
              "<IPython.core.display.HTML object>"
            ]
          },
          "metadata": {},
          "output_type": "display_data"
        },
        {
          "data": {
            "text/html": [
              "Syncing run <strong><a href='https://wandb.ai/sparkyfina/Visibility%20Example/runs/sux7itqf' target=\"_blank\">swift-wave-2</a></strong> to <a href='https://wandb.ai/sparkyfina/Visibility%20Example' target=\"_blank\">Weights & Biases</a> (<a href='https://wandb.me/run' target=\"_blank\">docs</a>)<br/>"
            ],
            "text/plain": [
              "<IPython.core.display.HTML object>"
            ]
          },
          "metadata": {},
          "output_type": "display_data"
        },
        {
          "data": {
            "text/html": [
              " View project at <a href='https://wandb.ai/sparkyfina/Visibility%20Example' target=\"_blank\">https://wandb.ai/sparkyfina/Visibility%20Example</a>"
            ],
            "text/plain": [
              "<IPython.core.display.HTML object>"
            ]
          },
          "metadata": {},
          "output_type": "display_data"
        },
        {
          "data": {
            "text/html": [
              " View run at <a href='https://wandb.ai/sparkyfina/Visibility%20Example/runs/sux7itqf' target=\"_blank\">https://wandb.ai/sparkyfina/Visibility%20Example/runs/sux7itqf</a>"
            ],
            "text/plain": [
              "<IPython.core.display.HTML object>"
            ]
          },
          "metadata": {},
          "output_type": "display_data"
        },
        {
          "data": {
            "text/html": [
              "<button onClick=\"this.nextSibling.style.display='block';this.style.display='none';\">Display W&B run</button><iframe src='https://wandb.ai/sparkyfina/Visibility%20Example/runs/sux7itqf?jupyter=true' style='border:none;width:100%;height:420px;display:none;'></iframe>"
            ],
            "text/plain": [
              "<wandb.sdk.wandb_run.Run at 0x7f736dfb7e50>"
            ]
          },
          "execution_count": 29,
          "metadata": {},
          "output_type": "execute_result"
        }
      ],
      "source": [
        "import wandb\n",
        "\n",
        "os.environ[\"WANDB_NOTEBOOK_NAME\"] = \"Python RAQA Example.ipynb\"\n",
        "wandb.init(project=\"Visibility Example\")"
      ]
    },
    {
      "cell_type": "markdown",
      "metadata": {
        "id": "IusIBUyNilBs"
      },
      "source": [
        "Now we can integrate Weights and Biases into our `RetrievalAugmentedQAPipeline`.\n",
        "\n",
        "```python\n",
        "if self.wandb_project:\n",
        "            root_span = Trace(\n",
        "                name=\"root_span\",\n",
        "                kind=\"llm\",\n",
        "                status_code=status,\n",
        "                status_message=status_message,\n",
        "                start_time_ms=start_time,\n",
        "                end_time_ms=end_time,\n",
        "                metadata={\n",
        "                    \"token_usage\" : token_usage\n",
        "                },\n",
        "                inputs= {\"system_prompt\" : formatted_system_prompt, \"user_prompt\" : formatted_user_prompt},\n",
        "                outputs= {\"response\" : response_text}\n",
        "            )\n",
        "\n",
        "            root_span.log(name=\"openai_trace\")\n",
        "```\n",
        "\n",
        "The main things to consider here are how to populate the various fields to make sure we're tracking useful information.\n",
        "\n",
        "We'll use the `text_only` flag to ensure we can get detailed information about our LLM call!\n",
        "\n",
        "You can check out all the parameters for Weights and Biases `Trace` [here](https://github.com/wandb/wandb/blob/653015a014281f45770aaf43627f64d9c4f04a32/wandb/sdk/data_types/trace_tree.py#L166)"
      ]
    },
    {
      "cell_type": "code",
      "execution_count": null,
      "metadata": {
        "id": "tx4zZpQeilBs"
      },
      "outputs": [],
      "source": [
        "import datetime\n",
        "from wandb.sdk.data_types.trace_tree import Trace\n",
        "\n",
        "class RetrievalAugmentedQAPipeline:\n",
        "    def __init__(self, llm: ChatOpenAI(), vector_db_retriever: VectorDatabase, wandb_project = None) -> None:\n",
        "        self.llm = llm\n",
        "        self.vector_db_retriever = vector_db_retriever\n",
        "        self.wandb_project = wandb_project\n",
        "\n",
        "    def run_pipeline(self, user_query: str) -> str:\n",
        "        context_list = self.vector_db_retriever.search_by_text(user_query, k=4)\n",
        "\n",
        "        context_prompt = \"\"\n",
        "        for context in context_list:\n",
        "            context_prompt += context[0] + \"\\n\"\n",
        "\n",
        "        formatted_system_prompt = raqa_prompt.create_message()\n",
        "\n",
        "        formatted_user_prompt = user_prompt.create_message(user_query=user_query, context=context_prompt)\n",
        "\n",
        "\n",
        "        start_time = datetime.datetime.now().timestamp() * 1000\n",
        "\n",
        "        try:\n",
        "            openai_response = self.llm.run([formatted_system_prompt, formatted_user_prompt], text_only=False)\n",
        "            end_time = datetime.datetime.now().timestamp() * 1000\n",
        "            status = \"success\"\n",
        "            status_message = (None, )\n",
        "            response_text = openai_response.choices[0].message.content\n",
        "            token_usage = dict(openai_response.usage)\n",
        "            model = openai_response.model\n",
        "\n",
        "        except Exception as e:\n",
        "            end_time = datetime.datetime.now().timestamp() * 1000\n",
        "            status = \"error\"\n",
        "            status_message = str(e)\n",
        "            response_text = \"\"\n",
        "            token_usage = {}\n",
        "            model = \"\"\n",
        "\n",
        "        if self.wandb_project:\n",
        "            root_span = Trace(\n",
        "                name=\"root_span\",\n",
        "                kind=\"llm\",\n",
        "                status_code=status,\n",
        "                status_message=status_message,\n",
        "                start_time_ms=start_time,\n",
        "                end_time_ms=end_time,\n",
        "                metadata={\n",
        "                    \"token_usage\" : token_usage,\n",
        "                    \"model_name\" : model\n",
        "                },\n",
        "                inputs= {\"system_prompt\" : formatted_system_prompt, \"user_prompt\" : formatted_user_prompt},\n",
        "                outputs= {\"response\" : response_text}\n",
        "            )\n",
        "\n",
        "            root_span.log(name=\"openai_trace\")\n",
        "\n",
        "        return response_text if response_text else \"We ran into an error. Please try again later. Full Error Message: \" + status_message"
      ]
    },
    {
      "cell_type": "code",
      "execution_count": null,
      "metadata": {
        "id": "G50dyj4lilBs"
      },
      "outputs": [],
      "source": [
        "retrieval_augmented_qa_pipeline = RetrievalAugmentedQAPipeline(\n",
        "    vector_db_retriever=vector_db,\n",
        "    llm=chat_openai,\n",
        "    wandb_project=\"LLM Visibility Example\"\n",
        ")"
      ]
    },
    {
      "cell_type": "code",
      "execution_count": null,
      "metadata": {
        "id": "ClOcqBo0ilBs",
        "outputId": "8da1c0c7-be6d-487f-eefa-53f8cbff8cb0"
      },
      "outputs": [
        {
          "data": {
            "text/plain": [
              "\"I don't know.\""
            ]
          },
          "execution_count": 33,
          "metadata": {},
          "output_type": "execute_result"
        }
      ],
      "source": [
        "retrieval_augmented_qa_pipeline.run_pipeline(\"Who is Batman?\")"
      ]
    },
    {
      "cell_type": "code",
      "execution_count": null,
      "metadata": {
        "id": "zmq3t4GDilBt",
        "outputId": "0e0eebe3-1255-4220-d0a6-74f68edf0ce8"
      },
      "outputs": [
        {
          "data": {
            "text/plain": [
              "'Cordelia is hanged in prison and made to take the blame for her own despair. This tragic event is revealed in the dialogue from the play that you have shared.'"
            ]
          },
          "execution_count": 34,
          "metadata": {},
          "output_type": "execute_result"
        }
      ],
      "source": [
        "retrieval_augmented_qa_pipeline.run_pipeline(\"What happens to Cordelia?\")"
      ]
    },
    {
      "cell_type": "code",
      "execution_count": null,
      "metadata": {
        "id": "JSLeta1oilBt",
        "outputId": "db71e750-e908-4f30-d45f-6ae01fca9b50"
      },
      "outputs": [
        {
          "name": "stderr",
          "output_type": "stream",
          "text": [
            "wandb: WARNING Source type is set to 'repo' but some required information is missing from the environment. A job will not be created from this run. See https://docs.wandb.ai/guides/launch/create-job\n"
          ]
        },
        {
          "data": {
            "text/html": [
              " View run <strong style=\"color:#cdcd00\">swift-wave-2</strong> at: <a href='https://wandb.ai/sparkyfina/Visibility%20Example/runs/sux7itqf' target=\"_blank\">https://wandb.ai/sparkyfina/Visibility%20Example/runs/sux7itqf</a><br/>Synced 5 W&B file(s), 0 media file(s), 0 artifact file(s) and 0 other file(s)"
            ],
            "text/plain": [
              "<IPython.core.display.HTML object>"
            ]
          },
          "metadata": {},
          "output_type": "display_data"
        },
        {
          "data": {
            "text/html": [
              "Find logs at: <code>./wandb/run-20240227_105958-sux7itqf/logs</code>"
            ],
            "text/plain": [
              "<IPython.core.display.HTML object>"
            ]
          },
          "metadata": {},
          "output_type": "display_data"
        }
      ],
      "source": [
        "wandb.finish()"
      ]
    },
    {
      "cell_type": "markdown",
      "metadata": {
        "id": "zOGRMMBSilBt"
      },
      "source": [
        "Navigate to the Weights and Biases \"run\" link to see how your LLM is performing!\n",
        "\n",
        "```\n",
        "View run at YOUR LINK HERE\n",
        "```"
      ]
    },
    {
      "cell_type": "markdown",
      "metadata": {
        "id": "TaB2_jEZilBt"
      },
      "source": [
        "#### ❓QUESTION:\n",
        "\n",
        "What is the `model_name` from the WandB `root_span` trace?\n",
        "### gpt-3.5-turbo-0125"
      ]
    },
    {
      "cell_type": "markdown",
      "metadata": {
        "id": "AJ13jOpRilBt"
      },
      "source": []
    },
    {
      "cell_type": "markdown",
      "metadata": {
        "id": "U-YBImHCilBt"
      },
      "source": [
        "# Conclusion\n",
        "\n",
        "In this notebook, we've gone through the steps required to create your own simple RAQA application!\n",
        "\n",
        "Please feel free to extend this as much as you'd like."
      ]
    }
  ],
  "metadata": {
    "kernelspec": {
      "display_name": "buildyourownlangchain",
      "language": "python",
      "name": "python3"
    },
    "language_info": {
      "codemirror_mode": {
        "name": "ipython",
        "version": 3
      },
      "file_extension": ".py",
      "mimetype": "text/x-python",
      "name": "python",
      "nbconvert_exporter": "python",
      "pygments_lexer": "ipython3",
      "version": "3.11.4"
    },
    "orig_nbformat": 4,
    "colab": {
      "provenance": [],
      "include_colab_link": true
    }
  },
  "nbformat": 4,
  "nbformat_minor": 0
}